{
 "cells": [
  {
   "cell_type": "code",
   "execution_count": null,
   "id": "16988d78-6481-466c-ab56-d3a93724f740",
   "metadata": {},
   "outputs": [
    {
     "name": "stdout",
     "output_type": "stream",
     "text": [
      "Enter the board size (e.g., 3 for 3x3, 4 for 4x4, etc.):  5\n"
     ]
    },
    {
     "name": "stdout",
     "output_type": "stream",
     "text": [
      "  |   |   |   |  \n",
      "-------------------\n",
      "  |   |   |   |  \n",
      "-------------------\n",
      "  |   |   |   |  \n",
      "-------------------\n",
      "  |   |   |   |  \n",
      "-------------------\n",
      "  |   |   |   |  \n",
      "-------------------\n"
     ]
    },
    {
     "name": "stdout",
     "output_type": "stream",
     "text": [
      "Player X, enter row (0-4):  1\n",
      "Player X, enter column (0-4):  2\n"
     ]
    },
    {
     "name": "stdout",
     "output_type": "stream",
     "text": [
      "  |   |   |   |  \n",
      "-------------------\n",
      "  |   | X |   |  \n",
      "-------------------\n",
      "  |   |   |   |  \n",
      "-------------------\n",
      "  |   |   |   |  \n",
      "-------------------\n",
      "  |   |   |   |  \n",
      "-------------------\n"
     ]
    },
    {
     "name": "stdout",
     "output_type": "stream",
     "text": [
      "Player O, enter row (0-4):  3\n",
      "Player O, enter column (0-4):  4\n"
     ]
    },
    {
     "name": "stdout",
     "output_type": "stream",
     "text": [
      "  |   |   |   |  \n",
      "-------------------\n",
      "  |   | X |   |  \n",
      "-------------------\n",
      "  |   |   |   |  \n",
      "-------------------\n",
      "  |   |   |   | O\n",
      "-------------------\n",
      "  |   |   |   |  \n",
      "-------------------\n"
     ]
    },
    {
     "name": "stdout",
     "output_type": "stream",
     "text": [
      "Player X, enter row (0-4):  1\n",
      "Player X, enter column (0-4):  2\n"
     ]
    },
    {
     "name": "stdout",
     "output_type": "stream",
     "text": [
      "Invalid move. Try again.\n"
     ]
    },
    {
     "name": "stdout",
     "output_type": "stream",
     "text": [
      "Player X, enter row (0-4):  1\n",
      "Player X, enter column (0-4):  3\n"
     ]
    },
    {
     "name": "stdout",
     "output_type": "stream",
     "text": [
      "  |   |   |   |  \n",
      "-------------------\n",
      "  |   | X | X |  \n",
      "-------------------\n",
      "  |   |   |   |  \n",
      "-------------------\n",
      "  |   |   |   | O\n",
      "-------------------\n",
      "  |   |   |   |  \n",
      "-------------------\n"
     ]
    },
    {
     "name": "stdout",
     "output_type": "stream",
     "text": [
      "Player O, enter row (0-4):  \n"
     ]
    },
    {
     "name": "stdout",
     "output_type": "stream",
     "text": [
      "Invalid input. Please enter numbers.\n"
     ]
    }
   ],
   "source": [
    "def print_board(board):\n",
    "    size = len(board)\n",
    "    for row in board:\n",
    "        print(\" | \".join(row))\n",
    "        print(\"-\" * (4 * size - 1))\n",
    "\n",
    "def check_winner(board, player):\n",
    "    size = len(board)\n",
    "    # Check rows and columns\n",
    "    for i in range(size):\n",
    "        if all(board[i][j] == player for j in range(size)) or \\\n",
    "           all(board[j][i] == player for j in range(size)):\n",
    "            return True\n",
    "    # Check diagonals\n",
    "    if all(board[i][i] == player for i in range(size)) or \\\n",
    "       all(board[i][size-1-i] == player for i in range(size)):\n",
    "        return True\n",
    "    return False\n",
    "\n",
    "def is_full(board):\n",
    "    return all(cell != \" \" for row in board for cell in row)\n",
    "\n",
    "def play_game():\n",
    "    while True:\n",
    "        try:\n",
    "            size = int(input(\"Enter the board size (e.g., 3 for 3x3, 4 for 4x4, etc.): \"))\n",
    "            if size < 3:\n",
    "                print(\"Board size must be at least 3. Please try again.\")\n",
    "            else:\n",
    "                break\n",
    "        except ValueError:\n",
    "            print(\"Invalid input. Please enter a number.\")\n",
    "\n",
    "    board = [[\" \" for _ in range(size)] for _ in range(size)]\n",
    "    current_player = \"X\"\n",
    "\n",
    "    while True:\n",
    "        print_board(board)\n",
    "        while True:\n",
    "            try:\n",
    "                row = int(input(f\"Player {current_player}, enter row (0-{size-1}): \"))\n",
    "                col = int(input(f\"Player {current_player}, enter column (0-{size-1}): \"))\n",
    "                if 0 <= row < size and 0 <= col < size and board[row][col] == \" \":\n",
    "                    break\n",
    "                else:\n",
    "                    print(\"Invalid move. Try again.\")\n",
    "            except ValueError:\n",
    "                print(\"Invalid input. Please enter numbers.\")\n",
    "\n",
    "        board[row][col] = current_player\n",
    "        if check_winner(board, current_player):\n",
    "            print_board(board)\n",
    "            print(f\"Player {current_player} wins!\")\n",
    "            break\n",
    "        elif is_full(board):\n",
    "            print_board(board)\n",
    "            print(\"It's a tie!\")\n",
    "            break\n",
    "        current_player = \"O\" if current_player == \"X\" else \"X\"\n",
    "\n",
    "if __name__ == \"__main__\":\n",
    "    play_game()"
   ]
  },
  {
   "cell_type": "code",
   "execution_count": null,
   "id": "7b41c850",
   "metadata": {},
   "outputs": [],
   "source": []
  },
  {
   "cell_type": "code",
   "execution_count": null,
   "id": "69c4eda9",
   "metadata": {},
   "outputs": [],
   "source": []
  }
 ],
 "metadata": {
  "kernelspec": {
   "display_name": "Python 3 (ipykernel)",
   "language": "python",
   "name": "python3"
  },
  "language_info": {
   "codemirror_mode": {
    "name": "ipython",
    "version": 3
   },
   "file_extension": ".py",
   "mimetype": "text/x-python",
   "name": "python",
   "nbconvert_exporter": "python",
   "pygments_lexer": "ipython3",
   "version": "3.12.0"
  }
 },
 "nbformat": 4,
 "nbformat_minor": 5
}
