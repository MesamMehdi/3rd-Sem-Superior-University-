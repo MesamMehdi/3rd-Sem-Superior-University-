{
 "cells": [
  {
   "cell_type": "markdown",
   "metadata": {},
   "source": [
    "A* Algorithm"
   ]
  },
  {
   "cell_type": "code",
   "execution_count": 4,
   "metadata": {},
   "outputs": [
    {
     "name": "stdout",
     "output_type": "stream",
     "text": [
      "Path found: [(0, 0), (0, 1), (0, 2), (1, 2), (2, 2), (2, 3), (2, 4), (3, 4), (4, 4)]\n"
     ]
    }
   ],
   "source": [
    "class Node:\n",
    "    def __init__(self, position, g=0, h=0, parent=None):\n",
    "        self.position = position\n",
    "        self.g = g  # Cost from start to current node\n",
    "        self.h = h  # Heuristic cost (estimated cost to goal)\n",
    "        self.f = g + h  # Total cost (g + h)\n",
    "        self.parent = parent  # Reference to parent node\n",
    "\n",
    "# Heuristic function: Manhattan distance\n",
    "def heuristic(current, goal):\n",
    "    return abs(current[0] - goal[0]) + abs(current[1] - goal[1])\n",
    "\n",
    "def a_star(start, goal, grid):\n",
    "    open_list = []\n",
    "    closed_list = []\n",
    "\n",
    "    start_node = Node(start)  # Create start node\n",
    "    goal_node = Node(goal)  # Create goal node\n",
    "\n",
    "    open_list.append(start_node)\n",
    "\n",
    "    while open_list:\n",
    "        current_node = min(open_list, key=lambda node: node.f)  # Select node with lowest f value\n",
    "\n",
    "        if current_node.position == goal_node.position:\n",
    "            path = []\n",
    "            while current_node is not None:\n",
    "                path.append(current_node.position)\n",
    "                current_node = current_node.parent\n",
    "            return path[::-1]  # Return reversed path (from start to goal)\n",
    "\n",
    "        open_list.remove(current_node)\n",
    "        closed_list.append(current_node)\n",
    "\n",
    "        # Possible movement directions (up, down, left, right)\n",
    "        neighbors = [(0, 1), (1, 0), (0, -1), (-1, 0)]\n",
    "        for move in neighbors:\n",
    "            neighbor_pos = (current_node.position[0] + move[0], current_node.position[1] + move[1])\n",
    "\n",
    "            if 0 <= neighbor_pos[0] < len(grid) and 0 <= neighbor_pos[1] < len(grid[0]) and grid[neighbor_pos[0]][neighbor_pos[1]] == 0:\n",
    "                if any(node.position == neighbor_pos for node in closed_list):\n",
    "                    continue\n",
    "\n",
    "                g_cost = current_node.g + 1\n",
    "                h_cost = heuristic(neighbor_pos, goal_node.position)\n",
    "                neighbor_node = Node(neighbor_pos, g=g_cost, h=h_cost, parent=current_node)\n",
    "\n",
    "                if any(node.position == neighbor_pos and node.g < neighbor_node.g for node in open_list):\n",
    "                    continue\n",
    "\n",
    "                open_list.append(neighbor_node)\n",
    "\n",
    "    return None  # Return None if no path is found\n",
    "\n",
    "# Example grid (0 = walkable, 1 = obstacle)\n",
    "grid = [\n",
    "    [0, 0, 0, 0, 1],\n",
    "    [0, 1, 0, 1, 0],\n",
    "    [0, 1, 0, 0, 0],\n",
    "    [0, 0, 1, 1, 0],\n",
    "    [1, 0, 0, 0, 0]\n",
    "]\n",
    "\n",
    "start = (0, 0)\n",
    "goal = (4, 4)\n",
    "\n",
    "path = a_star(start, goal, grid)\n",
    "if path:\n",
    "    print(\"Path found:\", path)\n",
    "else:\n",
    "    print(\"No path found\")\n"
   ]
  },
  {
   "cell_type": "code",
   "execution_count": null,
   "metadata": {},
   "outputs": [],
   "source": []
  }
 ],
 "metadata": {
  "kernelspec": {
   "display_name": "Python 3",
   "language": "python",
   "name": "python3"
  },
  "language_info": {
   "codemirror_mode": {
    "name": "ipython",
    "version": 3
   },
   "file_extension": ".py",
   "mimetype": "text/x-python",
   "name": "python",
   "nbconvert_exporter": "python",
   "pygments_lexer": "ipython3",
   "version": "3.12.0"
  }
 },
 "nbformat": 4,
 "nbformat_minor": 2
}
