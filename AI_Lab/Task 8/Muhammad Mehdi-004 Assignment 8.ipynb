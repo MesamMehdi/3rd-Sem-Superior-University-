{
 "cells": [
  {
   "cell_type": "markdown",
   "metadata": {},
   "source": [
    "Minmax Algorithm"
   ]
  },
  {
   "cell_type": "code",
   "execution_count": 1,
   "metadata": {},
   "outputs": [
    {
     "name": "stdout",
     "output_type": "stream",
     "text": [
      "The optimal value is: 12\n"
     ]
    }
   ],
   "source": [
    "def minimax(depth, node_index, is_maximizing, values, alpha, beta):\n",
    "    if depth == 0:\n",
    "        return values[node_index]\n",
    "\n",
    "    if is_maximizing:\n",
    "        best_value = float('-inf')\n",
    "        for i in range(2):\n",
    "            value = minimax(depth - 1, node_index * 2 + i, False, values, alpha, beta)\n",
    "            best_value = max(best_value, value)\n",
    "            alpha = max(alpha, best_value)\n",
    "            if beta <= alpha:\n",
    "                break\n",
    "        return best_value\n",
    "    else:\n",
    "        best_value = float('inf')\n",
    "        for i in range(2):\n",
    "            value = minimax(depth - 1, node_index * 2 + i, True, values, alpha, beta)\n",
    "            best_value = min(best_value, value)\n",
    "            beta = min(beta, best_value)\n",
    "            if beta <= alpha:\n",
    "                break\n",
    "        return best_value\n",
    "\n",
    "values = [3, 5, 2, 9, 12, 5, 23, 15]  # Leaf node values\n",
    "depth = 3  # Depth of the tree\n",
    "alpha = float('-inf')\n",
    "beta = float('inf')\n",
    "\n",
    "best_value = minimax(depth, 0, True, values, alpha, beta)\n",
    "print(\"The optimal value is:\", best_value)\n"
   ]
  },
  {
   "cell_type": "code",
   "execution_count": null,
   "metadata": {},
   "outputs": [],
   "source": []
  }
 ],
 "metadata": {
  "kernelspec": {
   "display_name": "Python 3",
   "language": "python",
   "name": "python3"
  },
  "language_info": {
   "codemirror_mode": {
    "name": "ipython",
    "version": 3
   },
   "file_extension": ".py",
   "mimetype": "text/x-python",
   "name": "python",
   "nbconvert_exporter": "python",
   "pygments_lexer": "ipython3",
   "version": "3.12.0"
  }
 },
 "nbformat": 4,
 "nbformat_minor": 2
}
