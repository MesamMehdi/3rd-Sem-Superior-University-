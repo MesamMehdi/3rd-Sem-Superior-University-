{
 "cells": [
  {
   "cell_type": "markdown",
   "metadata": {},
   "source": [
    "# Task 1: LUHN Algorithm"
   ]
  },
  {
   "cell_type": "code",
   "execution_count": 3,
   "metadata": {},
   "outputs": [
    {
     "name": "stdout",
     "output_type": "stream",
     "text": [
      "5590490222335810 is Valid.\n"
     ]
    }
   ],
   "source": [
    "def luhn_algorithm(number):\n",
    "    digits = list(map(int, number))\n",
    "\n",
    "    def double_and_subtract(n):\n",
    "        return n * 2 - 9 if n * 2 > 9 else n * 2\n",
    "\n",
    "    transformed_digits = [\n",
    "        double_and_subtract(digits[i]) if (len(digits) - i) % 2 == 0 else digits[i]\n",
    "        for i in range(len(digits) - 1)\n",
    "    ]\n",
    "\n",
    "    transformed_digits.append(digits[-1])\n",
    "    total_sum = sum(transformed_digits)\n",
    "    \n",
    "    # Check if the total sum is divisible by 10\n",
    "    if total_sum % 10 == 0:\n",
    "        print(f\"{number} is Valid.\")\n",
    "    else:\n",
    "        print(f\"{number} is Invalid.\")\n",
    "\n",
    "luhn_algorithm(\"\")\n",
    "\n"
   ]
  },
  {
   "cell_type": "markdown",
   "metadata": {},
   "source": [
    "# Task 2: Remove Punctuations without remove method"
   ]
  },
  {
   "cell_type": "code",
   "execution_count": 3,
   "metadata": {},
   "outputs": [
    {
     "name": "stdout",
     "output_type": "stream",
     "text": [
      "After remove:  Hurrah We have won the match\n"
     ]
    }
   ],
   "source": [
    "def remove_punctuation(user_input):\n",
    "    punctuations = '''!()-[]{};:'\",<>./?@#$%^&*_~'''\n",
    "    result = \"\"\n",
    "\n",
    "    for char in user_input:\n",
    "\n",
    "        if char not in punctuations:\n",
    "            result += char\n",
    "    print(\"After remove: \", result)\n",
    "    \n",
    "remove_punctuation(\"Hurrah! We have won the match\")\n"
   ]
  },
  {
   "cell_type": "markdown",
   "metadata": {},
   "source": [
    "# Task 3: Alphabetical Sort without sort method"
   ]
  },
  {
   "cell_type": "code",
   "execution_count": 2,
   "metadata": {},
   "outputs": [
    {
     "name": "stdout",
     "output_type": "stream",
     "text": [
      "  .IMadehim\n"
     ]
    }
   ],
   "source": [
    "def insertion_sort(s):\n",
    "    # Convert the string to a list of characters\n",
    "    chars = list(s)\n",
    "    \n",
    "    # Perform insertion sort\n",
    "    for i in range(1, len(chars)):\n",
    "        key = chars[i]\n",
    "        j = i - 1\n",
    "        while j >= 0 and key < chars[j]:\n",
    "            chars[j + 1] = chars[j]\n",
    "            j -= 1\n",
    "        chars[j + 1] = key\n",
    "    \n",
    "    # Convert the list of characters back to a string\n",
    "    return ''.join(chars)\n",
    "\n",
    "string = \"I am Mehdi.\"\n",
    "sorted_string = insertion_sort(string)\n",
    "print(sorted_string)\n"
   ]
  },
  {
   "cell_type": "code",
   "execution_count": null,
   "metadata": {},
   "outputs": [],
   "source": []
  }
 ],
 "metadata": {
  "kernelspec": {
   "display_name": "base",
   "language": "python",
   "name": "python3"
  },
  "language_info": {
   "codemirror_mode": {
    "name": "ipython",
    "version": 3
   },
   "file_extension": ".py",
   "mimetype": "text/x-python",
   "name": "python",
   "nbconvert_exporter": "python",
   "pygments_lexer": "ipython3",
   "version": "3.12.5"
  }
 },
 "nbformat": 4,
 "nbformat_minor": 2
}
