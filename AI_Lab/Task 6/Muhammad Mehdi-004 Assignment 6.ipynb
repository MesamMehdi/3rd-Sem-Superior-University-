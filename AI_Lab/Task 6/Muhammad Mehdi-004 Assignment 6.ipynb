{
 "cells": [
  {
   "cell_type": "markdown",
   "metadata": {},
   "source": [
    "BFS without Queue & without Node"
   ]
  },
  {
   "cell_type": "code",
   "execution_count": 1,
   "metadata": {},
   "outputs": [
    {
     "name": "stdout",
     "output_type": "stream",
     "text": [
      "A\n",
      "B\n",
      "C\n",
      "D\n",
      "E\n",
      "F\n"
     ]
    }
   ],
   "source": [
    "def bfs(graph, start):\n",
    "    visited = set()  \n",
    "    to_visit = [start]  \n",
    "    while to_visit:\n",
    "        node = to_visit.pop(0) \n",
    "        if node not in visited:\n",
    "            print(node)  \n",
    "            visited.add(node) \n",
    "        \n",
    "            # Add neighbors to the visit list if not visited\n",
    "            for neighbor in graph[node]:\n",
    "                if neighbor not in visited:\n",
    "                    to_visit.append(neighbor)\n",
    "\n",
    "# Graph structure\n",
    "graph = {\n",
    "    'A': ['B', 'C'],\n",
    "    'B': ['D', 'E'],\n",
    "    'C': ['F'],\n",
    "    'D': [],\n",
    "    'E': [],\n",
    "    'F': []\n",
    "}\n",
    "\n",
    "# Start BFS from node 'A'\n",
    "bfs(graph, 'A')\n"
   ]
  },
  {
   "cell_type": "markdown",
   "metadata": {},
   "source": [
    "BFS with Queue & Node"
   ]
  },
  {
   "cell_type": "code",
   "execution_count": 3,
   "metadata": {},
   "outputs": [
    {
     "name": "stdout",
     "output_type": "stream",
     "text": [
      "A\n",
      "B\n",
      "C\n",
      "D\n"
     ]
    }
   ],
   "source": [
    "# Node class for graph\n",
    "class Node:\n",
    "    def __init__(self, value):\n",
    "        self.value = value\n",
    "        self.neighbors = []\n",
    "\n",
    "    def add_neighbor(self, neighbor_node):\n",
    "        self.neighbors.append(neighbor_node)\n",
    "\n",
    "# BFS function using a queue\n",
    "def bfs_traversal(start_node):\n",
    "    visited = set()  \n",
    "    queue = [start_node]  \n",
    "\n",
    "    while queue:\n",
    "        node = queue.pop(0)  \n",
    "        if node not in visited:\n",
    "            print(node.value)  \n",
    "            visited.add(node)  \n",
    "\n",
    "            # Enqueue neighbors that haven't been visited yet\n",
    "            for neighbor in node.neighbors:\n",
    "                if neighbor not in visited:\n",
    "                    queue.append(neighbor)\n",
    "\n",
    "# Creating nodes\n",
    "nodeA = Node('A')\n",
    "nodeB = Node('B')\n",
    "nodeC = Node('C')\n",
    "nodeD = Node('D')\n",
    "\n",
    "# Defining the graph connections\n",
    "nodeA.add_neighbor(nodeB)\n",
    "nodeA.add_neighbor(nodeC)\n",
    "nodeB.add_neighbor(nodeD)\n",
    "\n",
    "# Perform BFS starting from nodeA\n",
    "bfs_traversal(nodeA)\n"
   ]
  },
  {
   "cell_type": "code",
   "execution_count": null,
   "metadata": {},
   "outputs": [],
   "source": []
  }
 ],
 "metadata": {
  "kernelspec": {
   "display_name": "Python 3",
   "language": "python",
   "name": "python3"
  },
  "language_info": {
   "codemirror_mode": {
    "name": "ipython",
    "version": 3
   },
   "file_extension": ".py",
   "mimetype": "text/x-python",
   "name": "python",
   "nbconvert_exporter": "python",
   "pygments_lexer": "ipython3",
   "version": "3.12.0"
  }
 },
 "nbformat": 4,
 "nbformat_minor": 2
}
