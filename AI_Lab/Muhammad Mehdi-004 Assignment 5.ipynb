{
 "cells": [
  {
   "cell_type": "markdown",
   "metadata": {},
   "source": [
    "DFS with Stack & Node"
   ]
  },
  {
   "cell_type": "code",
   "execution_count": 2,
   "metadata": {},
   "outputs": [
    {
     "name": "stdout",
     "output_type": "stream",
     "text": [
      "A\n",
      "B\n",
      "D\n",
      "C\n"
     ]
    }
   ],
   "source": [
    "# Node class\n",
    "class Node:\n",
    "    def __init__(self, value):\n",
    "        self.value = value\n",
    "        self.neighbors = []\n",
    "\n",
    "    def add_neighbor(self, node):\n",
    "        self.neighbors.append(node)\n",
    "\n",
    "# DFS function using Stack\n",
    "def dfs_with_stack(start_node):\n",
    "    visited = set()\n",
    "    stack = [start_node]\n",
    "\n",
    "    while stack:\n",
    "        node = stack.pop()\n",
    "        if node not in visited:\n",
    "            print(node.value)\n",
    "            visited.add(node)\n",
    "\n",
    "            # Adding neighbors in reverse order to maintain the original DFS order\n",
    "            stack.extend(reversed(node.neighbors))\n",
    "\n",
    "# Creating nodes\n",
    "nodeA = Node('A')\n",
    "nodeB = Node('B')\n",
    "nodeC = Node('C')\n",
    "nodeD = Node('D')\n",
    "\n",
    "# Adding neighbors\n",
    "nodeA.add_neighbor(nodeB)\n",
    "nodeA.add_neighbor(nodeC)\n",
    "nodeB.add_neighbor(nodeD)\n",
    "\n",
    "# Calling DFS\n",
    "dfs_with_stack(nodeA)\n"
   ]
  },
  {
   "cell_type": "markdown",
   "metadata": {},
   "source": [
    "Inorder, Preorder, Postorder Traversals Using DFS\n"
   ]
  },
  {
   "cell_type": "code",
   "execution_count": 6,
   "metadata": {},
   "outputs": [
    {
     "name": "stdout",
     "output_type": "stream",
     "text": [
      "Preorder Traversal:\n",
      "A B D E C F G \n",
      "Inorder Traversal:\n",
      "D B E A F C G \n",
      "Postorder Traversal:\n",
      "D E B F G C A "
     ]
    }
   ],
   "source": [
    "# Binary Tree Node class\n",
    "class Node:\n",
    "    def __init__(self, value):\n",
    "        self.value = value\n",
    "        self.left = None\n",
    "        self.right = None\n",
    "\n",
    "# Preorder Traversal (Root -> Left -> Right)\n",
    "def preorder_traversal(node):\n",
    "    if node:\n",
    "        print(node.value, end=\" \")  \n",
    "        preorder_traversal(node.left) \n",
    "        preorder_traversal(node.right)  \n",
    "\n",
    "# Inorder Traversal (Left -> Root -> Right)\n",
    "def inorder_traversal(node):\n",
    "    if node:\n",
    "        inorder_traversal(node.left) \n",
    "        print(node.value, end=\" \")  \n",
    "        inorder_traversal(node.right)  \n",
    "\n",
    "# Postorder Traversal (Left -> Right -> Root)\n",
    "def postorder_traversal(node):\n",
    "    if node:\n",
    "        postorder_traversal(node.left)  \n",
    "        postorder_traversal(node.right) \n",
    "        print(node.value, end=\" \")  \n",
    "# Building the binary tree\n",
    "root = Node('A')\n",
    "root.left = Node('B')\n",
    "root.right = Node('C')\n",
    "root.left.left = Node('D')\n",
    "root.left.right = Node('E')\n",
    "root.right.left = Node('F')\n",
    "root.right.right = Node('G')\n",
    "\n",
    "# Performing different traversals\n",
    "print(\"Preorder Traversal:\")\n",
    "preorder_traversal(root)\n",
    "\n",
    "print(\"\\nInorder Traversal:\")\n",
    "inorder_traversal(root)\n",
    "\n",
    "print(\"\\nPostorder Traversal:\")\n",
    "postorder_traversal(root)\n"
   ]
  },
  {
   "cell_type": "code",
   "execution_count": null,
   "metadata": {},
   "outputs": [],
   "source": []
  }
 ],
 "metadata": {
  "kernelspec": {
   "display_name": "Python 3",
   "language": "python",
   "name": "python3"
  },
  "language_info": {
   "codemirror_mode": {
    "name": "ipython",
    "version": 3
   },
   "file_extension": ".py",
   "mimetype": "text/x-python",
   "name": "python",
   "nbconvert_exporter": "python",
   "pygments_lexer": "ipython3",
   "version": "3.12.0"
  }
 },
 "nbformat": 4,
 "nbformat_minor": 2
}
