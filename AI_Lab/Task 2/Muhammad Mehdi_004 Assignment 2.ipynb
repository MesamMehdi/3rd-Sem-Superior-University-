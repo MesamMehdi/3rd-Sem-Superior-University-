{
 "cells": [
  {
   "cell_type": "markdown",
   "id": "75e76600-3d08-4dfa-a4ee-976e70ceaac5",
   "metadata": {},
   "source": [
    "# Task1:\n"
   ]
  },
  {
   "cell_type": "code",
   "execution_count": 1,
   "id": "49611ab1-47e7-4b4d-b9ed-6cd73727c246",
   "metadata": {
    "scrolled": true
   },
   "outputs": [
    {
     "name": "stdout",
     "output_type": "stream",
     "text": [
      "FIZZ\n",
      "FIZZ\n",
      "BUZZ\n",
      "Enter a Valid Integer\n",
      "Enter a Valid Integer\n"
     ]
    }
   ],
   "source": [
    "def FizzBuzz(num):\n",
    "    if num % 3 == 0 and num % 5 == 0:\n",
    "        print(\"FIZZ BUZZ\")\n",
    "    elif num % 3 == 0:\n",
    "        print(\"FIZZ\")\n",
    "    elif num % 5 == 0:\n",
    "        print(\"BUZZ\")\n",
    "    else:\n",
    "        print(\"Game Over!\")\n",
    "\n",
    "flag = True\n",
    "while flag:\n",
    "    try:\n",
    "        num = int(input(\"Enter a number: \"))\n",
    "    except ValueError:\n",
    "        print(\"Enter a Valid Integer\")\n",
    "        continue\n",
    "        \n",
    "    FizzBuzz(num)\n",
    "    \n",
    "    if num % 3 != 0 and num % 5 != 0:\n",
    "        choice = input(\"Do you want to Play Again? Y/N: \").strip().lower()\n",
    "        \n",
    "        if choice not in [\"y\", \"n\"]:\n",
    "            print(\"Must choose Y or N\")\n",
    "            continue\n",
    "        \n",
    "        elif choice == \"n\":\n",
    "            flag = False\n",
    "            print(\"Have a Nice Day!\")\n"
   ]
  },
  {
   "cell_type": "markdown",
   "id": "d0371bec-4ac2-4475-a7ba-377f018654d3",
   "metadata": {},
   "source": [
    "# Task2:"
   ]
  },
  {
   "cell_type": "code",
   "execution_count": 3,
   "id": "c97f31f4-46ba-401e-a3f4-03ebe2299f77",
   "metadata": {},
   "outputs": [
    {
     "name": "stdout",
     "output_type": "stream",
     "text": [
      "Average Budget of all movies: 190500000.0 \n",
      "\n",
      "Pirates of the Caribbean: On Stranger Tides budget is 188500000.0 higher than the average budget.\n",
      "\n",
      "Avengers: Age of Ultron budget is 174500000.0 higher than the average budget.\n",
      "\n",
      "Avengers: Endgame budget is 165500000.0 higher than the average budget.\n",
      "\n",
      "Incredibles 2 budget is 9500000.0 higher than the average budget.\n",
      "\n",
      "Movies with budget higher than the average budget:\n",
      "['Pirates of the Caribbean: On Stranger Tides', 'Avengers: Age of Ultron', 'Avengers: Endgame', 'Incredibles 2']\n",
      "\n",
      "No.of movies spent higher than the budget: 4\n"
     ]
    }
   ],
   "source": [
    "movies = [\n",
    "    (\"Eternal Sunshine of the Spotless Mind\", 20000000),\n",
    "    (\"Memento\", 9000000),\n",
    "    (\"Requiem for a Dream\", 4500000),\n",
    "    (\"Pirates of the Caribbean: On Stranger Tides\", 379000000),\n",
    "    (\"Avengers: Age of Ultron\", 365000000),\n",
    "    (\"Avengers: Endgame\", 356000000),\n",
    "    (\"Incredibles 2\", 200000000)\n",
    "]\n",
    "\n",
    "def average(movies): # --> Calculates average\n",
    "    average = None\n",
    "    budget_ls = [] \n",
    "    Sum = 0 \n",
    "    \n",
    "    for i in movies:\n",
    "        budget = i[-1]\n",
    "        budget_ls.append(budget) \n",
    "        Sum += budget\n",
    "        \n",
    "    average = Sum/len(budget_ls)\n",
    "    print(\"Average Budget of all movies:\", average, \"\\n\")\n",
    "    return average\n",
    "\n",
    "def check_budget(average):\n",
    "    result = None\n",
    "    movie_names = []\n",
    "    \n",
    "    for i in movies:\n",
    "        budget = i[-1]\n",
    "        name = i[0]\n",
    "        result = average - budget  # 10 - 20 = -10\n",
    "        if result < 0:\n",
    "            movie_names.append(name)\n",
    "            print(f\"{name} budget is {-result} higher than the average budget.\\n\") #-(-10) = 10\n",
    "        \n",
    "    print(f\"Movies with budget higher than the average budget:\\n{movie_names}\\n\")\n",
    "    print(\"No.of movies spent higher than the budget:\",len(movie_names))\n",
    "    \n",
    "\n",
    "average = average(movies)\n",
    "check_budget(average)\n",
    "                    \n",
    "        "
   ]
  },
  {
   "cell_type": "code",
   "execution_count": null,
   "id": "e7036139-1fa9-4e5c-919c-81163d0857c3",
   "metadata": {},
   "outputs": [],
   "source": []
  },
  {
   "cell_type": "code",
   "execution_count": null,
   "id": "440d8a00",
   "metadata": {},
   "outputs": [],
   "source": []
  }
 ],
 "metadata": {
  "kernelspec": {
   "display_name": "Python 3 (ipykernel)",
   "language": "python",
   "name": "python3"
  },
  "language_info": {
   "codemirror_mode": {
    "name": "ipython",
    "version": 3
   },
   "file_extension": ".py",
   "mimetype": "text/x-python",
   "name": "python",
   "nbconvert_exporter": "python",
   "pygments_lexer": "ipython3",
   "version": "3.12.0"
  }
 },
 "nbformat": 4,
 "nbformat_minor": 5
}
