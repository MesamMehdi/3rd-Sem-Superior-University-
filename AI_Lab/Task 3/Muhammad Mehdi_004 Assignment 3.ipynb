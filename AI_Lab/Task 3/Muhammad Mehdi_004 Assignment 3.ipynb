{
 "cells": [
  {
   "cell_type": "code",
   "execution_count": 14,
   "id": "f53f2da9",
   "metadata": {},
   "outputs": [],
   "source": [
    "# Model Based Reflex Agent\n",
    "class ModelBasedReflexAgent:\n",
    "    def __init__(self):\n",
    "        self.previous_heater_state = {}  # record of previous action for each room\n",
    "\n",
    "    def sense_temperature(self, room_id, room_temperature):\n",
    "        return room_temperature\n",
    "\n",
    "    def act(self, room_id, room_temperature):\n",
    "        if room_id not in self.previous_heater_state:\n",
    "            self.previous_heater_state[room_id] = False  # default heater state is off\n",
    "        \n",
    "        if room_temperature < 22:\n",
    "            if not self.previous_heater_state[room_id]:\n",
    "                print(f\"Turning on heater in room {room_id} (temperature: {room_temperature}°C)\")\n",
    "                self.previous_heater_state[room_id] = True\n",
    "                \n",
    "        elif room_temperature >= 22:\n",
    "            if self.previous_heater_state[room_id]:\n",
    "                print(f\"Turning off heater in room {room_id} (temperature: {room_temperature}°C)\")\n",
    "                self.previous_heater_state[room_id] = False\n"
   ]
  },
  {
   "cell_type": "code",
   "execution_count": 15,
   "id": "335e2be1",
   "metadata": {},
   "outputs": [
    {
     "name": "stdout",
     "output_type": "stream",
     "text": [
      "Turning on heater in room Living Room (temperature: 20°C)\n",
      "Turning on heater in room Kitchen (temperature: 18°C)\n"
     ]
    }
   ],
   "source": [
    "agent = ModelBasedReflexAgent()\n",
    "\n",
    "room_temperatures = {\n",
    "    'Living Room': 20,\n",
    "    'Bedroom': 23,\n",
    "    'Kitchen': 18\n",
    "}\n",
    "\n",
    "for room_id, temp in room_temperatures.items():\n",
    "    sensed_temperature = agent.sense_temperature(room_id, temp)\n",
    "    agent.act(room_id, sensed_temperature)"
   ]
  },
  {
   "cell_type": "code",
   "execution_count": 17,
   "id": "5132edce",
   "metadata": {},
   "outputs": [
    {
     "name": "stdout",
     "output_type": "stream",
     "text": [
      "Turning on heater in room Bedroom (temperature: 20°C)\n"
     ]
    }
   ],
   "source": [
    "room_temperatures_update = {\n",
    "    'Living Room': 20,\n",
    "    'Bedroom': 20,      \n",
    "    'Kitchen': 18      \n",
    "}\n",
    "for room_id, temp in room_temperatures_update.items():\n",
    "    sensed_temperature = agent.sense_temperature(room_id, temp)\n",
    "    agent.act(room_id, sensed_temperature)"
   ]
  }
 ],
 "metadata": {
  "kernelspec": {
   "display_name": "Python 3 (ipykernel)",
   "language": "python",
   "name": "python3"
  },
  "language_info": {
   "codemirror_mode": {
    "name": "ipython",
    "version": 3
   },
   "file_extension": ".py",
   "mimetype": "text/x-python",
   "name": "python",
   "nbconvert_exporter": "python",
   "pygments_lexer": "ipython3",
   "version": "3.12.5"
  }
 },
 "nbformat": 4,
 "nbformat_minor": 5
}
