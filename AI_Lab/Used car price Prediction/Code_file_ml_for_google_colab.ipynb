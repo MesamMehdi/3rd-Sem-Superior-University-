{
 "cells": [
  {
   "cell_type": "code",
   "execution_count": 1,
   "id": "14de0d42-9812-4ef0-8902-a9cb0203c280",
   "metadata": {
    "colab": {
     "base_uri": "https://localhost:8080/"
    },
    "executionInfo": {
     "elapsed": 18509,
     "status": "ok",
     "timestamp": 1733149904379,
     "user": {
      "displayName": "Muhammad Jawad Ahsan",
      "userId": "00916696824243114753"
     },
     "user_tz": -300
    },
    "id": "14de0d42-9812-4ef0-8902-a9cb0203c280",
    "outputId": "b70e3495-d2b2-4e50-9d49-78cf4fb71fb9"
   },
   "outputs": [
    {
     "name": "stderr",
     "output_type": "stream",
     "text": [
      "/usr/local/lib/python3.10/dist-packages/dask/dataframe/__init__.py:42: FutureWarning: \n",
      "Dask dataframe query planning is disabled because dask-expr is not installed.\n",
      "\n",
      "You can install it with `pip install dask[dataframe]` or `conda install dask`.\n",
      "This will raise in a future version.\n",
      "\n",
      "  warnings.warn(msg, FutureWarning)\n"
     ]
    }
   ],
   "source": [
    "# Import lib...\n",
    "from google.colab import drive\n",
    "import numpy as np\n",
    "import pandas as pd\n",
    "import matplotlib.pyplot as plt\n",
    "import seaborn as sns\n",
    "from sklearn.decomposition import PCA\n",
    "from sklearn.preprocessing import StandardScaler\n",
    "from sklearn.model_selection import train_test_split, GridSearchCV, cross_val_score\n",
    "from sklearn.metrics import mean_squared_error, r2_score\n",
    "# Machine learning algorithms.\n",
    "from sklearn.linear_model import LinearRegression, BayesianRidge, Lasso\n",
    "from sklearn.tree import DecisionTreeRegressor\n",
    "from sklearn.ensemble import RandomForestRegressor, GradientBoostingRegressor\n",
    "import lightgbm as lgb"
   ]
  },
  {
   "cell_type": "markdown",
   "id": "Jal__sGNOs3_",
   "metadata": {
    "id": "Jal__sGNOs3_"
   },
   "source": [
    "Descriptive analysis"
   ]
  },
  {
   "cell_type": "code",
   "execution_count": 2,
   "id": "Cq-aU4B0FD4f",
   "metadata": {
    "colab": {
     "base_uri": "https://localhost:8080/"
    },
    "executionInfo": {
     "elapsed": 22779,
     "status": "ok",
     "timestamp": 1733149933992,
     "user": {
      "displayName": "Muhammad Jawad Ahsan",
      "userId": "00916696824243114753"
     },
     "user_tz": -300
    },
    "id": "Cq-aU4B0FD4f",
    "outputId": "e85024f2-8f8f-4d61-b625-275b1bebd441"
   },
   "outputs": [
    {
     "name": "stdout",
     "output_type": "stream",
     "text": [
      "Mounted at /content/drive\n"
     ]
    }
   ],
   "source": [
    "drive.mount('/content/drive')"
   ]
  },
  {
   "cell_type": "code",
   "execution_count": 3,
   "id": "0d462f86-0bbf-4364-b83f-2b77f104eaf7",
   "metadata": {
    "colab": {
     "base_uri": "https://localhost:8080/",
     "height": 206
    },
    "executionInfo": {
     "elapsed": 1372,
     "status": "ok",
     "timestamp": 1733149939202,
     "user": {
      "displayName": "Muhammad Jawad Ahsan",
      "userId": "00916696824243114753"
     },
     "user_tz": -300
    },
    "id": "0d462f86-0bbf-4364-b83f-2b77f104eaf7",
    "outputId": "54a3da68-51e6-4c0b-be00-1d79cb178c05"
   },
   "outputs": [
    {
     "data": {
      "application/vnd.google.colaboratory.intrinsic+json": {
       "summary": "{\n  \"name\": \"df\",\n  \"rows\": 86120,\n  \"fields\": [\n    {\n      \"column\": \"Unnamed: 0\",\n      \"properties\": {\n        \"dtype\": \"number\",\n        \"std\": 24860,\n        \"min\": 0,\n        \"max\": 86119,\n        \"num_unique_values\": 86120,\n        \"samples\": [\n          83742,\n          57323,\n          76839\n        ],\n        \"semantic_type\": \"\",\n        \"description\": \"\"\n      }\n    },\n    {\n      \"column\": \"make\",\n      \"properties\": {\n        \"dtype\": \"category\",\n        \"num_unique_values\": 71,\n        \"samples\": [\n          \"FAW\",\n          \"Suzuki\",\n          \"Bentley\"\n        ],\n        \"semantic_type\": \"\",\n        \"description\": \"\"\n      }\n    },\n    {\n      \"column\": \"model\",\n      \"properties\": {\n        \"dtype\": \"category\",\n        \"num_unique_values\": 436,\n        \"samples\": [\n          \"Frontier\",\n          \"Clipper\",\n          \"Polo\"\n        ],\n        \"semantic_type\": \"\",\n        \"description\": \"\"\n      }\n    },\n    {\n      \"column\": \"city\",\n      \"properties\": {\n        \"dtype\": \"category\",\n        \"num_unique_values\": 321,\n        \"samples\": [\n          \"Other\",\n          \"Malakwal\",\n          \"Sanghar\"\n        ],\n        \"semantic_type\": \"\",\n        \"description\": \"\"\n      }\n    },\n    {\n      \"column\": \"year\",\n      \"properties\": {\n        \"dtype\": \"number\",\n        \"std\": 8,\n        \"min\": 1944,\n        \"max\": 2023,\n        \"num_unique_values\": 69,\n        \"samples\": [\n          2005,\n          2019,\n          1969\n        ],\n        \"semantic_type\": \"\",\n        \"description\": \"\"\n      }\n    },\n    {\n      \"column\": \"mileage\",\n      \"properties\": {\n        \"dtype\": \"number\",\n        \"std\": 87932,\n        \"min\": 1,\n        \"max\": 1000000,\n        \"num_unique_values\": 9421,\n        \"samples\": [\n          29350,\n          66072,\n          99736\n        ],\n        \"semantic_type\": \"\",\n        \"description\": \"\"\n      }\n    },\n    {\n      \"column\": \"Engine_displacement\",\n      \"properties\": {\n        \"dtype\": \"number\",\n        \"std\": 766.0872697297145,\n        \"min\": 0.0,\n        \"max\": 15000.0,\n        \"num_unique_values\": 189,\n        \"samples\": [\n          4799.0,\n          900.0,\n          1598.0\n        ],\n        \"semantic_type\": \"\",\n        \"description\": \"\"\n      }\n    },\n    {\n      \"column\": \"Battery\",\n      \"properties\": {\n        \"dtype\": \"number\",\n        \"std\": 207.89198594596215,\n        \"min\": 3.0,\n        \"max\": 2000.0,\n        \"num_unique_values\": 45,\n        \"samples\": [\n          71.0,\n          16.0,\n          93.4\n        ],\n        \"semantic_type\": \"\",\n        \"description\": \"\"\n      }\n    },\n    {\n      \"column\": \"Price_Rs\",\n      \"properties\": {\n        \"dtype\": \"number\",\n        \"std\": 9717304,\n        \"min\": -2147483648,\n        \"max\": 301500000,\n        \"num_unique_values\": 2324,\n        \"samples\": [\n          245000,\n          4339000,\n          424000\n        ],\n        \"semantic_type\": \"\",\n        \"description\": \"\"\n      }\n    }\n  ]\n}",
       "type": "dataframe",
       "variable_name": "df"
      },
      "text/html": [
       "\n",
       "  <div id=\"df-ee098f8a-1e29-4521-b1a8-893ee2c83813\" class=\"colab-df-container\">\n",
       "    <div>\n",
       "<style scoped>\n",
       "    .dataframe tbody tr th:only-of-type {\n",
       "        vertical-align: middle;\n",
       "    }\n",
       "\n",
       "    .dataframe tbody tr th {\n",
       "        vertical-align: top;\n",
       "    }\n",
       "\n",
       "    .dataframe thead th {\n",
       "        text-align: right;\n",
       "    }\n",
       "</style>\n",
       "<table border=\"1\" class=\"dataframe\">\n",
       "  <thead>\n",
       "    <tr style=\"text-align: right;\">\n",
       "      <th></th>\n",
       "      <th>Unnamed: 0</th>\n",
       "      <th>make</th>\n",
       "      <th>model</th>\n",
       "      <th>city</th>\n",
       "      <th>year</th>\n",
       "      <th>mileage</th>\n",
       "      <th>Engine_displacement</th>\n",
       "      <th>Battery</th>\n",
       "      <th>Price_Rs</th>\n",
       "    </tr>\n",
       "  </thead>\n",
       "  <tbody>\n",
       "    <tr>\n",
       "      <th>0</th>\n",
       "      <td>0</td>\n",
       "      <td>Suzuki</td>\n",
       "      <td>Alto</td>\n",
       "      <td>Lahore</td>\n",
       "      <td>2019</td>\n",
       "      <td>45744</td>\n",
       "      <td>660.0</td>\n",
       "      <td>NaN</td>\n",
       "      <td>3550000</td>\n",
       "    </tr>\n",
       "    <tr>\n",
       "      <th>1</th>\n",
       "      <td>1</td>\n",
       "      <td>Suzuki</td>\n",
       "      <td>Wagon</td>\n",
       "      <td>Lahore</td>\n",
       "      <td>2019</td>\n",
       "      <td>17583</td>\n",
       "      <td>660.0</td>\n",
       "      <td>NaN</td>\n",
       "      <td>3850000</td>\n",
       "    </tr>\n",
       "    <tr>\n",
       "      <th>2</th>\n",
       "      <td>2</td>\n",
       "      <td>Suzuki</td>\n",
       "      <td>Wagon</td>\n",
       "      <td>Lahore</td>\n",
       "      <td>2019</td>\n",
       "      <td>64085</td>\n",
       "      <td>660.0</td>\n",
       "      <td>NaN</td>\n",
       "      <td>3890000</td>\n",
       "    </tr>\n",
       "    <tr>\n",
       "      <th>3</th>\n",
       "      <td>3</td>\n",
       "      <td>Suzuki</td>\n",
       "      <td>Wagon</td>\n",
       "      <td>Lahore</td>\n",
       "      <td>2019</td>\n",
       "      <td>71281</td>\n",
       "      <td>660.0</td>\n",
       "      <td>NaN</td>\n",
       "      <td>3990000</td>\n",
       "    </tr>\n",
       "    <tr>\n",
       "      <th>4</th>\n",
       "      <td>4</td>\n",
       "      <td>Toyota</td>\n",
       "      <td>Aqua</td>\n",
       "      <td>Lahore</td>\n",
       "      <td>2020</td>\n",
       "      <td>19950</td>\n",
       "      <td>1500.0</td>\n",
       "      <td>NaN</td>\n",
       "      <td>3990000</td>\n",
       "    </tr>\n",
       "  </tbody>\n",
       "</table>\n",
       "</div>\n",
       "    <div class=\"colab-df-buttons\">\n",
       "\n",
       "  <div class=\"colab-df-container\">\n",
       "    <button class=\"colab-df-convert\" onclick=\"convertToInteractive('df-ee098f8a-1e29-4521-b1a8-893ee2c83813')\"\n",
       "            title=\"Convert this dataframe to an interactive table.\"\n",
       "            style=\"display:none;\">\n",
       "\n",
       "  <svg xmlns=\"http://www.w3.org/2000/svg\" height=\"24px\" viewBox=\"0 -960 960 960\">\n",
       "    <path d=\"M120-120v-720h720v720H120Zm60-500h600v-160H180v160Zm220 220h160v-160H400v160Zm0 220h160v-160H400v160ZM180-400h160v-160H180v160Zm440 0h160v-160H620v160ZM180-180h160v-160H180v160Zm440 0h160v-160H620v160Z\"/>\n",
       "  </svg>\n",
       "    </button>\n",
       "\n",
       "  <style>\n",
       "    .colab-df-container {\n",
       "      display:flex;\n",
       "      gap: 12px;\n",
       "    }\n",
       "\n",
       "    .colab-df-convert {\n",
       "      background-color: #E8F0FE;\n",
       "      border: none;\n",
       "      border-radius: 50%;\n",
       "      cursor: pointer;\n",
       "      display: none;\n",
       "      fill: #1967D2;\n",
       "      height: 32px;\n",
       "      padding: 0 0 0 0;\n",
       "      width: 32px;\n",
       "    }\n",
       "\n",
       "    .colab-df-convert:hover {\n",
       "      background-color: #E2EBFA;\n",
       "      box-shadow: 0px 1px 2px rgba(60, 64, 67, 0.3), 0px 1px 3px 1px rgba(60, 64, 67, 0.15);\n",
       "      fill: #174EA6;\n",
       "    }\n",
       "\n",
       "    .colab-df-buttons div {\n",
       "      margin-bottom: 4px;\n",
       "    }\n",
       "\n",
       "    [theme=dark] .colab-df-convert {\n",
       "      background-color: #3B4455;\n",
       "      fill: #D2E3FC;\n",
       "    }\n",
       "\n",
       "    [theme=dark] .colab-df-convert:hover {\n",
       "      background-color: #434B5C;\n",
       "      box-shadow: 0px 1px 3px 1px rgba(0, 0, 0, 0.15);\n",
       "      filter: drop-shadow(0px 1px 2px rgba(0, 0, 0, 0.3));\n",
       "      fill: #FFFFFF;\n",
       "    }\n",
       "  </style>\n",
       "\n",
       "    <script>\n",
       "      const buttonEl =\n",
       "        document.querySelector('#df-ee098f8a-1e29-4521-b1a8-893ee2c83813 button.colab-df-convert');\n",
       "      buttonEl.style.display =\n",
       "        google.colab.kernel.accessAllowed ? 'block' : 'none';\n",
       "\n",
       "      async function convertToInteractive(key) {\n",
       "        const element = document.querySelector('#df-ee098f8a-1e29-4521-b1a8-893ee2c83813');\n",
       "        const dataTable =\n",
       "          await google.colab.kernel.invokeFunction('convertToInteractive',\n",
       "                                                    [key], {});\n",
       "        if (!dataTable) return;\n",
       "\n",
       "        const docLinkHtml = 'Like what you see? Visit the ' +\n",
       "          '<a target=\"_blank\" href=https://colab.research.google.com/notebooks/data_table.ipynb>data table notebook</a>'\n",
       "          + ' to learn more about interactive tables.';\n",
       "        element.innerHTML = '';\n",
       "        dataTable['output_type'] = 'display_data';\n",
       "        await google.colab.output.renderOutput(dataTable, element);\n",
       "        const docLink = document.createElement('div');\n",
       "        docLink.innerHTML = docLinkHtml;\n",
       "        element.appendChild(docLink);\n",
       "      }\n",
       "    </script>\n",
       "  </div>\n",
       "\n",
       "\n",
       "<div id=\"df-ddebba8f-cdbc-4f12-a796-bdf412478e33\">\n",
       "  <button class=\"colab-df-quickchart\" onclick=\"quickchart('df-ddebba8f-cdbc-4f12-a796-bdf412478e33')\"\n",
       "            title=\"Suggest charts\"\n",
       "            style=\"display:none;\">\n",
       "\n",
       "<svg xmlns=\"http://www.w3.org/2000/svg\" height=\"24px\"viewBox=\"0 0 24 24\"\n",
       "     width=\"24px\">\n",
       "    <g>\n",
       "        <path d=\"M19 3H5c-1.1 0-2 .9-2 2v14c0 1.1.9 2 2 2h14c1.1 0 2-.9 2-2V5c0-1.1-.9-2-2-2zM9 17H7v-7h2v7zm4 0h-2V7h2v10zm4 0h-2v-4h2v4z\"/>\n",
       "    </g>\n",
       "</svg>\n",
       "  </button>\n",
       "\n",
       "<style>\n",
       "  .colab-df-quickchart {\n",
       "      --bg-color: #E8F0FE;\n",
       "      --fill-color: #1967D2;\n",
       "      --hover-bg-color: #E2EBFA;\n",
       "      --hover-fill-color: #174EA6;\n",
       "      --disabled-fill-color: #AAA;\n",
       "      --disabled-bg-color: #DDD;\n",
       "  }\n",
       "\n",
       "  [theme=dark] .colab-df-quickchart {\n",
       "      --bg-color: #3B4455;\n",
       "      --fill-color: #D2E3FC;\n",
       "      --hover-bg-color: #434B5C;\n",
       "      --hover-fill-color: #FFFFFF;\n",
       "      --disabled-bg-color: #3B4455;\n",
       "      --disabled-fill-color: #666;\n",
       "  }\n",
       "\n",
       "  .colab-df-quickchart {\n",
       "    background-color: var(--bg-color);\n",
       "    border: none;\n",
       "    border-radius: 50%;\n",
       "    cursor: pointer;\n",
       "    display: none;\n",
       "    fill: var(--fill-color);\n",
       "    height: 32px;\n",
       "    padding: 0;\n",
       "    width: 32px;\n",
       "  }\n",
       "\n",
       "  .colab-df-quickchart:hover {\n",
       "    background-color: var(--hover-bg-color);\n",
       "    box-shadow: 0 1px 2px rgba(60, 64, 67, 0.3), 0 1px 3px 1px rgba(60, 64, 67, 0.15);\n",
       "    fill: var(--button-hover-fill-color);\n",
       "  }\n",
       "\n",
       "  .colab-df-quickchart-complete:disabled,\n",
       "  .colab-df-quickchart-complete:disabled:hover {\n",
       "    background-color: var(--disabled-bg-color);\n",
       "    fill: var(--disabled-fill-color);\n",
       "    box-shadow: none;\n",
       "  }\n",
       "\n",
       "  .colab-df-spinner {\n",
       "    border: 2px solid var(--fill-color);\n",
       "    border-color: transparent;\n",
       "    border-bottom-color: var(--fill-color);\n",
       "    animation:\n",
       "      spin 1s steps(1) infinite;\n",
       "  }\n",
       "\n",
       "  @keyframes spin {\n",
       "    0% {\n",
       "      border-color: transparent;\n",
       "      border-bottom-color: var(--fill-color);\n",
       "      border-left-color: var(--fill-color);\n",
       "    }\n",
       "    20% {\n",
       "      border-color: transparent;\n",
       "      border-left-color: var(--fill-color);\n",
       "      border-top-color: var(--fill-color);\n",
       "    }\n",
       "    30% {\n",
       "      border-color: transparent;\n",
       "      border-left-color: var(--fill-color);\n",
       "      border-top-color: var(--fill-color);\n",
       "      border-right-color: var(--fill-color);\n",
       "    }\n",
       "    40% {\n",
       "      border-color: transparent;\n",
       "      border-right-color: var(--fill-color);\n",
       "      border-top-color: var(--fill-color);\n",
       "    }\n",
       "    60% {\n",
       "      border-color: transparent;\n",
       "      border-right-color: var(--fill-color);\n",
       "    }\n",
       "    80% {\n",
       "      border-color: transparent;\n",
       "      border-right-color: var(--fill-color);\n",
       "      border-bottom-color: var(--fill-color);\n",
       "    }\n",
       "    90% {\n",
       "      border-color: transparent;\n",
       "      border-bottom-color: var(--fill-color);\n",
       "    }\n",
       "  }\n",
       "</style>\n",
       "\n",
       "  <script>\n",
       "    async function quickchart(key) {\n",
       "      const quickchartButtonEl =\n",
       "        document.querySelector('#' + key + ' button');\n",
       "      quickchartButtonEl.disabled = true;  // To prevent multiple clicks.\n",
       "      quickchartButtonEl.classList.add('colab-df-spinner');\n",
       "      try {\n",
       "        const charts = await google.colab.kernel.invokeFunction(\n",
       "            'suggestCharts', [key], {});\n",
       "      } catch (error) {\n",
       "        console.error('Error during call to suggestCharts:', error);\n",
       "      }\n",
       "      quickchartButtonEl.classList.remove('colab-df-spinner');\n",
       "      quickchartButtonEl.classList.add('colab-df-quickchart-complete');\n",
       "    }\n",
       "    (() => {\n",
       "      let quickchartButtonEl =\n",
       "        document.querySelector('#df-ddebba8f-cdbc-4f12-a796-bdf412478e33 button');\n",
       "      quickchartButtonEl.style.display =\n",
       "        google.colab.kernel.accessAllowed ? 'block' : 'none';\n",
       "    })();\n",
       "  </script>\n",
       "</div>\n",
       "\n",
       "    </div>\n",
       "  </div>\n"
      ],
      "text/plain": [
       "   Unnamed: 0    make  model    city  year  mileage  Engine_displacement  \\\n",
       "0           0  Suzuki   Alto  Lahore  2019    45744                660.0   \n",
       "1           1  Suzuki  Wagon  Lahore  2019    17583                660.0   \n",
       "2           2  Suzuki  Wagon  Lahore  2019    64085                660.0   \n",
       "3           3  Suzuki  Wagon  Lahore  2019    71281                660.0   \n",
       "4           4  Toyota   Aqua  Lahore  2020    19950               1500.0   \n",
       "\n",
       "   Battery  Price_Rs  \n",
       "0      NaN   3550000  \n",
       "1      NaN   3850000  \n",
       "2      NaN   3890000  \n",
       "3      NaN   3990000  \n",
       "4      NaN   3990000  "
      ]
     },
     "execution_count": 3,
     "metadata": {},
     "output_type": "execute_result"
    }
   ],
   "source": [
    "# data_loading...\n",
    "# data_view...\n",
    "dataset_path = \"/content/drive/My Drive/Used_car_prediction_project/the_Used_Cars_Pakistan.csv\"\n",
    "df = pd.read_csv(dataset_path)\n",
    "df.head()"
   ]
  },
  {
   "cell_type": "code",
   "execution_count": null,
   "id": "9c822647-55bf-40ad-a1f2-11c33201c6f7",
   "metadata": {
    "colab": {
     "base_uri": "https://localhost:8080/",
     "height": 180
    },
    "executionInfo": {
     "elapsed": 439,
     "status": "ok",
     "timestamp": 1732892794948,
     "user": {
      "displayName": "Muhammad Jawad Ahsan",
      "userId": "00916696824243114753"
     },
     "user_tz": -300
    },
    "id": "9c822647-55bf-40ad-a1f2-11c33201c6f7",
    "outputId": "3b4e30d3-5896-4f6d-98fa-de1600760258"
   },
   "outputs": [
    {
     "data": {
      "application/vnd.google.colaboratory.intrinsic+json": {
       "summary": "{\n  \"name\": \"df\",\n  \"rows\": 86120,\n  \"fields\": [\n    {\n      \"column\": \"Unnamed: 0\",\n      \"properties\": {\n        \"dtype\": \"number\",\n        \"std\": 24860,\n        \"min\": 0,\n        \"max\": 86119,\n        \"num_unique_values\": 86120,\n        \"samples\": [\n          83742,\n          57323,\n          76839\n        ],\n        \"semantic_type\": \"\",\n        \"description\": \"\"\n      }\n    },\n    {\n      \"column\": \"make\",\n      \"properties\": {\n        \"dtype\": \"category\",\n        \"num_unique_values\": 71,\n        \"samples\": [\n          \"FAW\",\n          \"Suzuki\",\n          \"Bentley\"\n        ],\n        \"semantic_type\": \"\",\n        \"description\": \"\"\n      }\n    },\n    {\n      \"column\": \"model\",\n      \"properties\": {\n        \"dtype\": \"category\",\n        \"num_unique_values\": 436,\n        \"samples\": [\n          \"Frontier\",\n          \"Clipper\",\n          \"Polo\"\n        ],\n        \"semantic_type\": \"\",\n        \"description\": \"\"\n      }\n    },\n    {\n      \"column\": \"city\",\n      \"properties\": {\n        \"dtype\": \"category\",\n        \"num_unique_values\": 321,\n        \"samples\": [\n          \"Other\",\n          \"Malakwal\",\n          \"Sanghar\"\n        ],\n        \"semantic_type\": \"\",\n        \"description\": \"\"\n      }\n    },\n    {\n      \"column\": \"year\",\n      \"properties\": {\n        \"dtype\": \"number\",\n        \"std\": 8,\n        \"min\": 1944,\n        \"max\": 2023,\n        \"num_unique_values\": 69,\n        \"samples\": [\n          2005,\n          2019,\n          1969\n        ],\n        \"semantic_type\": \"\",\n        \"description\": \"\"\n      }\n    },\n    {\n      \"column\": \"mileage\",\n      \"properties\": {\n        \"dtype\": \"number\",\n        \"std\": 87932,\n        \"min\": 1,\n        \"max\": 1000000,\n        \"num_unique_values\": 9421,\n        \"samples\": [\n          29350,\n          66072,\n          99736\n        ],\n        \"semantic_type\": \"\",\n        \"description\": \"\"\n      }\n    },\n    {\n      \"column\": \"Engine_displacement\",\n      \"properties\": {\n        \"dtype\": \"number\",\n        \"std\": 766.0872697297145,\n        \"min\": 0.0,\n        \"max\": 15000.0,\n        \"num_unique_values\": 189,\n        \"samples\": [\n          4799.0,\n          900.0,\n          1598.0\n        ],\n        \"semantic_type\": \"\",\n        \"description\": \"\"\n      }\n    },\n    {\n      \"column\": \"Battery\",\n      \"properties\": {\n        \"dtype\": \"number\",\n        \"std\": 207.89198594596215,\n        \"min\": 3.0,\n        \"max\": 2000.0,\n        \"num_unique_values\": 45,\n        \"samples\": [\n          71.0,\n          16.0,\n          93.4\n        ],\n        \"semantic_type\": \"\",\n        \"description\": \"\"\n      }\n    },\n    {\n      \"column\": \"Price_Rs\",\n      \"properties\": {\n        \"dtype\": \"number\",\n        \"std\": 9717304,\n        \"min\": -2147483648,\n        \"max\": 301500000,\n        \"num_unique_values\": 2324,\n        \"samples\": [\n          245000,\n          4339000,\n          424000\n        ],\n        \"semantic_type\": \"\",\n        \"description\": \"\"\n      }\n    }\n  ]\n}",
       "type": "dataframe",
       "variable_name": "df"
      },
      "text/html": [
       "\n",
       "  <div id=\"df-6e799584-725a-4f2e-b770-e9a4161f3c66\" class=\"colab-df-container\">\n",
       "    <div>\n",
       "<style scoped>\n",
       "    .dataframe tbody tr th:only-of-type {\n",
       "        vertical-align: middle;\n",
       "    }\n",
       "\n",
       "    .dataframe tbody tr th {\n",
       "        vertical-align: top;\n",
       "    }\n",
       "\n",
       "    .dataframe thead th {\n",
       "        text-align: right;\n",
       "    }\n",
       "</style>\n",
       "<table border=\"1\" class=\"dataframe\">\n",
       "  <thead>\n",
       "    <tr style=\"text-align: right;\">\n",
       "      <th></th>\n",
       "      <th>Unnamed: 0</th>\n",
       "      <th>make</th>\n",
       "      <th>model</th>\n",
       "      <th>city</th>\n",
       "      <th>year</th>\n",
       "      <th>mileage</th>\n",
       "      <th>Engine_displacement</th>\n",
       "      <th>Battery</th>\n",
       "      <th>Price_Rs</th>\n",
       "    </tr>\n",
       "  </thead>\n",
       "  <tbody>\n",
       "    <tr>\n",
       "      <th>0</th>\n",
       "      <td>0</td>\n",
       "      <td>Suzuki</td>\n",
       "      <td>Alto</td>\n",
       "      <td>Lahore</td>\n",
       "      <td>2019</td>\n",
       "      <td>45744</td>\n",
       "      <td>660.0</td>\n",
       "      <td>NaN</td>\n",
       "      <td>3550000</td>\n",
       "    </tr>\n",
       "    <tr>\n",
       "      <th>1</th>\n",
       "      <td>1</td>\n",
       "      <td>Suzuki</td>\n",
       "      <td>Wagon</td>\n",
       "      <td>Lahore</td>\n",
       "      <td>2019</td>\n",
       "      <td>17583</td>\n",
       "      <td>660.0</td>\n",
       "      <td>NaN</td>\n",
       "      <td>3850000</td>\n",
       "    </tr>\n",
       "    <tr>\n",
       "      <th>2</th>\n",
       "      <td>2</td>\n",
       "      <td>Suzuki</td>\n",
       "      <td>Wagon</td>\n",
       "      <td>Lahore</td>\n",
       "      <td>2019</td>\n",
       "      <td>64085</td>\n",
       "      <td>660.0</td>\n",
       "      <td>NaN</td>\n",
       "      <td>3890000</td>\n",
       "    </tr>\n",
       "  </tbody>\n",
       "</table>\n",
       "</div>\n",
       "    <div class=\"colab-df-buttons\">\n",
       "\n",
       "  <div class=\"colab-df-container\">\n",
       "    <button class=\"colab-df-convert\" onclick=\"convertToInteractive('df-6e799584-725a-4f2e-b770-e9a4161f3c66')\"\n",
       "            title=\"Convert this dataframe to an interactive table.\"\n",
       "            style=\"display:none;\">\n",
       "\n",
       "  <svg xmlns=\"http://www.w3.org/2000/svg\" height=\"24px\" viewBox=\"0 -960 960 960\">\n",
       "    <path d=\"M120-120v-720h720v720H120Zm60-500h600v-160H180v160Zm220 220h160v-160H400v160Zm0 220h160v-160H400v160ZM180-400h160v-160H180v160Zm440 0h160v-160H620v160ZM180-180h160v-160H180v160Zm440 0h160v-160H620v160Z\"/>\n",
       "  </svg>\n",
       "    </button>\n",
       "\n",
       "  <style>\n",
       "    .colab-df-container {\n",
       "      display:flex;\n",
       "      gap: 12px;\n",
       "    }\n",
       "\n",
       "    .colab-df-convert {\n",
       "      background-color: #E8F0FE;\n",
       "      border: none;\n",
       "      border-radius: 50%;\n",
       "      cursor: pointer;\n",
       "      display: none;\n",
       "      fill: #1967D2;\n",
       "      height: 32px;\n",
       "      padding: 0 0 0 0;\n",
       "      width: 32px;\n",
       "    }\n",
       "\n",
       "    .colab-df-convert:hover {\n",
       "      background-color: #E2EBFA;\n",
       "      box-shadow: 0px 1px 2px rgba(60, 64, 67, 0.3), 0px 1px 3px 1px rgba(60, 64, 67, 0.15);\n",
       "      fill: #174EA6;\n",
       "    }\n",
       "\n",
       "    .colab-df-buttons div {\n",
       "      margin-bottom: 4px;\n",
       "    }\n",
       "\n",
       "    [theme=dark] .colab-df-convert {\n",
       "      background-color: #3B4455;\n",
       "      fill: #D2E3FC;\n",
       "    }\n",
       "\n",
       "    [theme=dark] .colab-df-convert:hover {\n",
       "      background-color: #434B5C;\n",
       "      box-shadow: 0px 1px 3px 1px rgba(0, 0, 0, 0.15);\n",
       "      filter: drop-shadow(0px 1px 2px rgba(0, 0, 0, 0.3));\n",
       "      fill: #FFFFFF;\n",
       "    }\n",
       "  </style>\n",
       "\n",
       "    <script>\n",
       "      const buttonEl =\n",
       "        document.querySelector('#df-6e799584-725a-4f2e-b770-e9a4161f3c66 button.colab-df-convert');\n",
       "      buttonEl.style.display =\n",
       "        google.colab.kernel.accessAllowed ? 'block' : 'none';\n",
       "\n",
       "      async function convertToInteractive(key) {\n",
       "        const element = document.querySelector('#df-6e799584-725a-4f2e-b770-e9a4161f3c66');\n",
       "        const dataTable =\n",
       "          await google.colab.kernel.invokeFunction('convertToInteractive',\n",
       "                                                    [key], {});\n",
       "        if (!dataTable) return;\n",
       "\n",
       "        const docLinkHtml = 'Like what you see? Visit the ' +\n",
       "          '<a target=\"_blank\" href=https://colab.research.google.com/notebooks/data_table.ipynb>data table notebook</a>'\n",
       "          + ' to learn more about interactive tables.';\n",
       "        element.innerHTML = '';\n",
       "        dataTable['output_type'] = 'display_data';\n",
       "        await google.colab.output.renderOutput(dataTable, element);\n",
       "        const docLink = document.createElement('div');\n",
       "        docLink.innerHTML = docLinkHtml;\n",
       "        element.appendChild(docLink);\n",
       "      }\n",
       "    </script>\n",
       "  </div>\n",
       "\n",
       "\n",
       "<div id=\"df-93b87d92-04f6-4f46-812d-c6d8c5109089\">\n",
       "  <button class=\"colab-df-quickchart\" onclick=\"quickchart('df-93b87d92-04f6-4f46-812d-c6d8c5109089')\"\n",
       "            title=\"Suggest charts\"\n",
       "            style=\"display:none;\">\n",
       "\n",
       "<svg xmlns=\"http://www.w3.org/2000/svg\" height=\"24px\"viewBox=\"0 0 24 24\"\n",
       "     width=\"24px\">\n",
       "    <g>\n",
       "        <path d=\"M19 3H5c-1.1 0-2 .9-2 2v14c0 1.1.9 2 2 2h14c1.1 0 2-.9 2-2V5c0-1.1-.9-2-2-2zM9 17H7v-7h2v7zm4 0h-2V7h2v10zm4 0h-2v-4h2v4z\"/>\n",
       "    </g>\n",
       "</svg>\n",
       "  </button>\n",
       "\n",
       "<style>\n",
       "  .colab-df-quickchart {\n",
       "      --bg-color: #E8F0FE;\n",
       "      --fill-color: #1967D2;\n",
       "      --hover-bg-color: #E2EBFA;\n",
       "      --hover-fill-color: #174EA6;\n",
       "      --disabled-fill-color: #AAA;\n",
       "      --disabled-bg-color: #DDD;\n",
       "  }\n",
       "\n",
       "  [theme=dark] .colab-df-quickchart {\n",
       "      --bg-color: #3B4455;\n",
       "      --fill-color: #D2E3FC;\n",
       "      --hover-bg-color: #434B5C;\n",
       "      --hover-fill-color: #FFFFFF;\n",
       "      --disabled-bg-color: #3B4455;\n",
       "      --disabled-fill-color: #666;\n",
       "  }\n",
       "\n",
       "  .colab-df-quickchart {\n",
       "    background-color: var(--bg-color);\n",
       "    border: none;\n",
       "    border-radius: 50%;\n",
       "    cursor: pointer;\n",
       "    display: none;\n",
       "    fill: var(--fill-color);\n",
       "    height: 32px;\n",
       "    padding: 0;\n",
       "    width: 32px;\n",
       "  }\n",
       "\n",
       "  .colab-df-quickchart:hover {\n",
       "    background-color: var(--hover-bg-color);\n",
       "    box-shadow: 0 1px 2px rgba(60, 64, 67, 0.3), 0 1px 3px 1px rgba(60, 64, 67, 0.15);\n",
       "    fill: var(--button-hover-fill-color);\n",
       "  }\n",
       "\n",
       "  .colab-df-quickchart-complete:disabled,\n",
       "  .colab-df-quickchart-complete:disabled:hover {\n",
       "    background-color: var(--disabled-bg-color);\n",
       "    fill: var(--disabled-fill-color);\n",
       "    box-shadow: none;\n",
       "  }\n",
       "\n",
       "  .colab-df-spinner {\n",
       "    border: 2px solid var(--fill-color);\n",
       "    border-color: transparent;\n",
       "    border-bottom-color: var(--fill-color);\n",
       "    animation:\n",
       "      spin 1s steps(1) infinite;\n",
       "  }\n",
       "\n",
       "  @keyframes spin {\n",
       "    0% {\n",
       "      border-color: transparent;\n",
       "      border-bottom-color: var(--fill-color);\n",
       "      border-left-color: var(--fill-color);\n",
       "    }\n",
       "    20% {\n",
       "      border-color: transparent;\n",
       "      border-left-color: var(--fill-color);\n",
       "      border-top-color: var(--fill-color);\n",
       "    }\n",
       "    30% {\n",
       "      border-color: transparent;\n",
       "      border-left-color: var(--fill-color);\n",
       "      border-top-color: var(--fill-color);\n",
       "      border-right-color: var(--fill-color);\n",
       "    }\n",
       "    40% {\n",
       "      border-color: transparent;\n",
       "      border-right-color: var(--fill-color);\n",
       "      border-top-color: var(--fill-color);\n",
       "    }\n",
       "    60% {\n",
       "      border-color: transparent;\n",
       "      border-right-color: var(--fill-color);\n",
       "    }\n",
       "    80% {\n",
       "      border-color: transparent;\n",
       "      border-right-color: var(--fill-color);\n",
       "      border-bottom-color: var(--fill-color);\n",
       "    }\n",
       "    90% {\n",
       "      border-color: transparent;\n",
       "      border-bottom-color: var(--fill-color);\n",
       "    }\n",
       "  }\n",
       "</style>\n",
       "\n",
       "  <script>\n",
       "    async function quickchart(key) {\n",
       "      const quickchartButtonEl =\n",
       "        document.querySelector('#' + key + ' button');\n",
       "      quickchartButtonEl.disabled = true;  // To prevent multiple clicks.\n",
       "      quickchartButtonEl.classList.add('colab-df-spinner');\n",
       "      try {\n",
       "        const charts = await google.colab.kernel.invokeFunction(\n",
       "            'suggestCharts', [key], {});\n",
       "      } catch (error) {\n",
       "        console.error('Error during call to suggestCharts:', error);\n",
       "      }\n",
       "      quickchartButtonEl.classList.remove('colab-df-spinner');\n",
       "      quickchartButtonEl.classList.add('colab-df-quickchart-complete');\n",
       "    }\n",
       "    (() => {\n",
       "      let quickchartButtonEl =\n",
       "        document.querySelector('#df-93b87d92-04f6-4f46-812d-c6d8c5109089 button');\n",
       "      quickchartButtonEl.style.display =\n",
       "        google.colab.kernel.accessAllowed ? 'block' : 'none';\n",
       "    })();\n",
       "  </script>\n",
       "</div>\n",
       "\n",
       "    </div>\n",
       "  </div>\n"
      ],
      "text/plain": [
       "   Unnamed: 0    make  model    city  year  mileage  Engine_displacement  \\\n",
       "0           0  Suzuki   Alto  Lahore  2019    45744                660.0   \n",
       "1           1  Suzuki  Wagon  Lahore  2019    17583                660.0   \n",
       "2           2  Suzuki  Wagon  Lahore  2019    64085                660.0   \n",
       "\n",
       "   Battery  Price_Rs  \n",
       "0      NaN   3550000  \n",
       "1      NaN   3850000  \n",
       "2      NaN   3890000  "
      ]
     },
     "execution_count": 4,
     "metadata": {},
     "output_type": "execute_result"
    }
   ],
   "source": [
    "# data_head\n",
    "df.head(3)"
   ]
  },
  {
   "cell_type": "code",
   "execution_count": null,
   "id": "576c9a33-2eb0-408d-9625-0b8e9c22b017",
   "metadata": {
    "colab": {
     "base_uri": "https://localhost:8080/",
     "height": 180
    },
    "executionInfo": {
     "elapsed": 21,
     "status": "ok",
     "timestamp": 1732892794949,
     "user": {
      "displayName": "Muhammad Jawad Ahsan",
      "userId": "00916696824243114753"
     },
     "user_tz": -300
    },
    "id": "576c9a33-2eb0-408d-9625-0b8e9c22b017",
    "outputId": "5fbbd3c9-04be-4f93-ee42-6ff7d26b74b4"
   },
   "outputs": [
    {
     "data": {
      "application/vnd.google.colaboratory.intrinsic+json": {
       "summary": "{\n  \"name\": \"df\",\n  \"rows\": 3,\n  \"fields\": [\n    {\n      \"column\": \"Unnamed: 0\",\n      \"properties\": {\n        \"dtype\": \"number\",\n        \"std\": 1,\n        \"min\": 86117,\n        \"max\": 86119,\n        \"num_unique_values\": 3,\n        \"samples\": [\n          86117,\n          86118,\n          86119\n        ],\n        \"semantic_type\": \"\",\n        \"description\": \"\"\n      }\n    },\n    {\n      \"column\": \"make\",\n      \"properties\": {\n        \"dtype\": \"string\",\n        \"num_unique_values\": 2,\n        \"samples\": [\n          \"Toyota\",\n          \"Suzuki\"\n        ],\n        \"semantic_type\": \"\",\n        \"description\": \"\"\n      }\n    },\n    {\n      \"column\": \"model\",\n      \"properties\": {\n        \"dtype\": \"string\",\n        \"num_unique_values\": 3,\n        \"samples\": [\n          \"Bolan\",\n          \"Passo\"\n        ],\n        \"semantic_type\": \"\",\n        \"description\": \"\"\n      }\n    },\n    {\n      \"column\": \"city\",\n      \"properties\": {\n        \"dtype\": \"string\",\n        \"num_unique_values\": 3,\n        \"samples\": [\n          \"Islamabad\",\n          \"Karachi\"\n        ],\n        \"semantic_type\": \"\",\n        \"description\": \"\"\n      }\n    },\n    {\n      \"column\": \"year\",\n      \"properties\": {\n        \"dtype\": \"number\",\n        \"std\": 4,\n        \"min\": 2008,\n        \"max\": 2017,\n        \"num_unique_values\": 3,\n        \"samples\": [\n          2017,\n          2010\n        ],\n        \"semantic_type\": \"\",\n        \"description\": \"\"\n      }\n    },\n    {\n      \"column\": \"mileage\",\n      \"properties\": {\n        \"dtype\": \"number\",\n        \"std\": 25609,\n        \"min\": 44740,\n        \"max\": 94890,\n        \"num_unique_values\": 3,\n        \"samples\": [\n          44740,\n          94890\n        ],\n        \"semantic_type\": \"\",\n        \"description\": \"\"\n      }\n    },\n    {\n      \"column\": \"Engine_displacement\",\n      \"properties\": {\n        \"dtype\": \"number\",\n        \"std\": 115.47005383792515,\n        \"min\": 800.0,\n        \"max\": 1000.0,\n        \"num_unique_values\": 2,\n        \"samples\": [\n          1000.0,\n          800.0\n        ],\n        \"semantic_type\": \"\",\n        \"description\": \"\"\n      }\n    },\n    {\n      \"column\": \"Battery\",\n      \"properties\": {\n        \"dtype\": \"number\",\n        \"std\": null,\n        \"min\": null,\n        \"max\": null,\n        \"num_unique_values\": 0,\n        \"samples\": [],\n        \"semantic_type\": \"\",\n        \"description\": \"\"\n      }\n    },\n    {\n      \"column\": \"Price_Rs\",\n      \"properties\": {\n        \"dtype\": \"number\",\n        \"std\": 657799,\n        \"min\": 990000,\n        \"max\": 2300000,\n        \"num_unique_values\": 3,\n        \"samples\": [],\n        \"semantic_type\": \"\",\n        \"description\": \"\"\n      }\n    }\n  ]\n}",
       "type": "dataframe"
      },
      "text/html": [
       "\n",
       "  <div id=\"df-0bfa85e2-79d0-47cd-9df5-41c1a3014eb5\" class=\"colab-df-container\">\n",
       "    <div>\n",
       "<style scoped>\n",
       "    .dataframe tbody tr th:only-of-type {\n",
       "        vertical-align: middle;\n",
       "    }\n",
       "\n",
       "    .dataframe tbody tr th {\n",
       "        vertical-align: top;\n",
       "    }\n",
       "\n",
       "    .dataframe thead th {\n",
       "        text-align: right;\n",
       "    }\n",
       "</style>\n",
       "<table border=\"1\" class=\"dataframe\">\n",
       "  <thead>\n",
       "    <tr style=\"text-align: right;\">\n",
       "      <th></th>\n",
       "      <th>Unnamed: 0</th>\n",
       "      <th>make</th>\n",
       "      <th>model</th>\n",
       "      <th>city</th>\n",
       "      <th>year</th>\n",
       "      <th>mileage</th>\n",
       "      <th>Engine_displacement</th>\n",
       "      <th>Battery</th>\n",
       "      <th>Price_Rs</th>\n",
       "    </tr>\n",
       "  </thead>\n",
       "  <tbody>\n",
       "    <tr>\n",
       "      <th>86117</th>\n",
       "      <td>86117</td>\n",
       "      <td>Suzuki</td>\n",
       "      <td>Bolan</td>\n",
       "      <td>Islamabad</td>\n",
       "      <td>2017</td>\n",
       "      <td>44740</td>\n",
       "      <td>800.0</td>\n",
       "      <td>NaN</td>\n",
       "      <td>1750000</td>\n",
       "    </tr>\n",
       "    <tr>\n",
       "      <th>86118</th>\n",
       "      <td>86118</td>\n",
       "      <td>Toyota</td>\n",
       "      <td>Passo</td>\n",
       "      <td>Karachi</td>\n",
       "      <td>2010</td>\n",
       "      <td>94890</td>\n",
       "      <td>1000.0</td>\n",
       "      <td>NaN</td>\n",
       "      <td>2300000</td>\n",
       "    </tr>\n",
       "    <tr>\n",
       "      <th>86119</th>\n",
       "      <td>86119</td>\n",
       "      <td>Suzuki</td>\n",
       "      <td>Cultus</td>\n",
       "      <td>Lahore</td>\n",
       "      <td>2008</td>\n",
       "      <td>60800</td>\n",
       "      <td>1000.0</td>\n",
       "      <td>NaN</td>\n",
       "      <td>990000</td>\n",
       "    </tr>\n",
       "  </tbody>\n",
       "</table>\n",
       "</div>\n",
       "    <div class=\"colab-df-buttons\">\n",
       "\n",
       "  <div class=\"colab-df-container\">\n",
       "    <button class=\"colab-df-convert\" onclick=\"convertToInteractive('df-0bfa85e2-79d0-47cd-9df5-41c1a3014eb5')\"\n",
       "            title=\"Convert this dataframe to an interactive table.\"\n",
       "            style=\"display:none;\">\n",
       "\n",
       "  <svg xmlns=\"http://www.w3.org/2000/svg\" height=\"24px\" viewBox=\"0 -960 960 960\">\n",
       "    <path d=\"M120-120v-720h720v720H120Zm60-500h600v-160H180v160Zm220 220h160v-160H400v160Zm0 220h160v-160H400v160ZM180-400h160v-160H180v160Zm440 0h160v-160H620v160ZM180-180h160v-160H180v160Zm440 0h160v-160H620v160Z\"/>\n",
       "  </svg>\n",
       "    </button>\n",
       "\n",
       "  <style>\n",
       "    .colab-df-container {\n",
       "      display:flex;\n",
       "      gap: 12px;\n",
       "    }\n",
       "\n",
       "    .colab-df-convert {\n",
       "      background-color: #E8F0FE;\n",
       "      border: none;\n",
       "      border-radius: 50%;\n",
       "      cursor: pointer;\n",
       "      display: none;\n",
       "      fill: #1967D2;\n",
       "      height: 32px;\n",
       "      padding: 0 0 0 0;\n",
       "      width: 32px;\n",
       "    }\n",
       "\n",
       "    .colab-df-convert:hover {\n",
       "      background-color: #E2EBFA;\n",
       "      box-shadow: 0px 1px 2px rgba(60, 64, 67, 0.3), 0px 1px 3px 1px rgba(60, 64, 67, 0.15);\n",
       "      fill: #174EA6;\n",
       "    }\n",
       "\n",
       "    .colab-df-buttons div {\n",
       "      margin-bottom: 4px;\n",
       "    }\n",
       "\n",
       "    [theme=dark] .colab-df-convert {\n",
       "      background-color: #3B4455;\n",
       "      fill: #D2E3FC;\n",
       "    }\n",
       "\n",
       "    [theme=dark] .colab-df-convert:hover {\n",
       "      background-color: #434B5C;\n",
       "      box-shadow: 0px 1px 3px 1px rgba(0, 0, 0, 0.15);\n",
       "      filter: drop-shadow(0px 1px 2px rgba(0, 0, 0, 0.3));\n",
       "      fill: #FFFFFF;\n",
       "    }\n",
       "  </style>\n",
       "\n",
       "    <script>\n",
       "      const buttonEl =\n",
       "        document.querySelector('#df-0bfa85e2-79d0-47cd-9df5-41c1a3014eb5 button.colab-df-convert');\n",
       "      buttonEl.style.display =\n",
       "        google.colab.kernel.accessAllowed ? 'block' : 'none';\n",
       "\n",
       "      async function convertToInteractive(key) {\n",
       "        const element = document.querySelector('#df-0bfa85e2-79d0-47cd-9df5-41c1a3014eb5');\n",
       "        const dataTable =\n",
       "          await google.colab.kernel.invokeFunction('convertToInteractive',\n",
       "                                                    [key], {});\n",
       "        if (!dataTable) return;\n",
       "\n",
       "        const docLinkHtml = 'Like what you see? Visit the ' +\n",
       "          '<a target=\"_blank\" href=https://colab.research.google.com/notebooks/data_table.ipynb>data table notebook</a>'\n",
       "          + ' to learn more about interactive tables.';\n",
       "        element.innerHTML = '';\n",
       "        dataTable['output_type'] = 'display_data';\n",
       "        await google.colab.output.renderOutput(dataTable, element);\n",
       "        const docLink = document.createElement('div');\n",
       "        docLink.innerHTML = docLinkHtml;\n",
       "        element.appendChild(docLink);\n",
       "      }\n",
       "    </script>\n",
       "  </div>\n",
       "\n",
       "\n",
       "<div id=\"df-3d16ea82-3c93-4799-95ef-f65ee3e7268e\">\n",
       "  <button class=\"colab-df-quickchart\" onclick=\"quickchart('df-3d16ea82-3c93-4799-95ef-f65ee3e7268e')\"\n",
       "            title=\"Suggest charts\"\n",
       "            style=\"display:none;\">\n",
       "\n",
       "<svg xmlns=\"http://www.w3.org/2000/svg\" height=\"24px\"viewBox=\"0 0 24 24\"\n",
       "     width=\"24px\">\n",
       "    <g>\n",
       "        <path d=\"M19 3H5c-1.1 0-2 .9-2 2v14c0 1.1.9 2 2 2h14c1.1 0 2-.9 2-2V5c0-1.1-.9-2-2-2zM9 17H7v-7h2v7zm4 0h-2V7h2v10zm4 0h-2v-4h2v4z\"/>\n",
       "    </g>\n",
       "</svg>\n",
       "  </button>\n",
       "\n",
       "<style>\n",
       "  .colab-df-quickchart {\n",
       "      --bg-color: #E8F0FE;\n",
       "      --fill-color: #1967D2;\n",
       "      --hover-bg-color: #E2EBFA;\n",
       "      --hover-fill-color: #174EA6;\n",
       "      --disabled-fill-color: #AAA;\n",
       "      --disabled-bg-color: #DDD;\n",
       "  }\n",
       "\n",
       "  [theme=dark] .colab-df-quickchart {\n",
       "      --bg-color: #3B4455;\n",
       "      --fill-color: #D2E3FC;\n",
       "      --hover-bg-color: #434B5C;\n",
       "      --hover-fill-color: #FFFFFF;\n",
       "      --disabled-bg-color: #3B4455;\n",
       "      --disabled-fill-color: #666;\n",
       "  }\n",
       "\n",
       "  .colab-df-quickchart {\n",
       "    background-color: var(--bg-color);\n",
       "    border: none;\n",
       "    border-radius: 50%;\n",
       "    cursor: pointer;\n",
       "    display: none;\n",
       "    fill: var(--fill-color);\n",
       "    height: 32px;\n",
       "    padding: 0;\n",
       "    width: 32px;\n",
       "  }\n",
       "\n",
       "  .colab-df-quickchart:hover {\n",
       "    background-color: var(--hover-bg-color);\n",
       "    box-shadow: 0 1px 2px rgba(60, 64, 67, 0.3), 0 1px 3px 1px rgba(60, 64, 67, 0.15);\n",
       "    fill: var(--button-hover-fill-color);\n",
       "  }\n",
       "\n",
       "  .colab-df-quickchart-complete:disabled,\n",
       "  .colab-df-quickchart-complete:disabled:hover {\n",
       "    background-color: var(--disabled-bg-color);\n",
       "    fill: var(--disabled-fill-color);\n",
       "    box-shadow: none;\n",
       "  }\n",
       "\n",
       "  .colab-df-spinner {\n",
       "    border: 2px solid var(--fill-color);\n",
       "    border-color: transparent;\n",
       "    border-bottom-color: var(--fill-color);\n",
       "    animation:\n",
       "      spin 1s steps(1) infinite;\n",
       "  }\n",
       "\n",
       "  @keyframes spin {\n",
       "    0% {\n",
       "      border-color: transparent;\n",
       "      border-bottom-color: var(--fill-color);\n",
       "      border-left-color: var(--fill-color);\n",
       "    }\n",
       "    20% {\n",
       "      border-color: transparent;\n",
       "      border-left-color: var(--fill-color);\n",
       "      border-top-color: var(--fill-color);\n",
       "    }\n",
       "    30% {\n",
       "      border-color: transparent;\n",
       "      border-left-color: var(--fill-color);\n",
       "      border-top-color: var(--fill-color);\n",
       "      border-right-color: var(--fill-color);\n",
       "    }\n",
       "    40% {\n",
       "      border-color: transparent;\n",
       "      border-right-color: var(--fill-color);\n",
       "      border-top-color: var(--fill-color);\n",
       "    }\n",
       "    60% {\n",
       "      border-color: transparent;\n",
       "      border-right-color: var(--fill-color);\n",
       "    }\n",
       "    80% {\n",
       "      border-color: transparent;\n",
       "      border-right-color: var(--fill-color);\n",
       "      border-bottom-color: var(--fill-color);\n",
       "    }\n",
       "    90% {\n",
       "      border-color: transparent;\n",
       "      border-bottom-color: var(--fill-color);\n",
       "    }\n",
       "  }\n",
       "</style>\n",
       "\n",
       "  <script>\n",
       "    async function quickchart(key) {\n",
       "      const quickchartButtonEl =\n",
       "        document.querySelector('#' + key + ' button');\n",
       "      quickchartButtonEl.disabled = true;  // To prevent multiple clicks.\n",
       "      quickchartButtonEl.classList.add('colab-df-spinner');\n",
       "      try {\n",
       "        const charts = await google.colab.kernel.invokeFunction(\n",
       "            'suggestCharts', [key], {});\n",
       "      } catch (error) {\n",
       "        console.error('Error during call to suggestCharts:', error);\n",
       "      }\n",
       "      quickchartButtonEl.classList.remove('colab-df-spinner');\n",
       "      quickchartButtonEl.classList.add('colab-df-quickchart-complete');\n",
       "    }\n",
       "    (() => {\n",
       "      let quickchartButtonEl =\n",
       "        document.querySelector('#df-3d16ea82-3c93-4799-95ef-f65ee3e7268e button');\n",
       "      quickchartButtonEl.style.display =\n",
       "        google.colab.kernel.accessAllowed ? 'block' : 'none';\n",
       "    })();\n",
       "  </script>\n",
       "</div>\n",
       "\n",
       "    </div>\n",
       "  </div>\n"
      ],
      "text/plain": [
       "       Unnamed: 0    make   model       city  year  mileage  \\\n",
       "86117       86117  Suzuki   Bolan  Islamabad  2017    44740   \n",
       "86118       86118  Toyota   Passo    Karachi  2010    94890   \n",
       "86119       86119  Suzuki  Cultus     Lahore  2008    60800   \n",
       "\n",
       "       Engine_displacement  Battery  Price_Rs  \n",
       "86117                800.0      NaN   1750000  \n",
       "86118               1000.0      NaN   2300000  \n",
       "86119               1000.0      NaN    990000  "
      ]
     },
     "execution_count": 5,
     "metadata": {},
     "output_type": "execute_result"
    }
   ],
   "source": [
    "# data_tail...\n",
    "df.tail(3)"
   ]
  },
  {
   "cell_type": "code",
   "execution_count": null,
   "id": "dfe5c831-9b07-42dc-ab61-618f67694ed9",
   "metadata": {
    "colab": {
     "base_uri": "https://localhost:8080/"
    },
    "executionInfo": {
     "elapsed": 20,
     "status": "ok",
     "timestamp": 1732892794950,
     "user": {
      "displayName": "Muhammad Jawad Ahsan",
      "userId": "00916696824243114753"
     },
     "user_tz": -300
    },
    "id": "dfe5c831-9b07-42dc-ab61-618f67694ed9",
    "outputId": "cb9d9760-d2a4-4b86-de27-8ac9cd08a7fc"
   },
   "outputs": [
    {
     "data": {
      "text/plain": [
       "(86120, 9)"
      ]
     },
     "execution_count": 6,
     "metadata": {},
     "output_type": "execute_result"
    }
   ],
   "source": [
    "# data_shape...\n",
    "df.shape"
   ]
  },
  {
   "cell_type": "code",
   "execution_count": null,
   "id": "87848c31-3e76-438e-8861-3f9665ba2a56",
   "metadata": {
    "colab": {
     "base_uri": "https://localhost:8080/"
    },
    "executionInfo": {
     "elapsed": 430,
     "status": "ok",
     "timestamp": 1732892795363,
     "user": {
      "displayName": "Muhammad Jawad Ahsan",
      "userId": "00916696824243114753"
     },
     "user_tz": -300
    },
    "id": "87848c31-3e76-438e-8861-3f9665ba2a56",
    "outputId": "9fcda2b5-ead6-4c5c-92f3-9b2bde5d2876"
   },
   "outputs": [
    {
     "name": "stdout",
     "output_type": "stream",
     "text": [
      "<class 'pandas.core.frame.DataFrame'>\n",
      "RangeIndex: 86120 entries, 0 to 86119\n",
      "Data columns (total 9 columns):\n",
      " #   Column               Non-Null Count  Dtype  \n",
      "---  ------               --------------  -----  \n",
      " 0   Unnamed: 0           86120 non-null  int64  \n",
      " 1   make                 86120 non-null  object \n",
      " 2   model                86120 non-null  object \n",
      " 3   city                 86120 non-null  object \n",
      " 4   year                 86120 non-null  int64  \n",
      " 5   mileage              86120 non-null  int64  \n",
      " 6   Engine_displacement  85931 non-null  float64\n",
      " 7   Battery              189 non-null    float64\n",
      " 8   Price_Rs             86120 non-null  int64  \n",
      "dtypes: float64(2), int64(4), object(3)\n",
      "memory usage: 5.9+ MB\n"
     ]
    }
   ],
   "source": [
    "df.info()"
   ]
  },
  {
   "cell_type": "code",
   "execution_count": null,
   "id": "413ab158-6f41-448d-aece-73305c8cd676",
   "metadata": {
    "colab": {
     "base_uri": "https://localhost:8080/",
     "height": 320
    },
    "executionInfo": {
     "elapsed": 8,
     "status": "ok",
     "timestamp": 1732892795363,
     "user": {
      "displayName": "Muhammad Jawad Ahsan",
      "userId": "00916696824243114753"
     },
     "user_tz": -300
    },
    "id": "413ab158-6f41-448d-aece-73305c8cd676",
    "outputId": "a6e1f92f-00f7-4ddf-ac4f-68e34226cf7c"
   },
   "outputs": [
    {
     "data": {
      "application/vnd.google.colaboratory.intrinsic+json": {
       "summary": "{\n  \"name\": \"df\",\n  \"rows\": 8,\n  \"fields\": [\n    {\n      \"column\": \"Unnamed: 0\",\n      \"properties\": {\n        \"dtype\": \"number\",\n        \"std\": 31037.84568970776,\n        \"min\": 0.0,\n        \"max\": 86120.0,\n        \"num_unique_values\": 7,\n        \"samples\": [\n          86120.0,\n          43059.5,\n          64589.25\n        ],\n        \"semantic_type\": \"\",\n        \"description\": \"\"\n      }\n    },\n    {\n      \"column\": \"year\",\n      \"properties\": {\n        \"dtype\": \"number\",\n        \"std\": 29848.557723421345,\n        \"min\": 8.8621833174719,\n        \"max\": 86120.0,\n        \"num_unique_values\": 8,\n        \"samples\": [\n          2012.6699953553182,\n          2015.0,\n          86120.0\n        ],\n        \"semantic_type\": \"\",\n        \"description\": \"\"\n      }\n    },\n    {\n      \"column\": \"mileage\",\n      \"properties\": {\n        \"dtype\": \"number\",\n        \"std\": 330831.38556893147,\n        \"min\": 1.0,\n        \"max\": 1000000.0,\n        \"num_unique_values\": 8,\n        \"samples\": [\n          88789.20996284255,\n          78000.0,\n          86120.0\n        ],\n        \"semantic_type\": \"\",\n        \"description\": \"\"\n      }\n    },\n    {\n      \"column\": \"Engine_displacement\",\n      \"properties\": {\n        \"dtype\": \"number\",\n        \"std\": 29727.742625046598,\n        \"min\": 0.0,\n        \"max\": 85931.0,\n        \"num_unique_values\": 8,\n        \"samples\": [\n          1388.1381457215673,\n          1300.0,\n          85931.0\n        ],\n        \"semantic_type\": \"\",\n        \"description\": \"\"\n      }\n    },\n    {\n      \"column\": \"Battery\",\n      \"properties\": {\n        \"dtype\": \"number\",\n        \"std\": 671.97902208085,\n        \"min\": 3.0,\n        \"max\": 2000.0,\n        \"num_unique_values\": 8,\n        \"samples\": [\n          119.65343915343915,\n          80.0,\n          189.0\n        ],\n        \"semantic_type\": \"\",\n        \"description\": \"\"\n      }\n    },\n    {\n      \"column\": \"Price_Rs\",\n      \"properties\": {\n        \"dtype\": \"number\",\n        \"std\": 782608860.426308,\n        \"min\": -2147483648.0,\n        \"max\": 301500000.0,\n        \"num_unique_values\": 8,\n        \"samples\": [\n          4173561.160961449,\n          2800000.0,\n          86120.0\n        ],\n        \"semantic_type\": \"\",\n        \"description\": \"\"\n      }\n    }\n  ]\n}",
       "type": "dataframe"
      },
      "text/html": [
       "\n",
       "  <div id=\"df-9d44ad54-8f3c-4965-ba13-c630d3c8e369\" class=\"colab-df-container\">\n",
       "    <div>\n",
       "<style scoped>\n",
       "    .dataframe tbody tr th:only-of-type {\n",
       "        vertical-align: middle;\n",
       "    }\n",
       "\n",
       "    .dataframe tbody tr th {\n",
       "        vertical-align: top;\n",
       "    }\n",
       "\n",
       "    .dataframe thead th {\n",
       "        text-align: right;\n",
       "    }\n",
       "</style>\n",
       "<table border=\"1\" class=\"dataframe\">\n",
       "  <thead>\n",
       "    <tr style=\"text-align: right;\">\n",
       "      <th></th>\n",
       "      <th>Unnamed: 0</th>\n",
       "      <th>year</th>\n",
       "      <th>mileage</th>\n",
       "      <th>Engine_displacement</th>\n",
       "      <th>Battery</th>\n",
       "      <th>Price_Rs</th>\n",
       "    </tr>\n",
       "  </thead>\n",
       "  <tbody>\n",
       "    <tr>\n",
       "      <th>count</th>\n",
       "      <td>86120.000000</td>\n",
       "      <td>86120.000000</td>\n",
       "      <td>86120.000000</td>\n",
       "      <td>85931.000000</td>\n",
       "      <td>189.000000</td>\n",
       "      <td>8.612000e+04</td>\n",
       "    </tr>\n",
       "    <tr>\n",
       "      <th>mean</th>\n",
       "      <td>43059.500000</td>\n",
       "      <td>2012.669995</td>\n",
       "      <td>88789.209963</td>\n",
       "      <td>1388.138146</td>\n",
       "      <td>119.653439</td>\n",
       "      <td>4.173561e+06</td>\n",
       "    </tr>\n",
       "    <tr>\n",
       "      <th>std</th>\n",
       "      <td>24860.846928</td>\n",
       "      <td>8.862183</td>\n",
       "      <td>87932.720095</td>\n",
       "      <td>766.087270</td>\n",
       "      <td>207.891986</td>\n",
       "      <td>9.717305e+06</td>\n",
       "    </tr>\n",
       "    <tr>\n",
       "      <th>min</th>\n",
       "      <td>0.000000</td>\n",
       "      <td>1944.000000</td>\n",
       "      <td>1.000000</td>\n",
       "      <td>0.000000</td>\n",
       "      <td>3.000000</td>\n",
       "      <td>-2.147484e+09</td>\n",
       "    </tr>\n",
       "    <tr>\n",
       "      <th>25%</th>\n",
       "      <td>21529.750000</td>\n",
       "      <td>2007.000000</td>\n",
       "      <td>31000.000000</td>\n",
       "      <td>1000.000000</td>\n",
       "      <td>60.000000</td>\n",
       "      <td>1.500000e+06</td>\n",
       "    </tr>\n",
       "    <tr>\n",
       "      <th>50%</th>\n",
       "      <td>43059.500000</td>\n",
       "      <td>2015.000000</td>\n",
       "      <td>78000.000000</td>\n",
       "      <td>1300.000000</td>\n",
       "      <td>80.000000</td>\n",
       "      <td>2.800000e+06</td>\n",
       "    </tr>\n",
       "    <tr>\n",
       "      <th>75%</th>\n",
       "      <td>64589.250000</td>\n",
       "      <td>2020.000000</td>\n",
       "      <td>121000.000000</td>\n",
       "      <td>1600.000000</td>\n",
       "      <td>101.000000</td>\n",
       "      <td>4.750000e+06</td>\n",
       "    </tr>\n",
       "    <tr>\n",
       "      <th>max</th>\n",
       "      <td>86119.000000</td>\n",
       "      <td>2023.000000</td>\n",
       "      <td>1000000.000000</td>\n",
       "      <td>15000.000000</td>\n",
       "      <td>2000.000000</td>\n",
       "      <td>3.015000e+08</td>\n",
       "    </tr>\n",
       "  </tbody>\n",
       "</table>\n",
       "</div>\n",
       "    <div class=\"colab-df-buttons\">\n",
       "\n",
       "  <div class=\"colab-df-container\">\n",
       "    <button class=\"colab-df-convert\" onclick=\"convertToInteractive('df-9d44ad54-8f3c-4965-ba13-c630d3c8e369')\"\n",
       "            title=\"Convert this dataframe to an interactive table.\"\n",
       "            style=\"display:none;\">\n",
       "\n",
       "  <svg xmlns=\"http://www.w3.org/2000/svg\" height=\"24px\" viewBox=\"0 -960 960 960\">\n",
       "    <path d=\"M120-120v-720h720v720H120Zm60-500h600v-160H180v160Zm220 220h160v-160H400v160Zm0 220h160v-160H400v160ZM180-400h160v-160H180v160Zm440 0h160v-160H620v160ZM180-180h160v-160H180v160Zm440 0h160v-160H620v160Z\"/>\n",
       "  </svg>\n",
       "    </button>\n",
       "\n",
       "  <style>\n",
       "    .colab-df-container {\n",
       "      display:flex;\n",
       "      gap: 12px;\n",
       "    }\n",
       "\n",
       "    .colab-df-convert {\n",
       "      background-color: #E8F0FE;\n",
       "      border: none;\n",
       "      border-radius: 50%;\n",
       "      cursor: pointer;\n",
       "      display: none;\n",
       "      fill: #1967D2;\n",
       "      height: 32px;\n",
       "      padding: 0 0 0 0;\n",
       "      width: 32px;\n",
       "    }\n",
       "\n",
       "    .colab-df-convert:hover {\n",
       "      background-color: #E2EBFA;\n",
       "      box-shadow: 0px 1px 2px rgba(60, 64, 67, 0.3), 0px 1px 3px 1px rgba(60, 64, 67, 0.15);\n",
       "      fill: #174EA6;\n",
       "    }\n",
       "\n",
       "    .colab-df-buttons div {\n",
       "      margin-bottom: 4px;\n",
       "    }\n",
       "\n",
       "    [theme=dark] .colab-df-convert {\n",
       "      background-color: #3B4455;\n",
       "      fill: #D2E3FC;\n",
       "    }\n",
       "\n",
       "    [theme=dark] .colab-df-convert:hover {\n",
       "      background-color: #434B5C;\n",
       "      box-shadow: 0px 1px 3px 1px rgba(0, 0, 0, 0.15);\n",
       "      filter: drop-shadow(0px 1px 2px rgba(0, 0, 0, 0.3));\n",
       "      fill: #FFFFFF;\n",
       "    }\n",
       "  </style>\n",
       "\n",
       "    <script>\n",
       "      const buttonEl =\n",
       "        document.querySelector('#df-9d44ad54-8f3c-4965-ba13-c630d3c8e369 button.colab-df-convert');\n",
       "      buttonEl.style.display =\n",
       "        google.colab.kernel.accessAllowed ? 'block' : 'none';\n",
       "\n",
       "      async function convertToInteractive(key) {\n",
       "        const element = document.querySelector('#df-9d44ad54-8f3c-4965-ba13-c630d3c8e369');\n",
       "        const dataTable =\n",
       "          await google.colab.kernel.invokeFunction('convertToInteractive',\n",
       "                                                    [key], {});\n",
       "        if (!dataTable) return;\n",
       "\n",
       "        const docLinkHtml = 'Like what you see? Visit the ' +\n",
       "          '<a target=\"_blank\" href=https://colab.research.google.com/notebooks/data_table.ipynb>data table notebook</a>'\n",
       "          + ' to learn more about interactive tables.';\n",
       "        element.innerHTML = '';\n",
       "        dataTable['output_type'] = 'display_data';\n",
       "        await google.colab.output.renderOutput(dataTable, element);\n",
       "        const docLink = document.createElement('div');\n",
       "        docLink.innerHTML = docLinkHtml;\n",
       "        element.appendChild(docLink);\n",
       "      }\n",
       "    </script>\n",
       "  </div>\n",
       "\n",
       "\n",
       "<div id=\"df-34992f61-c074-4e2e-8c79-7bad707cb05b\">\n",
       "  <button class=\"colab-df-quickchart\" onclick=\"quickchart('df-34992f61-c074-4e2e-8c79-7bad707cb05b')\"\n",
       "            title=\"Suggest charts\"\n",
       "            style=\"display:none;\">\n",
       "\n",
       "<svg xmlns=\"http://www.w3.org/2000/svg\" height=\"24px\"viewBox=\"0 0 24 24\"\n",
       "     width=\"24px\">\n",
       "    <g>\n",
       "        <path d=\"M19 3H5c-1.1 0-2 .9-2 2v14c0 1.1.9 2 2 2h14c1.1 0 2-.9 2-2V5c0-1.1-.9-2-2-2zM9 17H7v-7h2v7zm4 0h-2V7h2v10zm4 0h-2v-4h2v4z\"/>\n",
       "    </g>\n",
       "</svg>\n",
       "  </button>\n",
       "\n",
       "<style>\n",
       "  .colab-df-quickchart {\n",
       "      --bg-color: #E8F0FE;\n",
       "      --fill-color: #1967D2;\n",
       "      --hover-bg-color: #E2EBFA;\n",
       "      --hover-fill-color: #174EA6;\n",
       "      --disabled-fill-color: #AAA;\n",
       "      --disabled-bg-color: #DDD;\n",
       "  }\n",
       "\n",
       "  [theme=dark] .colab-df-quickchart {\n",
       "      --bg-color: #3B4455;\n",
       "      --fill-color: #D2E3FC;\n",
       "      --hover-bg-color: #434B5C;\n",
       "      --hover-fill-color: #FFFFFF;\n",
       "      --disabled-bg-color: #3B4455;\n",
       "      --disabled-fill-color: #666;\n",
       "  }\n",
       "\n",
       "  .colab-df-quickchart {\n",
       "    background-color: var(--bg-color);\n",
       "    border: none;\n",
       "    border-radius: 50%;\n",
       "    cursor: pointer;\n",
       "    display: none;\n",
       "    fill: var(--fill-color);\n",
       "    height: 32px;\n",
       "    padding: 0;\n",
       "    width: 32px;\n",
       "  }\n",
       "\n",
       "  .colab-df-quickchart:hover {\n",
       "    background-color: var(--hover-bg-color);\n",
       "    box-shadow: 0 1px 2px rgba(60, 64, 67, 0.3), 0 1px 3px 1px rgba(60, 64, 67, 0.15);\n",
       "    fill: var(--button-hover-fill-color);\n",
       "  }\n",
       "\n",
       "  .colab-df-quickchart-complete:disabled,\n",
       "  .colab-df-quickchart-complete:disabled:hover {\n",
       "    background-color: var(--disabled-bg-color);\n",
       "    fill: var(--disabled-fill-color);\n",
       "    box-shadow: none;\n",
       "  }\n",
       "\n",
       "  .colab-df-spinner {\n",
       "    border: 2px solid var(--fill-color);\n",
       "    border-color: transparent;\n",
       "    border-bottom-color: var(--fill-color);\n",
       "    animation:\n",
       "      spin 1s steps(1) infinite;\n",
       "  }\n",
       "\n",
       "  @keyframes spin {\n",
       "    0% {\n",
       "      border-color: transparent;\n",
       "      border-bottom-color: var(--fill-color);\n",
       "      border-left-color: var(--fill-color);\n",
       "    }\n",
       "    20% {\n",
       "      border-color: transparent;\n",
       "      border-left-color: var(--fill-color);\n",
       "      border-top-color: var(--fill-color);\n",
       "    }\n",
       "    30% {\n",
       "      border-color: transparent;\n",
       "      border-left-color: var(--fill-color);\n",
       "      border-top-color: var(--fill-color);\n",
       "      border-right-color: var(--fill-color);\n",
       "    }\n",
       "    40% {\n",
       "      border-color: transparent;\n",
       "      border-right-color: var(--fill-color);\n",
       "      border-top-color: var(--fill-color);\n",
       "    }\n",
       "    60% {\n",
       "      border-color: transparent;\n",
       "      border-right-color: var(--fill-color);\n",
       "    }\n",
       "    80% {\n",
       "      border-color: transparent;\n",
       "      border-right-color: var(--fill-color);\n",
       "      border-bottom-color: var(--fill-color);\n",
       "    }\n",
       "    90% {\n",
       "      border-color: transparent;\n",
       "      border-bottom-color: var(--fill-color);\n",
       "    }\n",
       "  }\n",
       "</style>\n",
       "\n",
       "  <script>\n",
       "    async function quickchart(key) {\n",
       "      const quickchartButtonEl =\n",
       "        document.querySelector('#' + key + ' button');\n",
       "      quickchartButtonEl.disabled = true;  // To prevent multiple clicks.\n",
       "      quickchartButtonEl.classList.add('colab-df-spinner');\n",
       "      try {\n",
       "        const charts = await google.colab.kernel.invokeFunction(\n",
       "            'suggestCharts', [key], {});\n",
       "      } catch (error) {\n",
       "        console.error('Error during call to suggestCharts:', error);\n",
       "      }\n",
       "      quickchartButtonEl.classList.remove('colab-df-spinner');\n",
       "      quickchartButtonEl.classList.add('colab-df-quickchart-complete');\n",
       "    }\n",
       "    (() => {\n",
       "      let quickchartButtonEl =\n",
       "        document.querySelector('#df-34992f61-c074-4e2e-8c79-7bad707cb05b button');\n",
       "      quickchartButtonEl.style.display =\n",
       "        google.colab.kernel.accessAllowed ? 'block' : 'none';\n",
       "    })();\n",
       "  </script>\n",
       "</div>\n",
       "\n",
       "    </div>\n",
       "  </div>\n"
      ],
      "text/plain": [
       "         Unnamed: 0          year         mileage  Engine_displacement  \\\n",
       "count  86120.000000  86120.000000    86120.000000         85931.000000   \n",
       "mean   43059.500000   2012.669995    88789.209963          1388.138146   \n",
       "std    24860.846928      8.862183    87932.720095           766.087270   \n",
       "min        0.000000   1944.000000        1.000000             0.000000   \n",
       "25%    21529.750000   2007.000000    31000.000000          1000.000000   \n",
       "50%    43059.500000   2015.000000    78000.000000          1300.000000   \n",
       "75%    64589.250000   2020.000000   121000.000000          1600.000000   \n",
       "max    86119.000000   2023.000000  1000000.000000         15000.000000   \n",
       "\n",
       "           Battery      Price_Rs  \n",
       "count   189.000000  8.612000e+04  \n",
       "mean    119.653439  4.173561e+06  \n",
       "std     207.891986  9.717305e+06  \n",
       "min       3.000000 -2.147484e+09  \n",
       "25%      60.000000  1.500000e+06  \n",
       "50%      80.000000  2.800000e+06  \n",
       "75%     101.000000  4.750000e+06  \n",
       "max    2000.000000  3.015000e+08  "
      ]
     },
     "execution_count": 8,
     "metadata": {},
     "output_type": "execute_result"
    }
   ],
   "source": [
    "df.describe()"
   ]
  },
  {
   "cell_type": "markdown",
   "id": "WBoqtDhgPAU9",
   "metadata": {
    "id": "WBoqtDhgPAU9"
   },
   "source": [
    "Exploring data analysis"
   ]
  },
  {
   "cell_type": "code",
   "execution_count": 4,
   "id": "eb88270f-ed59-4ef0-a048-ac40a6bfef89",
   "metadata": {
    "executionInfo": {
     "elapsed": 367,
     "status": "ok",
     "timestamp": 1733149968809,
     "user": {
      "displayName": "Muhammad Jawad Ahsan",
      "userId": "00916696824243114753"
     },
     "user_tz": -300
    },
    "id": "eb88270f-ed59-4ef0-a048-ac40a6bfef89"
   },
   "outputs": [],
   "source": [
    "# Exploring data...\n",
    "avg_price_per_maker = df.groupby(\"make\")[\"Price_Rs\"].mean().sort_values()\n",
    "top_10_expensive = avg_price_per_maker.tail(10)\n",
    "top_10_cheap = avg_price_per_maker.head(10)"
   ]
  },
  {
   "cell_type": "code",
   "execution_count": 5,
   "id": "af163c99-63f6-43dd-800c-f01fba4a6c1b",
   "metadata": {
    "colab": {
     "base_uri": "https://localhost:8080/",
     "height": 487
    },
    "executionInfo": {
     "elapsed": 1891,
     "status": "ok",
     "timestamp": 1733149974325,
     "user": {
      "displayName": "Muhammad Jawad Ahsan",
      "userId": "00916696824243114753"
     },
     "user_tz": -300
    },
    "id": "af163c99-63f6-43dd-800c-f01fba4a6c1b",
    "outputId": "869b1f00-8145-4d1c-cb91-1164d5194947"
   },
   "outputs": [
    {
     "data": {
      "image/png": "[encoded data removed]",
      "text/plain": [
       "<Figure size 640x480 with 2 Axes>"
      ]
     },
     "metadata": {},
     "output_type": "display_data"
    }
   ],
   "source": [
    "# top 10 most expensive car makers\n",
    "plt.subplot(1,2,1)\n",
    "plt.barh(top_10_expensive.index,top_10_expensive,color=[\"skyblue\" if maker != top_10_expensive.idxmax else \"pink\" for maker in top_10_expensive.index])\n",
    "plt.title('Top 10 Most Expensive Car Makers')\n",
    "plt.xlabel('Average Price')\n",
    "\n",
    "# Top 10 cheapest car makers\n",
    "plt.subplot(1, 2, 2)\n",
    "plt.barh(top_10_cheap.index, top_10_cheap, color=['skyblue' if maker != top_10_cheap.idxmin() else 'pink' for maker in top_10_cheap.index])\n",
    "plt.title('Top 10 Cheapest Car Makers')\n",
    "plt.xlabel('Average Price')\n",
    "\n",
    "plt.tight_layout()\n",
    "plt.show()"
   ]
  },
  {
   "cell_type": "markdown",
   "id": "l0vhugR-PPzA",
   "metadata": {
    "id": "l0vhugR-PPzA"
   },
   "source": [
    "Top 5 Popular Brand (pie Chart)"
   ]
  },
  {
   "cell_type": "code",
   "execution_count": 6,
   "id": "3bc0914b-1949-4bdc-a849-ec444d5eded1",
   "metadata": {
    "executionInfo": {
     "elapsed": 563,
     "status": "ok",
     "timestamp": 1733149982443,
     "user": {
      "displayName": "Muhammad Jawad Ahsan",
      "userId": "00916696824243114753"
     },
     "user_tz": -300
    },
    "id": "3bc0914b-1949-4bdc-a849-ec444d5eded1"
   },
   "outputs": [],
   "source": [
    "maker_counts = df[\"make\"].value_counts()\n",
    "top_5_makers = maker_counts.head(5)\n",
    "others = maker_counts[5:].sum()\n",
    "top_5_makers[\"Others\"] =others"
   ]
  },
  {
   "cell_type": "code",
   "execution_count": 7,
   "id": "b96e69cd",
   "metadata": {
    "colab": {
     "base_uri": "https://localhost:8080/",
     "height": 675
    },
    "executionInfo": {
     "elapsed": 792,
     "status": "ok",
     "timestamp": 1733149983225,
     "user": {
      "displayName": "Muhammad Jawad Ahsan",
      "userId": "00916696824243114753"
     },
     "user_tz": -300
    },
    "id": "b96e69cd",
    "outputId": "411ebc41-d0d6-42bf-c0d4-a216fa28a018"
   },
   "outputs": [
    {
     "data": {
      "image/png": "[encoded data removed]",
      "text/plain": [
       "<Figure size 800x800 with 1 Axes>"
      ]
     },
     "metadata": {},
     "output_type": "display_data"
    }
   ],
   "source": [
    "# Market Share\n",
    "plt.figure(figsize=(8,8))\n",
    "plt.pie(top_5_makers, labels =[f'{maker}: {percent:.2f}%' for maker, percent in zip(top_5_makers.index, 100* top_5_makers / top_5_makers.sum())], startangle =140, autopct= '%1.1f%%')\n",
    "plt.title(\"Market Share of Makers\")\n",
    "plt.show()"
   ]
  },
  {
   "cell_type": "markdown",
   "id": "QhbTSYFQTyDb",
   "metadata": {
    "id": "QhbTSYFQTyDb"
   },
   "source": [
    "correction between \"mileage\" and \"Engine_displacement\" by maker"
   ]
  },
  {
   "cell_type": "code",
   "execution_count": null,
   "id": "_8zqMyrmRN2t",
   "metadata": {
    "id": "_8zqMyrmRN2t"
   },
   "outputs": [],
   "source": [
    "top_20_makers = df[\"make\"].value_counts().head(20).index\n",
    "filtered_df = df[df[\"make\"].isin(top_20_makers)]\n",
    "avg_values = filtered_df.groupby(\"make\").agg({\"mileage\":\"mean\",\"Engine_displacement\":\"mean\"})\n"
   ]
  },
  {
   "cell_type": "code",
   "execution_count": null,
   "id": "G5zz2Cy2Tw3-",
   "metadata": {
    "colab": {
     "base_uri": "https://localhost:8080/",
     "height": 441
    },
    "executionInfo": {
     "elapsed": 2114,
     "status": "ok",
     "timestamp": 1732892800971,
     "user": {
      "displayName": "Muhammad Jawad Ahsan",
      "userId": "00916696824243114753"
     },
     "user_tz": -300
    },
    "id": "G5zz2Cy2Tw3-",
    "outputId": "b63138b0-7321-40e7-ba47-e754c31ecf1f"
   },
   "outputs": [
    {
     "data": {
      "image/png": "[encoded data removed]",
      "text/plain": [
       "<Figure size 1200x800 with 1 Axes>"
      ]
     },
     "metadata": {},
     "output_type": "display_data"
    }
   ],
   "source": [
    "plt.figure(figsize=(12, 8))\n",
    "# Create a scatter plot and fit  regression line\n",
    "sns.regplot(x=\"mileage\",y=\"Engine_displacement\", data= avg_values, fit_reg =True,scatter_kws={\"s\":100},ci=None,color=\"orange\",scatter = False )\n",
    "for maker in avg_values.index:\n",
    "  # select avg data for each maker\n",
    "  maker_avg = avg_values.loc[maker]\n",
    "  # Scatter plot for each maker\n",
    "  plt.scatter(maker_avg[\"mileage\"],maker_avg[\"Engine_displacement\"], alpha=0.7)\n",
    "  # Annotate each point with the makers name\n",
    "  plt.text(maker_avg[\"mileage\"],maker_avg[\"Engine_displacement\"],maker)\n",
    "plt.xlabel(\"Average Mileage\")\n",
    "plt.ylabel(\"Average Engine Displacement\")\n",
    "plt.title(\"Average Mileage vs. Average Engine Displacement by maker\")\n",
    "plt.show()"
   ]
  },
  {
   "cell_type": "markdown",
   "id": "DoskziSUXDKA",
   "metadata": {
    "id": "DoskziSUXDKA"
   },
   "source": [
    "Null value"
   ]
  },
  {
   "cell_type": "code",
   "execution_count": null,
   "id": "jdf92i1pT6Cd",
   "metadata": {
    "colab": {
     "base_uri": "https://localhost:8080/",
     "height": 331
    },
    "executionInfo": {
     "elapsed": 24,
     "status": "ok",
     "timestamp": 1732892800971,
     "user": {
      "displayName": "Muhammad Jawad Ahsan",
      "userId": "00916696824243114753"
     },
     "user_tz": -300
    },
    "id": "jdf92i1pT6Cd",
    "outputId": "3fef6843-216f-474a-d369-b1595056693d"
   },
   "outputs": [
    {
     "data": {
      "application/vnd.google.colaboratory.intrinsic+json": {
       "summary": "{\n  \"name\": \"df_na\",\n  \"rows\": 9,\n  \"fields\": [\n    {\n      \"column\": \"Column Name\",\n      \"properties\": {\n        \"dtype\": \"string\",\n        \"num_unique_values\": 9,\n        \"samples\": [\n          \"Battery\",\n          \"make\",\n          \"mileage\"\n        ],\n        \"semantic_type\": \"\",\n        \"description\": \"\"\n      }\n    },\n    {\n      \"column\": \"Null Count\",\n      \"properties\": {\n        \"dtype\": \"number\",\n        \"std\": 28635,\n        \"min\": 0,\n        \"max\": 85931,\n        \"num_unique_values\": 3,\n        \"samples\": [\n          0,\n          189,\n          85931\n        ],\n        \"semantic_type\": \"\",\n        \"description\": \"\"\n      }\n    },\n    {\n      \"column\": \"Null Ratio\",\n      \"properties\": {\n        \"dtype\": \"number\",\n        \"std\": 33.25091293650613,\n        \"min\": 0.0,\n        \"max\": 99.78,\n        \"num_unique_values\": 3,\n        \"samples\": [\n          0.0,\n          0.22,\n          99.78\n        ],\n        \"semantic_type\": \"\",\n        \"description\": \"\"\n      }\n    }\n  ]\n}",
       "type": "dataframe",
       "variable_name": "df_na"
      },
      "text/html": [
       "\n",
       "  <div id=\"df-110a30b7-c912-48d3-984f-3ba96e944156\" class=\"colab-df-container\">\n",
       "    <div>\n",
       "<style scoped>\n",
       "    .dataframe tbody tr th:only-of-type {\n",
       "        vertical-align: middle;\n",
       "    }\n",
       "\n",
       "    .dataframe tbody tr th {\n",
       "        vertical-align: top;\n",
       "    }\n",
       "\n",
       "    .dataframe thead th {\n",
       "        text-align: right;\n",
       "    }\n",
       "</style>\n",
       "<table border=\"1\" class=\"dataframe\">\n",
       "  <thead>\n",
       "    <tr style=\"text-align: right;\">\n",
       "      <th></th>\n",
       "      <th>Column Name</th>\n",
       "      <th>Null Count</th>\n",
       "      <th>Null Ratio</th>\n",
       "    </tr>\n",
       "  </thead>\n",
       "  <tbody>\n",
       "    <tr>\n",
       "      <th>0</th>\n",
       "      <td>Unnamed: 0</td>\n",
       "      <td>0</td>\n",
       "      <td>0.00</td>\n",
       "    </tr>\n",
       "    <tr>\n",
       "      <th>1</th>\n",
       "      <td>make</td>\n",
       "      <td>0</td>\n",
       "      <td>0.00</td>\n",
       "    </tr>\n",
       "    <tr>\n",
       "      <th>2</th>\n",
       "      <td>model</td>\n",
       "      <td>0</td>\n",
       "      <td>0.00</td>\n",
       "    </tr>\n",
       "    <tr>\n",
       "      <th>3</th>\n",
       "      <td>city</td>\n",
       "      <td>0</td>\n",
       "      <td>0.00</td>\n",
       "    </tr>\n",
       "    <tr>\n",
       "      <th>4</th>\n",
       "      <td>year</td>\n",
       "      <td>0</td>\n",
       "      <td>0.00</td>\n",
       "    </tr>\n",
       "    <tr>\n",
       "      <th>5</th>\n",
       "      <td>mileage</td>\n",
       "      <td>0</td>\n",
       "      <td>0.00</td>\n",
       "    </tr>\n",
       "    <tr>\n",
       "      <th>6</th>\n",
       "      <td>Engine_displacement</td>\n",
       "      <td>189</td>\n",
       "      <td>0.22</td>\n",
       "    </tr>\n",
       "    <tr>\n",
       "      <th>7</th>\n",
       "      <td>Battery</td>\n",
       "      <td>85931</td>\n",
       "      <td>99.78</td>\n",
       "    </tr>\n",
       "    <tr>\n",
       "      <th>8</th>\n",
       "      <td>Price_Rs</td>\n",
       "      <td>0</td>\n",
       "      <td>0.00</td>\n",
       "    </tr>\n",
       "  </tbody>\n",
       "</table>\n",
       "</div>\n",
       "    <div class=\"colab-df-buttons\">\n",
       "\n",
       "  <div class=\"colab-df-container\">\n",
       "    <button class=\"colab-df-convert\" onclick=\"convertToInteractive('df-110a30b7-c912-48d3-984f-3ba96e944156')\"\n",
       "            title=\"Convert this dataframe to an interactive table.\"\n",
       "            style=\"display:none;\">\n",
       "\n",
       "  <svg xmlns=\"http://www.w3.org/2000/svg\" height=\"24px\" viewBox=\"0 -960 960 960\">\n",
       "    <path d=\"M120-120v-720h720v720H120Zm60-500h600v-160H180v160Zm220 220h160v-160H400v160Zm0 220h160v-160H400v160ZM180-400h160v-160H180v160Zm440 0h160v-160H620v160ZM180-180h160v-160H180v160Zm440 0h160v-160H620v160Z\"/>\n",
       "  </svg>\n",
       "    </button>\n",
       "\n",
       "  <style>\n",
       "    .colab-df-container {\n",
       "      display:flex;\n",
       "      gap: 12px;\n",
       "    }\n",
       "\n",
       "    .colab-df-convert {\n",
       "      background-color: #E8F0FE;\n",
       "      border: none;\n",
       "      border-radius: 50%;\n",
       "      cursor: pointer;\n",
       "      display: none;\n",
       "      fill: #1967D2;\n",
       "      height: 32px;\n",
       "      padding: 0 0 0 0;\n",
       "      width: 32px;\n",
       "    }\n",
       "\n",
       "    .colab-df-convert:hover {\n",
       "      background-color: #E2EBFA;\n",
       "      box-shadow: 0px 1px 2px rgba(60, 64, 67, 0.3), 0px 1px 3px 1px rgba(60, 64, 67, 0.15);\n",
       "      fill: #174EA6;\n",
       "    }\n",
       "\n",
       "    .colab-df-buttons div {\n",
       "      margin-bottom: 4px;\n",
       "    }\n",
       "\n",
       "    [theme=dark] .colab-df-convert {\n",
       "      background-color: #3B4455;\n",
       "      fill: #D2E3FC;\n",
       "    }\n",
       "\n",
       "    [theme=dark] .colab-df-convert:hover {\n",
       "      background-color: #434B5C;\n",
       "      box-shadow: 0px 1px 3px 1px rgba(0, 0, 0, 0.15);\n",
       "      filter: drop-shadow(0px 1px 2px rgba(0, 0, 0, 0.3));\n",
       "      fill: #FFFFFF;\n",
       "    }\n",
       "  </style>\n",
       "\n",
       "    <script>\n",
       "      const buttonEl =\n",
       "        document.querySelector('#df-110a30b7-c912-48d3-984f-3ba96e944156 button.colab-df-convert');\n",
       "      buttonEl.style.display =\n",
       "        google.colab.kernel.accessAllowed ? 'block' : 'none';\n",
       "\n",
       "      async function convertToInteractive(key) {\n",
       "        const element = document.querySelector('#df-110a30b7-c912-48d3-984f-3ba96e944156');\n",
       "        const dataTable =\n",
       "          await google.colab.kernel.invokeFunction('convertToInteractive',\n",
       "                                                    [key], {});\n",
       "        if (!dataTable) return;\n",
       "\n",
       "        const docLinkHtml = 'Like what you see? Visit the ' +\n",
       "          '<a target=\"_blank\" href=https://colab.research.google.com/notebooks/data_table.ipynb>data table notebook</a>'\n",
       "          + ' to learn more about interactive tables.';\n",
       "        element.innerHTML = '';\n",
       "        dataTable['output_type'] = 'display_data';\n",
       "        await google.colab.output.renderOutput(dataTable, element);\n",
       "        const docLink = document.createElement('div');\n",
       "        docLink.innerHTML = docLinkHtml;\n",
       "        element.appendChild(docLink);\n",
       "      }\n",
       "    </script>\n",
       "  </div>\n",
       "\n",
       "\n",
       "<div id=\"df-6fb8cccf-5942-41a4-a6bb-f42740f1c14f\">\n",
       "  <button class=\"colab-df-quickchart\" onclick=\"quickchart('df-6fb8cccf-5942-41a4-a6bb-f42740f1c14f')\"\n",
       "            title=\"Suggest charts\"\n",
       "            style=\"display:none;\">\n",
       "\n",
       "<svg xmlns=\"http://www.w3.org/2000/svg\" height=\"24px\"viewBox=\"0 0 24 24\"\n",
       "     width=\"24px\">\n",
       "    <g>\n",
       "        <path d=\"M19 3H5c-1.1 0-2 .9-2 2v14c0 1.1.9 2 2 2h14c1.1 0 2-.9 2-2V5c0-1.1-.9-2-2-2zM9 17H7v-7h2v7zm4 0h-2V7h2v10zm4 0h-2v-4h2v4z\"/>\n",
       "    </g>\n",
       "</svg>\n",
       "  </button>\n",
       "\n",
       "<style>\n",
       "  .colab-df-quickchart {\n",
       "      --bg-color: #E8F0FE;\n",
       "      --fill-color: #1967D2;\n",
       "      --hover-bg-color: #E2EBFA;\n",
       "      --hover-fill-color: #174EA6;\n",
       "      --disabled-fill-color: #AAA;\n",
       "      --disabled-bg-color: #DDD;\n",
       "  }\n",
       "\n",
       "  [theme=dark] .colab-df-quickchart {\n",
       "      --bg-color: #3B4455;\n",
       "      --fill-color: #D2E3FC;\n",
       "      --hover-bg-color: #434B5C;\n",
       "      --hover-fill-color: #FFFFFF;\n",
       "      --disabled-bg-color: #3B4455;\n",
       "      --disabled-fill-color: #666;\n",
       "  }\n",
       "\n",
       "  .colab-df-quickchart {\n",
       "    background-color: var(--bg-color);\n",
       "    border: none;\n",
       "    border-radius: 50%;\n",
       "    cursor: pointer;\n",
       "    display: none;\n",
       "    fill: var(--fill-color);\n",
       "    height: 32px;\n",
       "    padding: 0;\n",
       "    width: 32px;\n",
       "  }\n",
       "\n",
       "  .colab-df-quickchart:hover {\n",
       "    background-color: var(--hover-bg-color);\n",
       "    box-shadow: 0 1px 2px rgba(60, 64, 67, 0.3), 0 1px 3px 1px rgba(60, 64, 67, 0.15);\n",
       "    fill: var(--button-hover-fill-color);\n",
       "  }\n",
       "\n",
       "  .colab-df-quickchart-complete:disabled,\n",
       "  .colab-df-quickchart-complete:disabled:hover {\n",
       "    background-color: var(--disabled-bg-color);\n",
       "    fill: var(--disabled-fill-color);\n",
       "    box-shadow: none;\n",
       "  }\n",
       "\n",
       "  .colab-df-spinner {\n",
       "    border: 2px solid var(--fill-color);\n",
       "    border-color: transparent;\n",
       "    border-bottom-color: var(--fill-color);\n",
       "    animation:\n",
       "      spin 1s steps(1) infinite;\n",
       "  }\n",
       "\n",
       "  @keyframes spin {\n",
       "    0% {\n",
       "      border-color: transparent;\n",
       "      border-bottom-color: var(--fill-color);\n",
       "      border-left-color: var(--fill-color);\n",
       "    }\n",
       "    20% {\n",
       "      border-color: transparent;\n",
       "      border-left-color: var(--fill-color);\n",
       "      border-top-color: var(--fill-color);\n",
       "    }\n",
       "    30% {\n",
       "      border-color: transparent;\n",
       "      border-left-color: var(--fill-color);\n",
       "      border-top-color: var(--fill-color);\n",
       "      border-right-color: var(--fill-color);\n",
       "    }\n",
       "    40% {\n",
       "      border-color: transparent;\n",
       "      border-right-color: var(--fill-color);\n",
       "      border-top-color: var(--fill-color);\n",
       "    }\n",
       "    60% {\n",
       "      border-color: transparent;\n",
       "      border-right-color: var(--fill-color);\n",
       "    }\n",
       "    80% {\n",
       "      border-color: transparent;\n",
       "      border-right-color: var(--fill-color);\n",
       "      border-bottom-color: var(--fill-color);\n",
       "    }\n",
       "    90% {\n",
       "      border-color: transparent;\n",
       "      border-bottom-color: var(--fill-color);\n",
       "    }\n",
       "  }\n",
       "</style>\n",
       "\n",
       "  <script>\n",
       "    async function quickchart(key) {\n",
       "      const quickchartButtonEl =\n",
       "        document.querySelector('#' + key + ' button');\n",
       "      quickchartButtonEl.disabled = true;  // To prevent multiple clicks.\n",
       "      quickchartButtonEl.classList.add('colab-df-spinner');\n",
       "      try {\n",
       "        const charts = await google.colab.kernel.invokeFunction(\n",
       "            'suggestCharts', [key], {});\n",
       "      } catch (error) {\n",
       "        console.error('Error during call to suggestCharts:', error);\n",
       "      }\n",
       "      quickchartButtonEl.classList.remove('colab-df-spinner');\n",
       "      quickchartButtonEl.classList.add('colab-df-quickchart-complete');\n",
       "    }\n",
       "    (() => {\n",
       "      let quickchartButtonEl =\n",
       "        document.querySelector('#df-6fb8cccf-5942-41a4-a6bb-f42740f1c14f button');\n",
       "      quickchartButtonEl.style.display =\n",
       "        google.colab.kernel.accessAllowed ? 'block' : 'none';\n",
       "    })();\n",
       "  </script>\n",
       "</div>\n",
       "\n",
       "  <div id=\"id_de32fb8d-13db-4d30-abc8-4177fbe44672\">\n",
       "    <style>\n",
       "      .colab-df-generate {\n",
       "        background-color: #E8F0FE;\n",
       "        border: none;\n",
       "        border-radius: 50%;\n",
       "        cursor: pointer;\n",
       "        display: none;\n",
       "        fill: #1967D2;\n",
       "        height: 32px;\n",
       "        padding: 0 0 0 0;\n",
       "        width: 32px;\n",
       "      }\n",
       "\n",
       "      .colab-df-generate:hover {\n",
       "        background-color: #E2EBFA;\n",
       "        box-shadow: 0px 1px 2px rgba(60, 64, 67, 0.3), 0px 1px 3px 1px rgba(60, 64, 67, 0.15);\n",
       "        fill: #174EA6;\n",
       "      }\n",
       "\n",
       "      [theme=dark] .colab-df-generate {\n",
       "        background-color: #3B4455;\n",
       "        fill: #D2E3FC;\n",
       "      }\n",
       "\n",
       "      [theme=dark] .colab-df-generate:hover {\n",
       "        background-color: #434B5C;\n",
       "        box-shadow: 0px 1px 3px 1px rgba(0, 0, 0, 0.15);\n",
       "        filter: drop-shadow(0px 1px 2px rgba(0, 0, 0, 0.3));\n",
       "        fill: #FFFFFF;\n",
       "      }\n",
       "    </style>\n",
       "    <button class=\"colab-df-generate\" onclick=\"generateWithVariable('df_na')\"\n",
       "            title=\"Generate code using this dataframe.\"\n",
       "            style=\"display:none;\">\n",
       "\n",
       "  <svg xmlns=\"http://www.w3.org/2000/svg\" height=\"24px\"viewBox=\"0 0 24 24\"\n",
       "       width=\"24px\">\n",
       "    <path d=\"M7,19H8.4L18.45,9,17,7.55,7,17.6ZM5,21V16.75L18.45,3.32a2,2,0,0,1,2.83,0l1.4,1.43a1.91,1.91,0,0,1,.58,1.4,1.91,1.91,0,0,1-.58,1.4L9.25,21ZM18.45,9,17,7.55Zm-12,3A5.31,5.31,0,0,0,4.9,8.1,5.31,5.31,0,0,0,1,6.5,5.31,5.31,0,0,0,4.9,4.9,5.31,5.31,0,0,0,6.5,1,5.31,5.31,0,0,0,8.1,4.9,5.31,5.31,0,0,0,12,6.5,5.46,5.46,0,0,0,6.5,12Z\"/>\n",
       "  </svg>\n",
       "    </button>\n",
       "    <script>\n",
       "      (() => {\n",
       "      const buttonEl =\n",
       "        document.querySelector('#id_de32fb8d-13db-4d30-abc8-4177fbe44672 button.colab-df-generate');\n",
       "      buttonEl.style.display =\n",
       "        google.colab.kernel.accessAllowed ? 'block' : 'none';\n",
       "\n",
       "      buttonEl.onclick = () => {\n",
       "        google.colab.notebook.generateWithVariable('df_na');\n",
       "      }\n",
       "      })();\n",
       "    </script>\n",
       "  </div>\n",
       "\n",
       "    </div>\n",
       "  </div>\n"
      ],
      "text/plain": [
       "           Column Name  Null Count  Null Ratio\n",
       "0           Unnamed: 0           0        0.00\n",
       "1                 make           0        0.00\n",
       "2                model           0        0.00\n",
       "3                 city           0        0.00\n",
       "4                 year           0        0.00\n",
       "5              mileage           0        0.00\n",
       "6  Engine_displacement         189        0.22\n",
       "7              Battery       85931       99.78\n",
       "8             Price_Rs           0        0.00"
      ]
     },
     "execution_count": 15,
     "metadata": {},
     "output_type": "execute_result"
    }
   ],
   "source": [
    "df_na = df.isna().sum().to_frame().reset_index()\n",
    "df_na.columns = [\"Column Name\", \"Null Count\"]\n",
    "df_na[\"Null Ratio\"] = round((df_na[\"Null Count\"]/ len(df))* 100, 2)\n",
    "df_na"
   ]
  },
  {
   "cell_type": "code",
   "execution_count": null,
   "id": "-5jYFtlNXEeb",
   "metadata": {
    "colab": {
     "base_uri": "https://localhost:8080/"
    },
    "executionInfo": {
     "elapsed": 22,
     "status": "ok",
     "timestamp": 1732892800971,
     "user": {
      "displayName": "Muhammad Jawad Ahsan",
      "userId": "00916696824243114753"
     },
     "user_tz": -300
    },
    "id": "-5jYFtlNXEeb",
    "outputId": "da901ce4-5403-4161-8c08-2feccdd84b20"
   },
   "outputs": [
    {
     "data": {
      "text/plain": [
       "(86120, 7)"
      ]
     },
     "execution_count": 16,
     "metadata": {},
     "output_type": "execute_result"
    }
   ],
   "source": [
    "# drop \"Battery\" & \"Unnamed: 0\" columns\n",
    "df_v1 = df.drop(columns=[\"Battery\",\"Unnamed: 0\"], axis=1)\n",
    "df_v1.shape\n",
    "# before removing the columns are(86120,9)"
   ]
  },
  {
   "cell_type": "code",
   "execution_count": null,
   "id": "qhcdjTE0YU-u",
   "metadata": {
    "colab": {
     "base_uri": "https://localhost:8080/"
    },
    "executionInfo": {
     "elapsed": 20,
     "status": "ok",
     "timestamp": 1732892800972,
     "user": {
      "displayName": "Muhammad Jawad Ahsan",
      "userId": "00916696824243114753"
     },
     "user_tz": -300
    },
    "id": "qhcdjTE0YU-u",
    "outputId": "8ff2e85f-b65c-48d1-da84-2a2745696dac"
   },
   "outputs": [
    {
     "data": {
      "text/plain": [
       "(85931, 7)"
      ]
     },
     "execution_count": 17,
     "metadata": {},
     "output_type": "execute_result"
    }
   ],
   "source": [
    "#Drop rows including null values\n",
    "df_v2 = df_v1.dropna()\n",
    "df_v2.shape\n",
    "# before removing the rows are(86120,7)"
   ]
  },
  {
   "cell_type": "markdown",
   "id": "C-XT_SbAY9dE",
   "metadata": {
    "id": "C-XT_SbAY9dE"
   },
   "source": [
    "I Add year to make bettermment"
   ]
  },
  {
   "cell_type": "code",
   "execution_count": null,
   "id": "o2Ufue-5Yvmy",
   "metadata": {
    "colab": {
     "base_uri": "https://localhost:8080/"
    },
    "executionInfo": {
     "elapsed": 18,
     "status": "ok",
     "timestamp": 1732892800972,
     "user": {
      "displayName": "Muhammad Jawad Ahsan",
      "userId": "00916696824243114753"
     },
     "user_tz": -300
    },
    "id": "o2Ufue-5Yvmy",
    "outputId": "9aaa8247-e2d2-4210-df70-59223924f5c3"
   },
   "outputs": [
    {
     "name": "stdout",
     "output_type": "stream",
     "text": [
      "2023\n"
     ]
    },
    {
     "name": "stderr",
     "output_type": "stream",
     "text": [
      "<ipython-input-18-299cfc498bdc>:2: SettingWithCopyWarning: \n",
      "A value is trying to be set on a copy of a slice from a DataFrame.\n",
      "Try using .loc[row_indexer,col_indexer] = value instead\n",
      "\n",
      "See the caveats in the documentation: https://pandas.pydata.org/pandas-docs/stable/user_guide/indexing.html#returning-a-view-versus-a-copy\n",
      "  df_v2[\"year2\"] = 2023 - df_v2[\"year\"]\n"
     ]
    },
    {
     "data": {
      "text/plain": [
       "(85931, 8)"
      ]
     },
     "execution_count": 18,
     "metadata": {},
     "output_type": "execute_result"
    }
   ],
   "source": [
    "print(max(df_v2[\"year\"]))\n",
    "df_v2[\"year2\"] = 2023 - df_v2[\"year\"]\n",
    "df_v2.shape\n",
    "# (85931, 8) -> from 85931 rows & 7 columns to 85931 rows & 8 columns"
   ]
  },
  {
   "cell_type": "code",
   "execution_count": null,
   "id": "WTzHnwZfaK3E",
   "metadata": {
    "executionInfo": {
     "elapsed": 371,
     "status": "ok",
     "timestamp": 1733150035856,
     "user": {
      "displayName": "Muhammad Jawad Ahsan",
      "userId": "00916696824243114753"
     },
     "user_tz": -300
    },
    "id": "WTzHnwZfaK3E"
   },
   "outputs": [],
   "source": [
    "plt.figure(figsize=(10, 8))\n",
    "\n",
    "for i, col in enumerate(['year', 'mileage', 'Engine_displacement', 'Price_Rs']):\n",
    "    plt.subplot(2, 2, i+1)\n",
    "    plt.boxplot(df_v2[col])\n",
    "    plt.title(col)\n",
    "    plt.grid(True)\n",
    "\n",
    "plt.tight_layout()\n",
    "plt.show()"
   ]
  },
  {
   "cell_type": "code",
   "execution_count": null,
   "id": "pKiK7m6fZA2w",
   "metadata": {
    "executionInfo": {
     "elapsed": 372,
     "status": "ok",
     "timestamp": 1733150043243,
     "user": {
      "displayName": "Muhammad Jawad Ahsan",
      "userId": "00916696824243114753"
     },
     "user_tz": -300
    },
    "id": "pKiK7m6fZA2w"
   },
   "outputs": [],
   "source": [
    "# Ilogical Numbers - Price_Rs\n",
    "df_v3 = df_v2[~df_v2[\"Price_Rs\"] <= 0]\n",
    "df_v3.shape # (85930, 8) -> from 85931 rows & 8 columns to 85930 rows & 8 columns"
   ]
  },
  {
   "cell_type": "code",
   "execution_count": null,
   "id": "6C24wTKrZlmc",
   "metadata": {
    "executionInfo": {
     "elapsed": 354,
     "status": "ok",
     "timestamp": 1733150049207,
     "user": {
      "displayName": "Muhammad Jawad Ahsan",
      "userId": "00916696824243114753"
     },
     "user_tz": -300
    },
    "id": "6C24wTKrZlmc"
   },
   "outputs": [],
   "source": [
    "# Ilogical Numbers - Engine_displacement\n",
    "df_v3 = df_v3[~(df_v3[\"Engine_displacement\"] <= 0)]\n",
    "df_v3.shape # (82937, 8) -> from 85931 rows & 8 columns to 82937 rows & 8 columns"
   ]
  },
  {
   "cell_type": "markdown",
   "id": "9B_hRGTVadzP",
   "metadata": {
    "id": "9B_hRGTVadzP"
   },
   "source": [
    "After deleteing all the observations with ilogical numbers, I filtered outliers using IQR."
   ]
  },
  {
   "cell_type": "code",
   "execution_count": 1,
   "id": "BJc6QBYWabiX",
   "metadata": {
    "colab": {
     "base_uri": "https://localhost:8080/",
     "height": 106
    },
    "executionInfo": {
     "elapsed": 493,
     "status": "error",
     "timestamp": 1733151015235,
     "user": {
      "displayName": "Muhammad Jawad Ahsan",
      "userId": "00916696824243114753"
     },
     "user_tz": -300
    },
    "id": "BJc6QBYWabiX",
    "outputId": "c5495c80-f839-49f1-d960-ccd052f04d40"
   },
   "outputs": [],
   "source": [
    "# IQR function\n",
    "def IQR(column):\n",
    "    Q1 = column.quantile(0.25)\n",
    "    Q3 = column.quantile(0.75)\n",
    "    IQR = Q3 - Q1\n",
    "\n",
    "    lower_bound = Q1 - 2*IQR\n",
    "    upper_bound = Q3 + 2*IQR\n",
    "    bound_list = [lower_bound, upper_bound]\n",
    "\n",
    "    print(f\"Lower Bound is {lower_bound} and Upper Bound is {upper_bound}.\")\n",
    "\n",
    "    return bound_list"
   ]
  },
  {
   "cell_type": "code",
   "execution_count": 13,
   "id": "jkoREpHYaf-1",
   "metadata": {
    "executionInfo": {
     "elapsed": 6,
     "status": "ok",
     "timestamp": 1733150130086,
     "user": {
      "displayName": "Muhammad Jawad Ahsan",
      "userId": "00916696824243114753"
     },
     "user_tz": -300
    },
    "id": "jkoREpHYaf-1"
   },
   "outputs": [],
   "source": [
    "year2_outlier_list = IQR(df_v3[\"year2\"]) # Lower Bound is -23.0 and Upper Bound is 42.0.\n",
    "print(len(df_v3[df_v3[\"year2\"] > 42])) # 264 rows\n",
    "df_v3 = df_v3[~(df_v3[\"year2\"] > 42)]\n",
    "df_v3.shape # (82673, 8) -> from 82937 rows & 8 columns to 82673 rows & 8 columns"
   ]
  },
  {
   "cell_type": "markdown",
   "id": "NnEixDwMa2Eb",
   "metadata": {
    "id": "NnEixDwMa2Eb"
   },
   "source": [
    "mileage"
   ]
  },
  {
   "cell_type": "code",
   "execution_count": null,
   "id": "VKEolfBcavhY",
   "metadata": {
    "colab": {
     "base_uri": "https://localhost:8080/"
    },
    "executionInfo": {
     "elapsed": 25,
     "status": "ok",
     "timestamp": 1732892802646,
     "user": {
      "displayName": "Muhammad Jawad Ahsan",
      "userId": "00916696824243114753"
     },
     "user_tz": -300
    },
    "id": "VKEolfBcavhY",
    "outputId": "d018b6db-243a-44aa-a40c-7528e7dd0437"
   },
   "outputs": [
    {
     "name": "stdout",
     "output_type": "stream",
     "text": [
      "Lower Bound is -147882.0 and Upper Bound is 299323.0.\n",
      "1524\n"
     ]
    },
    {
     "data": {
      "text/plain": [
       "(81149, 8)"
      ]
     },
     "execution_count": 24,
     "metadata": {},
     "output_type": "execute_result"
    }
   ],
   "source": [
    "mileage_outlier_list = IQR(df_v3[\"mileage\"]) # Lower Bound is -147882.0 and Upper Bound is 299323.0.\n",
    "print(len(df_v3[df_v3[\"mileage\"] > 299323])) # 1524\n",
    "df_v3 = df_v3[~(df_v3[\"mileage\"] > 299323)]\n",
    "df_v3.shape # (81149, 8) -> from 82673 rows & 8 columns to 81149 rows & 8 columns"
   ]
  },
  {
   "cell_type": "markdown",
   "id": "WfGqK90Va6WF",
   "metadata": {
    "id": "WfGqK90Va6WF"
   },
   "source": [
    "Engine_displacement"
   ]
  },
  {
   "cell_type": "code",
   "execution_count": null,
   "id": "_UHhc4ELa4n3",
   "metadata": {
    "colab": {
     "base_uri": "https://localhost:8080/"
    },
    "executionInfo": {
     "elapsed": 23,
     "status": "ok",
     "timestamp": 1732892802647,
     "user": {
      "displayName": "Muhammad Jawad Ahsan",
      "userId": "00916696824243114753"
     },
     "user_tz": -300
    },
    "id": "_UHhc4ELa4n3",
    "outputId": "16ecd965-4075-4112-cd73-f3de2afd4c09"
   },
   "outputs": [
    {
     "name": "stdout",
     "output_type": "stream",
     "text": [
      "Lower Bound is -200.0 and Upper Bound is 2800.0.\n",
      "3301\n",
      "4.07\n",
      "15000.0\n"
     ]
    }
   ],
   "source": [
    "engine_displacement_outlier_list = IQR(df_v3[\"Engine_displacement\"]) # Lower Bound is -200.0 and Upper Bound is 2800.0.\n",
    "print(len(df_v3[df_v3[\"Engine_displacement\"] > 2800])) # 3301\n",
    "print(round((3301 / 81149)*100, 2)) # 4.07\n",
    "print(max(df_v3[\"Engine_displacement\"])) # 15000"
   ]
  },
  {
   "cell_type": "code",
   "execution_count": null,
   "id": "XWZBHsJIa62w",
   "metadata": {
    "colab": {
     "base_uri": "https://localhost:8080/"
    },
    "executionInfo": {
     "elapsed": 17,
     "status": "ok",
     "timestamp": 1732892802647,
     "user": {
      "displayName": "Muhammad Jawad Ahsan",
      "userId": "00916696824243114753"
     },
     "user_tz": -300
    },
    "id": "XWZBHsJIa62w",
    "outputId": "34a804ba-bd15-4d1e-c57c-593c0ec4994c"
   },
   "outputs": [
    {
     "name": "stdout",
     "output_type": "stream",
     "text": [
      "69\n"
     ]
    },
    {
     "data": {
      "text/plain": [
       "(81080, 8)"
      ]
     },
     "execution_count": 26,
     "metadata": {},
     "output_type": "execute_result"
    }
   ],
   "source": [
    "print(len(df_v3[df_v3[\"Engine_displacement\"] > 6000])) # 69\n",
    "df_v3 = df_v3[~(df_v3[\"Engine_displacement\"] > 6000)]\n",
    "df_v3.shape # (81080, 8) -> from 81149 rows & 8 columns to 81080 rows & 8 columns"
   ]
  },
  {
   "cell_type": "markdown",
   "id": "WtmZN3tPbA2V",
   "metadata": {
    "id": "WtmZN3tPbA2V"
   },
   "source": [
    "Price_Rs"
   ]
  },
  {
   "cell_type": "code",
   "execution_count": null,
   "id": "Q4AqgMaja_L4",
   "metadata": {
    "colab": {
     "base_uri": "https://localhost:8080/"
    },
    "executionInfo": {
     "elapsed": 13,
     "status": "ok",
     "timestamp": 1732892802647,
     "user": {
      "displayName": "Muhammad Jawad Ahsan",
      "userId": "00916696824243114753"
     },
     "user_tz": -300
    },
    "id": "Q4AqgMaja_L4",
    "outputId": "fd86364e-9a6c-4b38-ffa8-bb0612420807"
   },
   "outputs": [
    {
     "name": "stdout",
     "output_type": "stream",
     "text": [
      "Lower Bound is -4950000.0 and Upper Bound is 11300000.0.\n",
      "3800\n",
      "4.69\n"
     ]
    }
   ],
   "source": [
    "price_rs_outlier_list = IQR(df_v3[\"Price_Rs\"]) # Lower Bound is -4950000.0 and Upper Bound is 11300000.0.\n",
    "print(len(df_v3[df_v3[\"Price_Rs\"] > 11300000])) # 3800\n",
    "print(round((3800 / 81080)*100, 2)) # 4.69"
   ]
  },
  {
   "cell_type": "markdown",
   "id": "weH3Wtx-bG_l",
   "metadata": {
    "id": "weH3Wtx-bG_l"
   },
   "source": [
    "4.69% is also too high portion to drop. Therefore, I checked the distribution of this column"
   ]
  },
  {
   "cell_type": "code",
   "execution_count": null,
   "id": "xqybSd5xbBT1",
   "metadata": {
    "colab": {
     "base_uri": "https://localhost:8080/",
     "height": 448
    },
    "executionInfo": {
     "elapsed": 416,
     "status": "ok",
     "timestamp": 1732892803053,
     "user": {
      "displayName": "Muhammad Jawad Ahsan",
      "userId": "00916696824243114753"
     },
     "user_tz": -300
    },
    "id": "xqybSd5xbBT1",
    "outputId": "14933f9a-fa57-4fb6-97dd-ad92cced41a6"
   },
   "outputs": [
    {
     "data": {
      "image/png": "[encoded data removed]",
      "text/plain": [
       "<Figure size 1000x600 with 1 Axes>"
      ]
     },
     "metadata": {},
     "output_type": "display_data"
    }
   ],
   "source": [
    "plt.figure(figsize=(10, 6))\n",
    "sns.boxplot(x=df_v3[\"Price_Rs\"])\n",
    "plt.title(\"Boxplot (Price_Rs)\")\n",
    "plt.show()"
   ]
  },
  {
   "cell_type": "markdown",
   "id": "xLYc6FaWbMzU",
   "metadata": {
    "id": "xLYc6FaWbMzU"
   },
   "source": [
    "After reviewing the visualization, I decided to drop the rows with \"higher-than-100,000,000-Price_Rs-value."
   ]
  },
  {
   "cell_type": "code",
   "execution_count": null,
   "id": "Lr4X4ffbbHgU",
   "metadata": {
    "colab": {
     "base_uri": "https://localhost:8080/"
    },
    "executionInfo": {
     "elapsed": 521,
     "status": "ok",
     "timestamp": 1732892803567,
     "user": {
      "displayName": "Muhammad Jawad Ahsan",
      "userId": "00916696824243114753"
     },
     "user_tz": -300
    },
    "id": "Lr4X4ffbbHgU",
    "outputId": "1375c5f2-12e7-4fc3-fc6f-2137820f9a3f"
   },
   "outputs": [
    {
     "name": "stdout",
     "output_type": "stream",
     "text": [
      "26\n"
     ]
    },
    {
     "data": {
      "text/plain": [
       "(81054, 8)"
      ]
     },
     "execution_count": 29,
     "metadata": {},
     "output_type": "execute_result"
    }
   ],
   "source": [
    "print(len(df_v3[df_v3[\"Price_Rs\"] > 100000000])) # 26\n",
    "df_v3 = df_v3[~(df_v3[\"Price_Rs\"] > 100000000)]\n",
    "df_v3.shape # (81054, 8) -> from 81080 rows & 8 columns to 81054 rows & 8 columns\n",
    "\n",
    "df_v4 = df_v3\n",
    "df_v4.shape # (81054, 8)"
   ]
  },
  {
   "cell_type": "markdown",
   "id": "64ILthFVbR-H",
   "metadata": {
    "id": "64ILthFVbR-H"
   },
   "source": [
    "Categorical Variables"
   ]
  },
  {
   "cell_type": "code",
   "execution_count": null,
   "id": "puqtTkgxbQOv",
   "metadata": {
    "colab": {
     "base_uri": "https://localhost:8080/"
    },
    "executionInfo": {
     "elapsed": 28,
     "status": "ok",
     "timestamp": 1732892803567,
     "user": {
      "displayName": "Muhammad Jawad Ahsan",
      "userId": "00916696824243114753"
     },
     "user_tz": -300
    },
    "id": "puqtTkgxbQOv",
    "outputId": "7e23e3b4-a916-4122-b6b9-f69ffb44a22d"
   },
   "outputs": [
    {
     "name": "stdout",
     "output_type": "stream",
     "text": [
      "['make', 'model', 'city']\n"
     ]
    }
   ],
   "source": [
    "categorical_variables = df_v4.select_dtypes(include=['object']).columns.tolist()\n",
    "print(categorical_variables) # ['make', 'model', 'city']"
   ]
  },
  {
   "cell_type": "markdown",
   "id": "WAh0q2PpbYX_",
   "metadata": {
    "id": "WAh0q2PpbYX_"
   },
   "source": [
    "make"
   ]
  },
  {
   "cell_type": "code",
   "execution_count": null,
   "id": "mQzjuiPibUeP",
   "metadata": {
    "colab": {
     "base_uri": "https://localhost:8080/"
    },
    "executionInfo": {
     "elapsed": 23,
     "status": "ok",
     "timestamp": 1732892803567,
     "user": {
      "displayName": "Muhammad Jawad Ahsan",
      "userId": "00916696824243114753"
     },
     "user_tz": -300
    },
    "id": "mQzjuiPibUeP",
    "outputId": "152a72cb-875b-4f45-8c93-a5149d3acb38"
   },
   "outputs": [
    {
     "name": "stdout",
     "output_type": "stream",
     "text": [
      "['Suzuki' 'Toyota' 'Daihatsu' 'Mercedes' 'Honda' 'Hyundai' 'Haval' 'KIA'\n",
      " 'Nissan' 'Changan' 'Mitsubishi' 'Mazda' 'Range' 'Lexus' 'MG' 'Peugeot'\n",
      " 'MINI' 'DFSK' 'Proton' 'BMW' 'Porsche' 'FAW' 'BAIC' 'Audi' 'Isuzu'\n",
      " 'Chery' 'United' 'Chevrolet' 'Ford' 'Jeep' 'Subaru' 'Prince' 'Land'\n",
      " 'Daewoo' 'Volkswagen' 'JAC' 'Hino' 'Buick' 'Dodge' 'Jaguar' 'Volvo'\n",
      " 'Power' 'Chrysler' 'Sogo' 'Fiat' 'Daehan' 'JW' 'SsangYong' 'Datsun' 'GAC'\n",
      " 'Austin' 'ZOTYE' 'Master' 'Others' 'Hummer' 'Mushtaq' 'Adam' 'JMC' 'Roma'\n",
      " 'Classic' 'GMC' 'Alfa']\n",
      "62\n"
     ]
    }
   ],
   "source": [
    "print(df_v4[\"make\"].unique())\n",
    "print(len(df_v4[\"make\"].unique())) # 62"
   ]
  },
  {
   "cell_type": "code",
   "execution_count": null,
   "id": "43L28UeKba6F",
   "metadata": {
    "colab": {
     "base_uri": "https://localhost:8080/"
    },
    "executionInfo": {
     "elapsed": 20,
     "status": "ok",
     "timestamp": 1732892803567,
     "user": {
      "displayName": "Muhammad Jawad Ahsan",
      "userId": "00916696824243114753"
     },
     "user_tz": -300
    },
    "id": "43L28UeKba6F",
    "outputId": "8fdd0ce1-6a9d-4ac6-acf2-abab2cf116df"
   },
   "outputs": [
    {
     "name": "stdout",
     "output_type": "stream",
     "text": [
      "make\n",
      "Alfa           1\n",
      "Roma           1\n",
      "Mushtaq        1\n",
      "GMC            1\n",
      "GAC            1\n",
      "Classic        1\n",
      "Austin         2\n",
      "Volvo          2\n",
      "ZOTYE          3\n",
      "Others         3\n",
      "Buick          3\n",
      "Hummer         4\n",
      "Adam           4\n",
      "Chrysler       4\n",
      "JMC            5\n",
      "Datsun         5\n",
      "Power          5\n",
      "Jaguar         6\n",
      "Dodge          7\n",
      "Fiat           7\n",
      "Master         7\n",
      "Volkswagen     8\n",
      "MINI           9\n",
      "JAC            9\n",
      "Hino          10\n",
      "SsangYong     14\n",
      "Daehan        14\n",
      "JW            15\n",
      "Sogo          19\n",
      "Porsche       34\n",
      "dtype: int64\n"
     ]
    }
   ],
   "source": [
    "print(df_v4.groupby(\"make\").size().sort_values().head(30))"
   ]
  },
  {
   "cell_type": "markdown",
   "id": "z-Ic_DLjbnNN",
   "metadata": {
    "id": "z-Ic_DLjbnNN"
   },
   "source": [
    "I dropped the makes with less-than-five-observations."
   ]
  },
  {
   "cell_type": "code",
   "execution_count": null,
   "id": "2tpoK6ZMbh-8",
   "metadata": {
    "colab": {
     "base_uri": "https://localhost:8080/"
    },
    "executionInfo": {
     "elapsed": 17,
     "status": "ok",
     "timestamp": 1732892803567,
     "user": {
      "displayName": "Muhammad Jawad Ahsan",
      "userId": "00916696824243114753"
     },
     "user_tz": -300
    },
    "id": "2tpoK6ZMbh-8",
    "outputId": "ad8814c0-0a63-4267-ce6a-55ed295d5d73"
   },
   "outputs": [
    {
     "name": "stdout",
     "output_type": "stream",
     "text": [
      "Index(['Adam', 'Alfa', 'Austin', 'Buick', 'Chrysler', 'Classic', 'GAC', 'GMC',\n",
      "       'Hummer', 'Mushtaq', 'Others', 'Roma', 'Volvo', 'ZOTYE'],\n",
      "      dtype='object', name='make')\n"
     ]
    }
   ],
   "source": [
    "make_size = df_v4.groupby(\"make\").size()\n",
    "make_to_remove = make_size[make_size < 5].index\n",
    "print(make_to_remove)"
   ]
  },
  {
   "cell_type": "code",
   "execution_count": null,
   "id": "yg7UuedYbmUw",
   "metadata": {
    "colab": {
     "base_uri": "https://localhost:8080/"
    },
    "executionInfo": {
     "elapsed": 14,
     "status": "ok",
     "timestamp": 1732892803567,
     "user": {
      "displayName": "Muhammad Jawad Ahsan",
      "userId": "00916696824243114753"
     },
     "user_tz": -300
    },
    "id": "yg7UuedYbmUw",
    "outputId": "a0287934-1442-4984-cfe6-bd94313f279d"
   },
   "outputs": [
    {
     "name": "stdout",
     "output_type": "stream",
     "text": [
      "48\n"
     ]
    }
   ],
   "source": [
    "df_v5 = df_v4[~(df_v4[\"make\"].isin(make_to_remove))]\n",
    "df_v5.shape # (81023, 8) -> from 81054 rows & 8 columns to 81023 rows & 8 columns\n",
    "print(len(df_v5[\"make\"].unique())) # 62 make -> 48 make"
   ]
  },
  {
   "cell_type": "markdown",
   "id": "O97-IMrqbvWe",
   "metadata": {
    "id": "O97-IMrqbvWe"
   },
   "source": [
    "model"
   ]
  },
  {
   "cell_type": "code",
   "execution_count": null,
   "id": "vFzPY1cYbnvp",
   "metadata": {
    "colab": {
     "base_uri": "https://localhost:8080/"
    },
    "executionInfo": {
     "elapsed": 12,
     "status": "ok",
     "timestamp": 1732892803567,
     "user": {
      "displayName": "Muhammad Jawad Ahsan",
      "userId": "00916696824243114753"
     },
     "user_tz": -300
    },
    "id": "vFzPY1cYbnvp",
    "outputId": "22fdfaa2-702d-44ca-f641-12aa94151d64"
   },
   "outputs": [
    {
     "name": "stdout",
     "output_type": "stream",
     "text": [
      "395\n",
      "model\n",
      "FUSO          1\n",
      "Altezza       1\n",
      "Suburban      1\n",
      "Cappuccino    1\n",
      "Latio         1\n",
      "             ..\n",
      "Beat          2\n",
      "C37           2\n",
      "Brz           2\n",
      "Brio          2\n",
      "Shahbaz       2\n",
      "Length: 100, dtype: int64\n"
     ]
    }
   ],
   "source": [
    "print(len(df_v5[\"model\"].unique())) # 395\n",
    "print(df_v5.groupby(\"model\").size().sort_values().head(100))"
   ]
  },
  {
   "cell_type": "markdown",
   "id": "KyR5c92Rb1PB",
   "metadata": {
    "id": "KyR5c92Rb1PB"
   },
   "source": [
    "I dropped the models with less-than-two-observations."
   ]
  },
  {
   "cell_type": "code",
   "execution_count": null,
   "id": "Zwi0-s8RbvyD",
   "metadata": {
    "colab": {
     "base_uri": "https://localhost:8080/"
    },
    "executionInfo": {
     "elapsed": 384,
     "status": "ok",
     "timestamp": 1732892803946,
     "user": {
      "displayName": "Muhammad Jawad Ahsan",
      "userId": "00916696824243114753"
     },
     "user_tz": -300
    },
    "id": "Zwi0-s8RbvyD",
    "outputId": "ca5aa803-bd35-4000-abba-60b39e66ebf7"
   },
   "outputs": [
    {
     "name": "stdout",
     "output_type": "stream",
     "text": [
      "Index(['1000', '1300', '206', '370Z', '508', 'A7', 'Altezza', 'Amarok',\n",
      "       'Auris', 'Azwagon', 'Beetle', 'Bezza', 'Bt', 'Cappuccino', 'Caprice',\n",
      "       'Celsior', 'Cherry', 'Chitral', 'Colorado', 'Cr', 'Cx7', 'Double',\n",
      "       'FUSO', 'Feroza', 'Frontier', 'Golf', 'Gran', 'Hongqi', 'Ioniq',\n",
      "       'Jiaxing', 'Kalam', 'Kalash', 'Latio', 'Matiz', 'N-Van', 'Onix', 'Pony',\n",
      "       'Primera', 'Q5', 'Rio', 'Samurai', 'Sc', 'Senova', 'Suburban', 'Today',\n",
      "       'Transit', 'UNI-T', 'Verossa', 'Xjs', 'Z', 'Z3'],\n",
      "      dtype='object', name='model')\n"
     ]
    }
   ],
   "source": [
    "model_size = df_v5.groupby('model').size()\n",
    "model_to_remove = model_size[model_size < 2].index\n",
    "print(model_to_remove)"
   ]
  },
  {
   "cell_type": "code",
   "execution_count": null,
   "id": "j7kQQ6zab2ob",
   "metadata": {
    "colab": {
     "base_uri": "https://localhost:8080/"
    },
    "executionInfo": {
     "elapsed": 21,
     "status": "ok",
     "timestamp": 1732892803946,
     "user": {
      "displayName": "Muhammad Jawad Ahsan",
      "userId": "00916696824243114753"
     },
     "user_tz": -300
    },
    "id": "j7kQQ6zab2ob",
    "outputId": "aa04d0df-79d1-4899-9780-84e9e58dab76"
   },
   "outputs": [
    {
     "name": "stdout",
     "output_type": "stream",
     "text": [
      "344\n"
     ]
    }
   ],
   "source": [
    "df_v6 = df_v5[~(df_v5[\"model\"].isin(model_to_remove))]\n",
    "df_v6.shape # (80972, 8) -> from 81054 rows & 8 columns to 80972 rows & 8 columns\n",
    "print(len(df_v6[\"model\"].unique())) # 376 make -> 344 make"
   ]
  },
  {
   "cell_type": "code",
   "execution_count": null,
   "id": "GYmCMWeCb7JV",
   "metadata": {
    "colab": {
     "base_uri": "https://localhost:8080/"
    },
    "executionInfo": {
     "elapsed": 17,
     "status": "ok",
     "timestamp": 1732892803946,
     "user": {
      "displayName": "Muhammad Jawad Ahsan",
      "userId": "00916696824243114753"
     },
     "user_tz": -300
    },
    "id": "GYmCMWeCb7JV",
    "outputId": "e1a9fbf4-b704-4097-e680-9b22d2231f24"
   },
   "outputs": [
    {
     "data": {
      "text/plain": [
       "(80972, 8)"
      ]
     },
     "execution_count": 38,
     "metadata": {},
     "output_type": "execute_result"
    }
   ],
   "source": [
    "df_v6.shape # (80972, 8)"
   ]
  },
  {
   "cell_type": "markdown",
   "id": "EKquUUxxb-q4",
   "metadata": {
    "id": "EKquUUxxb-q4"
   },
   "source": [
    "city"
   ]
  },
  {
   "cell_type": "code",
   "execution_count": null,
   "id": "R2ISpaFmb9Ir",
   "metadata": {
    "colab": {
     "base_uri": "https://localhost:8080/"
    },
    "executionInfo": {
     "elapsed": 15,
     "status": "ok",
     "timestamp": 1732892803946,
     "user": {
      "displayName": "Muhammad Jawad Ahsan",
      "userId": "00916696824243114753"
     },
     "user_tz": -300
    },
    "id": "R2ISpaFmb9Ir",
    "outputId": "4d3e9334-412b-4ce4-9baa-95208bdaf64a"
   },
   "outputs": [
    {
     "name": "stdout",
     "output_type": "stream",
     "text": [
      "316\n",
      "city\n",
      "Kumbh                    1\n",
      "Gambet                   1\n",
      "Gakhar mandi             1\n",
      "Gadoon amazai            1\n",
      "Lala rukh                1\n",
      "Lasbela                  1\n",
      "Ludhan                   1\n",
      "Sehwan Sharif            1\n",
      "Makli                    1\n",
      "Domeli                   1\n",
      "Dera nawab sahib         1\n",
      "Naukot                   1\n",
      "New saeedabad            1\n",
      "Qazi ahmed               1\n",
      "Qalandarabad             1\n",
      "Other                    1\n",
      "Garh maharaja            1\n",
      "Bhan saeedabad           1\n",
      "Noudero                  1\n",
      "Karoor pacca             1\n",
      "Khyber                   1\n",
      "Jatlaan                  1\n",
      "Jhand                    1\n",
      "Khanqah sharif           1\n",
      "Amangarh                 1\n",
      "Sohawa district daska    1\n",
      "Kacha khooh              1\n",
      "Iskandarabad             1\n",
      "Ali chak                 1\n",
      "Hattian                  1\n",
      "Turbat                   1\n",
      "Klaske                   1\n",
      "Kamber ali khan          1\n",
      "Kotli Loharan            2\n",
      "Nilore                   2\n",
      "Naseerabad               2\n",
      "Kandh kot                2\n",
      "Kandiaro                 2\n",
      "Laliah                   2\n",
      "Khan Bela                2\n",
      "Harappa                  2\n",
      "Noshero Feroze           2\n",
      "Gharo                    2\n",
      "Moro                     2\n",
      "Morgah                   2\n",
      "Jamrud road              2\n",
      "Qasba gujrat             2\n",
      "Ubauro                   2\n",
      "Bhuawana                 2\n",
      "Toru                     2\n",
      "dtype: int64\n"
     ]
    }
   ],
   "source": [
    "print(len(df_v6[\"city\"].unique())) # 316\n",
    "print(df_v6.groupby(\"city\").size().sort_values().head(50))"
   ]
  },
  {
   "cell_type": "markdown",
   "id": "reIm1VZscGP0",
   "metadata": {
    "id": "reIm1VZscGP0"
   },
   "source": [
    "I dopped the cities with only one observation."
   ]
  },
  {
   "cell_type": "code",
   "execution_count": null,
   "id": "VxQV1DMlcB8L",
   "metadata": {
    "colab": {
     "base_uri": "https://localhost:8080/"
    },
    "executionInfo": {
     "elapsed": 12,
     "status": "ok",
     "timestamp": 1732892803946,
     "user": {
      "displayName": "Muhammad Jawad Ahsan",
      "userId": "00916696824243114753"
     },
     "user_tz": -300
    },
    "id": "VxQV1DMlcB8L",
    "outputId": "ca8bfad1-22e5-4f22-bac3-d7d41730b441"
   },
   "outputs": [
    {
     "name": "stdout",
     "output_type": "stream",
     "text": [
      "Index(['Ali chak', 'Amangarh', 'Bhan saeedabad', 'Dera nawab sahib', 'Domeli',\n",
      "       'Gadoon amazai', 'Gakhar mandi', 'Gambet', 'Garh maharaja', 'Hattian',\n",
      "       'Iskandarabad', 'Jatlaan', 'Jhand', 'Kacha khooh', 'Kamber ali khan',\n",
      "       'Karoor pacca', 'Khanqah sharif', 'Khyber', 'Klaske', 'Kumbh',\n",
      "       'Lala rukh', 'Lasbela', 'Ludhan', 'Makli', 'Naukot', 'New saeedabad',\n",
      "       'Noudero', 'Other', 'Qalandarabad', 'Qazi ahmed', 'Sehwan Sharif',\n",
      "       'Sohawa district daska', 'Turbat'],\n",
      "      dtype='object', name='city')\n"
     ]
    }
   ],
   "source": [
    "city_size = df_v6.groupby(\"city\").size()\n",
    "city_to_remove = city_size[city_size < 2].index\n",
    "print(city_to_remove)"
   ]
  },
  {
   "cell_type": "code",
   "execution_count": null,
   "id": "ZVvJcWmlcGlj",
   "metadata": {
    "colab": {
     "base_uri": "https://localhost:8080/"
    },
    "executionInfo": {
     "elapsed": 8,
     "status": "ok",
     "timestamp": 1732892803946,
     "user": {
      "displayName": "Muhammad Jawad Ahsan",
      "userId": "00916696824243114753"
     },
     "user_tz": -300
    },
    "id": "ZVvJcWmlcGlj",
    "outputId": "21d77b73-71c0-4142-95ea-7b0a078387df"
   },
   "outputs": [
    {
     "data": {
      "text/plain": [
       "(80939, 8)"
      ]
     },
     "execution_count": 41,
     "metadata": {},
     "output_type": "execute_result"
    }
   ],
   "source": [
    "df_v7 = df_v6[~(df_v6[\"city\"].isin(city_to_remove))]\n",
    "df_v7.shape # (80939, 8) -> from 80972 rows & 8 columns to 80939 rows & 8 columns"
   ]
  },
  {
   "cell_type": "markdown",
   "id": "GDbJSMU5cLXN",
   "metadata": {
    "id": "GDbJSMU5cLXN"
   },
   "source": [
    "One-hot Encoing"
   ]
  },
  {
   "cell_type": "code",
   "execution_count": null,
   "id": "6-kuhHaVcKhi",
   "metadata": {
    "colab": {
     "base_uri": "https://localhost:8080/"
    },
    "executionInfo": {
     "elapsed": 354,
     "status": "ok",
     "timestamp": 1732892804296,
     "user": {
      "displayName": "Muhammad Jawad Ahsan",
      "userId": "00916696824243114753"
     },
     "user_tz": -300
    },
    "id": "6-kuhHaVcKhi",
    "outputId": "2331d3a9-1563-4dd1-ffc4-40ce00b477bc"
   },
   "outputs": [
    {
     "data": {
      "text/plain": [
       "(80939, 677)"
      ]
     },
     "execution_count": 42,
     "metadata": {},
     "output_type": "execute_result"
    }
   ],
   "source": [
    "one_hot = pd.get_dummies(df_v7, columns=categorical_variables, drop_first=True)\n",
    "one_hot.shape # (80939, 677)"
   ]
  },
  {
   "cell_type": "markdown",
   "id": "QFySrxUHciM1",
   "metadata": {
    "id": "QFySrxUHciM1"
   },
   "source": [
    "Modeling"
   ]
  },
  {
   "cell_type": "markdown",
   "id": "u8Fbj-JOciXB",
   "metadata": {
    "id": "u8Fbj-JOciXB"
   },
   "source": [
    "Standardization"
   ]
  },
  {
   "cell_type": "code",
   "execution_count": null,
   "id": "fuztk8dKcoHB",
   "metadata": {
    "id": "fuztk8dKcoHB"
   },
   "outputs": [],
   "source": [
    "X = one_hot.drop(columns = [\"year\", \"Price_Rs\"])\n",
    "y = one_hot[\"Price_Rs\"]\n",
    "\n",
    "scaler = StandardScaler()\n",
    "X_scaled = scaler.fit_transform(X)"
   ]
  },
  {
   "cell_type": "markdown",
   "id": "yv7RLd7ucuNm",
   "metadata": {
    "id": "yv7RLd7ucuNm"
   },
   "source": [
    ") Split dataset"
   ]
  },
  {
   "cell_type": "code",
   "execution_count": null,
   "id": "fs3s3iDAcplm",
   "metadata": {
    "id": "fs3s3iDAcplm"
   },
   "outputs": [],
   "source": [
    "X_train, X_test, y_train, y_test = train_test_split(X_scaled, y, test_size=0.2, random_state=42)"
   ]
  },
  {
   "cell_type": "markdown",
   "id": "hhEDpCVKczTH",
   "metadata": {
    "id": "hhEDpCVKczTH"
   },
   "source": [
    "Post-Lasso"
   ]
  },
  {
   "cell_type": "code",
   "execution_count": null,
   "id": "zu79ZteVc-s9",
   "metadata": {
    "colab": {
     "base_uri": "https://localhost:8080/",
     "height": 134
    },
    "executionInfo": {
     "elapsed": 97904,
     "status": "ok",
     "timestamp": 1732893122517,
     "user": {
      "displayName": "Muhammad Jawad Ahsan",
      "userId": "00916696824243114753"
     },
     "user_tz": -300
    },
    "id": "zu79ZteVc-s9",
    "outputId": "e439bf60-d142-49ba-b63e-f4a718c44784"
   },
   "outputs": [
    {
     "name": "stderr",
     "output_type": "stream",
     "text": [
      "/usr/local/lib/python3.10/dist-packages/sklearn/linear_model/_coordinate_descent.py:697: ConvergenceWarning: Objective did not converge. You might want to increase the number of iterations, check the scale of the features or consider increasing regularisation. Duality gap: 4.159e+17, tolerance: 2.092e+14\n",
      "  model = cd_fast.enet_coordinate_descent(\n"
     ]
    },
    {
     "data": {
      "text/html": [
       "<style>#sk-container-id-1 {\n",
       "  /* Definition of color scheme common for light and dark mode */\n",
       "  --sklearn-color-text: black;\n",
       "  --sklearn-color-line: gray;\n",
       "  /* Definition of color scheme for unfitted estimators */\n",
       "  --sklearn-color-unfitted-level-0: #fff5e6;\n",
       "  --sklearn-color-unfitted-level-1: #f6e4d2;\n",
       "  --sklearn-color-unfitted-level-2: #ffe0b3;\n",
       "  --sklearn-color-unfitted-level-3: chocolate;\n",
       "  /* Definition of color scheme for fitted estimators */\n",
       "  --sklearn-color-fitted-level-0: #f0f8ff;\n",
       "  --sklearn-color-fitted-level-1: #d4ebff;\n",
       "  --sklearn-color-fitted-level-2: #b3dbfd;\n",
       "  --sklearn-color-fitted-level-3: cornflowerblue;\n",
       "\n",
       "  /* Specific color for light theme */\n",
       "  --sklearn-color-text-on-default-background: var(--sg-text-color, var(--theme-code-foreground, var(--jp-content-font-color1, black)));\n",
       "  --sklearn-color-background: var(--sg-background-color, var(--theme-background, var(--jp-layout-color0, white)));\n",
       "  --sklearn-color-border-box: var(--sg-text-color, var(--theme-code-foreground, var(--jp-content-font-color1, black)));\n",
       "  --sklearn-color-icon: #696969;\n",
       "\n",
       "  @media (prefers-color-scheme: dark) {\n",
       "    /* Redefinition of color scheme for dark theme */\n",
       "    --sklearn-color-text-on-default-background: var(--sg-text-color, var(--theme-code-foreground, var(--jp-content-font-color1, white)));\n",
       "    --sklearn-color-background: var(--sg-background-color, var(--theme-background, var(--jp-layout-color0, #111)));\n",
       "    --sklearn-color-border-box: var(--sg-text-color, var(--theme-code-foreground, var(--jp-content-font-color1, white)));\n",
       "    --sklearn-color-icon: #878787;\n",
       "  }\n",
       "}\n",
       "\n",
       "#sk-container-id-1 {\n",
       "  color: var(--sklearn-color-text);\n",
       "}\n",
       "\n",
       "#sk-container-id-1 pre {\n",
       "  padding: 0;\n",
       "}\n",
       "\n",
       "#sk-container-id-1 input.sk-hidden--visually {\n",
       "  border: 0;\n",
       "  clip: rect(1px 1px 1px 1px);\n",
       "  clip: rect(1px, 1px, 1px, 1px);\n",
       "  height: 1px;\n",
       "  margin: -1px;\n",
       "  overflow: hidden;\n",
       "  padding: 0;\n",
       "  position: absolute;\n",
       "  width: 1px;\n",
       "}\n",
       "\n",
       "#sk-container-id-1 div.sk-dashed-wrapped {\n",
       "  border: 1px dashed var(--sklearn-color-line);\n",
       "  margin: 0 0.4em 0.5em 0.4em;\n",
       "  box-sizing: border-box;\n",
       "  padding-bottom: 0.4em;\n",
       "  background-color: var(--sklearn-color-background);\n",
       "}\n",
       "\n",
       "#sk-container-id-1 div.sk-container {\n",
       "  /* jupyter's `normalize.less` sets `[hidden] { display: none; }`\n",
       "     but bootstrap.min.css set `[hidden] { display: none !important; }`\n",
       "     so we also need the `!important` here to be able to override the\n",
       "     default hidden behavior on the sphinx rendered scikit-learn.org.\n",
       "     See: https://github.com/scikit-learn/scikit-learn/issues/21755 */\n",
       "  display: inline-block !important;\n",
       "  position: relative;\n",
       "}\n",
       "\n",
       "#sk-container-id-1 div.sk-text-repr-fallback {\n",
       "  display: none;\n",
       "}\n",
       "\n",
       "div.sk-parallel-item,\n",
       "div.sk-serial,\n",
       "div.sk-item {\n",
       "  /* draw centered vertical line to link estimators */\n",
       "  background-image: linear-gradient(var(--sklearn-color-text-on-default-background), var(--sklearn-color-text-on-default-background));\n",
       "  background-size: 2px 100%;\n",
       "  background-repeat: no-repeat;\n",
       "  background-position: center center;\n",
       "}\n",
       "\n",
       "/* Parallel-specific style estimator block */\n",
       "\n",
       "#sk-container-id-1 div.sk-parallel-item::after {\n",
       "  content: \"\";\n",
       "  width: 100%;\n",
       "  border-bottom: 2px solid var(--sklearn-color-text-on-default-background);\n",
       "  flex-grow: 1;\n",
       "}\n",
       "\n",
       "#sk-container-id-1 div.sk-parallel {\n",
       "  display: flex;\n",
       "  align-items: stretch;\n",
       "  justify-content: center;\n",
       "  background-color: var(--sklearn-color-background);\n",
       "  position: relative;\n",
       "}\n",
       "\n",
       "#sk-container-id-1 div.sk-parallel-item {\n",
       "  display: flex;\n",
       "  flex-direction: column;\n",
       "}\n",
       "\n",
       "#sk-container-id-1 div.sk-parallel-item:first-child::after {\n",
       "  align-self: flex-end;\n",
       "  width: 50%;\n",
       "}\n",
       "\n",
       "#sk-container-id-1 div.sk-parallel-item:last-child::after {\n",
       "  align-self: flex-start;\n",
       "  width: 50%;\n",
       "}\n",
       "\n",
       "#sk-container-id-1 div.sk-parallel-item:only-child::after {\n",
       "  width: 0;\n",
       "}\n",
       "\n",
       "/* Serial-specific style estimator block */\n",
       "\n",
       "#sk-container-id-1 div.sk-serial {\n",
       "  display: flex;\n",
       "  flex-direction: column;\n",
       "  align-items: center;\n",
       "  background-color: var(--sklearn-color-background);\n",
       "  padding-right: 1em;\n",
       "  padding-left: 1em;\n",
       "}\n",
       "\n",
       "\n",
       "/* Toggleable style: style used for estimator/Pipeline/ColumnTransformer box that is\n",
       "clickable and can be expanded/collapsed.\n",
       "- Pipeline and ColumnTransformer use this feature and define the default style\n",
       "- Estimators will overwrite some part of the style using the `sk-estimator` class\n",
       "*/\n",
       "\n",
       "/* Pipeline and ColumnTransformer style (default) */\n",
       "\n",
       "#sk-container-id-1 div.sk-toggleable {\n",
       "  /* Default theme specific background. It is overwritten whether we have a\n",
       "  specific estimator or a Pipeline/ColumnTransformer */\n",
       "  background-color: var(--sklearn-color-background);\n",
       "}\n",
       "\n",
       "/* Toggleable label */\n",
       "#sk-container-id-1 label.sk-toggleable__label {\n",
       "  cursor: pointer;\n",
       "  display: block;\n",
       "  width: 100%;\n",
       "  margin-bottom: 0;\n",
       "  padding: 0.5em;\n",
       "  box-sizing: border-box;\n",
       "  text-align: center;\n",
       "}\n",
       "\n",
       "#sk-container-id-1 label.sk-toggleable__label-arrow:before {\n",
       "  /* Arrow on the left of the label */\n",
       "  content: \"▸\";\n",
       "  float: left;\n",
       "  margin-right: 0.25em;\n",
       "  color: var(--sklearn-color-icon);\n",
       "}\n",
       "\n",
       "#sk-container-id-1 label.sk-toggleable__label-arrow:hover:before {\n",
       "  color: var(--sklearn-color-text);\n",
       "}\n",
       "\n",
       "/* Toggleable content - dropdown */\n",
       "\n",
       "#sk-container-id-1 div.sk-toggleable__content {\n",
       "  max-height: 0;\n",
       "  max-width: 0;\n",
       "  overflow: hidden;\n",
       "  text-align: left;\n",
       "  /* unfitted */\n",
       "  background-color: var(--sklearn-color-unfitted-level-0);\n",
       "}\n",
       "\n",
       "#sk-container-id-1 div.sk-toggleable__content.fitted {\n",
       "  /* fitted */\n",
       "  background-color: var(--sklearn-color-fitted-level-0);\n",
       "}\n",
       "\n",
       "#sk-container-id-1 div.sk-toggleable__content pre {\n",
       "  margin: 0.2em;\n",
       "  border-radius: 0.25em;\n",
       "  color: var(--sklearn-color-text);\n",
       "  /* unfitted */\n",
       "  background-color: var(--sklearn-color-unfitted-level-0);\n",
       "}\n",
       "\n",
       "#sk-container-id-1 div.sk-toggleable__content.fitted pre {\n",
       "  /* unfitted */\n",
       "  background-color: var(--sklearn-color-fitted-level-0);\n",
       "}\n",
       "\n",
       "#sk-container-id-1 input.sk-toggleable__control:checked~div.sk-toggleable__content {\n",
       "  /* Expand drop-down */\n",
       "  max-height: 200px;\n",
       "  max-width: 100%;\n",
       "  overflow: auto;\n",
       "}\n",
       "\n",
       "#sk-container-id-1 input.sk-toggleable__control:checked~label.sk-toggleable__label-arrow:before {\n",
       "  content: \"▾\";\n",
       "}\n",
       "\n",
       "/* Pipeline/ColumnTransformer-specific style */\n",
       "\n",
       "#sk-container-id-1 div.sk-label input.sk-toggleable__control:checked~label.sk-toggleable__label {\n",
       "  color: var(--sklearn-color-text);\n",
       "  background-color: var(--sklearn-color-unfitted-level-2);\n",
       "}\n",
       "\n",
       "#sk-container-id-1 div.sk-label.fitted input.sk-toggleable__control:checked~label.sk-toggleable__label {\n",
       "  background-color: var(--sklearn-color-fitted-level-2);\n",
       "}\n",
       "\n",
       "/* Estimator-specific style */\n",
       "\n",
       "/* Colorize estimator box */\n",
       "#sk-container-id-1 div.sk-estimator input.sk-toggleable__control:checked~label.sk-toggleable__label {\n",
       "  /* unfitted */\n",
       "  background-color: var(--sklearn-color-unfitted-level-2);\n",
       "}\n",
       "\n",
       "#sk-container-id-1 div.sk-estimator.fitted input.sk-toggleable__control:checked~label.sk-toggleable__label {\n",
       "  /* fitted */\n",
       "  background-color: var(--sklearn-color-fitted-level-2);\n",
       "}\n",
       "\n",
       "#sk-container-id-1 div.sk-label label.sk-toggleable__label,\n",
       "#sk-container-id-1 div.sk-label label {\n",
       "  /* The background is the default theme color */\n",
       "  color: var(--sklearn-color-text-on-default-background);\n",
       "}\n",
       "\n",
       "/* On hover, darken the color of the background */\n",
       "#sk-container-id-1 div.sk-label:hover label.sk-toggleable__label {\n",
       "  color: var(--sklearn-color-text);\n",
       "  background-color: var(--sklearn-color-unfitted-level-2);\n",
       "}\n",
       "\n",
       "/* Label box, darken color on hover, fitted */\n",
       "#sk-container-id-1 div.sk-label.fitted:hover label.sk-toggleable__label.fitted {\n",
       "  color: var(--sklearn-color-text);\n",
       "  background-color: var(--sklearn-color-fitted-level-2);\n",
       "}\n",
       "\n",
       "/* Estimator label */\n",
       "\n",
       "#sk-container-id-1 div.sk-label label {\n",
       "  font-family: monospace;\n",
       "  font-weight: bold;\n",
       "  display: inline-block;\n",
       "  line-height: 1.2em;\n",
       "}\n",
       "\n",
       "#sk-container-id-1 div.sk-label-container {\n",
       "  text-align: center;\n",
       "}\n",
       "\n",
       "/* Estimator-specific */\n",
       "#sk-container-id-1 div.sk-estimator {\n",
       "  font-family: monospace;\n",
       "  border: 1px dotted var(--sklearn-color-border-box);\n",
       "  border-radius: 0.25em;\n",
       "  box-sizing: border-box;\n",
       "  margin-bottom: 0.5em;\n",
       "  /* unfitted */\n",
       "  background-color: var(--sklearn-color-unfitted-level-0);\n",
       "}\n",
       "\n",
       "#sk-container-id-1 div.sk-estimator.fitted {\n",
       "  /* fitted */\n",
       "  background-color: var(--sklearn-color-fitted-level-0);\n",
       "}\n",
       "\n",
       "/* on hover */\n",
       "#sk-container-id-1 div.sk-estimator:hover {\n",
       "  /* unfitted */\n",
       "  background-color: var(--sklearn-color-unfitted-level-2);\n",
       "}\n",
       "\n",
       "#sk-container-id-1 div.sk-estimator.fitted:hover {\n",
       "  /* fitted */\n",
       "  background-color: var(--sklearn-color-fitted-level-2);\n",
       "}\n",
       "\n",
       "/* Specification for estimator info (e.g. \"i\" and \"?\") */\n",
       "\n",
       "/* Common style for \"i\" and \"?\" */\n",
       "\n",
       ".sk-estimator-doc-link,\n",
       "a:link.sk-estimator-doc-link,\n",
       "a:visited.sk-estimator-doc-link {\n",
       "  float: right;\n",
       "  font-size: smaller;\n",
       "  line-height: 1em;\n",
       "  font-family: monospace;\n",
       "  background-color: var(--sklearn-color-background);\n",
       "  border-radius: 1em;\n",
       "  height: 1em;\n",
       "  width: 1em;\n",
       "  text-decoration: none !important;\n",
       "  margin-left: 1ex;\n",
       "  /* unfitted */\n",
       "  border: var(--sklearn-color-unfitted-level-1) 1pt solid;\n",
       "  color: var(--sklearn-color-unfitted-level-1);\n",
       "}\n",
       "\n",
       ".sk-estimator-doc-link.fitted,\n",
       "a:link.sk-estimator-doc-link.fitted,\n",
       "a:visited.sk-estimator-doc-link.fitted {\n",
       "  /* fitted */\n",
       "  border: var(--sklearn-color-fitted-level-1) 1pt solid;\n",
       "  color: var(--sklearn-color-fitted-level-1);\n",
       "}\n",
       "\n",
       "/* On hover */\n",
       "div.sk-estimator:hover .sk-estimator-doc-link:hover,\n",
       ".sk-estimator-doc-link:hover,\n",
       "div.sk-label-container:hover .sk-estimator-doc-link:hover,\n",
       ".sk-estimator-doc-link:hover {\n",
       "  /* unfitted */\n",
       "  background-color: var(--sklearn-color-unfitted-level-3);\n",
       "  color: var(--sklearn-color-background);\n",
       "  text-decoration: none;\n",
       "}\n",
       "\n",
       "div.sk-estimator.fitted:hover .sk-estimator-doc-link.fitted:hover,\n",
       ".sk-estimator-doc-link.fitted:hover,\n",
       "div.sk-label-container:hover .sk-estimator-doc-link.fitted:hover,\n",
       ".sk-estimator-doc-link.fitted:hover {\n",
       "  /* fitted */\n",
       "  background-color: var(--sklearn-color-fitted-level-3);\n",
       "  color: var(--sklearn-color-background);\n",
       "  text-decoration: none;\n",
       "}\n",
       "\n",
       "/* Span, style for the box shown on hovering the info icon */\n",
       ".sk-estimator-doc-link span {\n",
       "  display: none;\n",
       "  z-index: 9999;\n",
       "  position: relative;\n",
       "  font-weight: normal;\n",
       "  right: .2ex;\n",
       "  padding: .5ex;\n",
       "  margin: .5ex;\n",
       "  width: min-content;\n",
       "  min-width: 20ex;\n",
       "  max-width: 50ex;\n",
       "  color: var(--sklearn-color-text);\n",
       "  box-shadow: 2pt 2pt 4pt #999;\n",
       "  /* unfitted */\n",
       "  background: var(--sklearn-color-unfitted-level-0);\n",
       "  border: .5pt solid var(--sklearn-color-unfitted-level-3);\n",
       "}\n",
       "\n",
       ".sk-estimator-doc-link.fitted span {\n",
       "  /* fitted */\n",
       "  background: var(--sklearn-color-fitted-level-0);\n",
       "  border: var(--sklearn-color-fitted-level-3);\n",
       "}\n",
       "\n",
       ".sk-estimator-doc-link:hover span {\n",
       "  display: block;\n",
       "}\n",
       "\n",
       "/* \"?\"-specific style due to the `<a>` HTML tag */\n",
       "\n",
       "#sk-container-id-1 a.estimator_doc_link {\n",
       "  float: right;\n",
       "  font-size: 1rem;\n",
       "  line-height: 1em;\n",
       "  font-family: monospace;\n",
       "  background-color: var(--sklearn-color-background);\n",
       "  border-radius: 1rem;\n",
       "  height: 1rem;\n",
       "  width: 1rem;\n",
       "  text-decoration: none;\n",
       "  /* unfitted */\n",
       "  color: var(--sklearn-color-unfitted-level-1);\n",
       "  border: var(--sklearn-color-unfitted-level-1) 1pt solid;\n",
       "}\n",
       "\n",
       "#sk-container-id-1 a.estimator_doc_link.fitted {\n",
       "  /* fitted */\n",
       "  border: var(--sklearn-color-fitted-level-1) 1pt solid;\n",
       "  color: var(--sklearn-color-fitted-level-1);\n",
       "}\n",
       "\n",
       "/* On hover */\n",
       "#sk-container-id-1 a.estimator_doc_link:hover {\n",
       "  /* unfitted */\n",
       "  background-color: var(--sklearn-color-unfitted-level-3);\n",
       "  color: var(--sklearn-color-background);\n",
       "  text-decoration: none;\n",
       "}\n",
       "\n",
       "#sk-container-id-1 a.estimator_doc_link.fitted:hover {\n",
       "  /* fitted */\n",
       "  background-color: var(--sklearn-color-fitted-level-3);\n",
       "}\n",
       "</style><div id=\"sk-container-id-1\" class=\"sk-top-container\"><div class=\"sk-text-repr-fallback\"><pre>Lasso(alpha=0.01)</pre><b>In a Jupyter environment, please rerun this cell to show the HTML representation or trust the notebook. <br />On GitHub, the HTML representation is unable to render, please try loading this page with nbviewer.org.</b></div><div class=\"sk-container\" hidden><div class=\"sk-item\"><div class=\"sk-estimator fitted sk-toggleable\"><input class=\"sk-toggleable__control sk-hidden--visually\" id=\"sk-estimator-id-1\" type=\"checkbox\" checked><label for=\"sk-estimator-id-1\" class=\"sk-toggleable__label fitted sk-toggleable__label-arrow fitted\">&nbsp;&nbsp;Lasso<a class=\"sk-estimator-doc-link fitted\" rel=\"noreferrer\" target=\"_blank\" href=\"https://scikit-learn.org/1.5/modules/generated/sklearn.linear_model.Lasso.html\">?<span>Documentation for Lasso</span></a><span class=\"sk-estimator-doc-link fitted\">i<span>Fitted</span></span></label><div class=\"sk-toggleable__content fitted\"><pre>Lasso(alpha=0.01)</pre></div> </div></div></div></div>"
      ],
      "text/plain": [
       "Lasso(alpha=0.01)"
      ]
     },
     "execution_count": 46,
     "metadata": {},
     "output_type": "execute_result"
    }
   ],
   "source": [
    "lasso = Lasso(alpha=0.01)\n",
    "lasso.fit(X_train, y_train)"
   ]
  },
  {
   "cell_type": "code",
   "execution_count": null,
   "id": "HgH5WQhpeR8d",
   "metadata": {
    "colab": {
     "base_uri": "https://localhost:8080/"
    },
    "executionInfo": {
     "elapsed": 346,
     "status": "ok",
     "timestamp": 1732893330035,
     "user": {
      "displayName": "Muhammad Jawad Ahsan",
      "userId": "00916696824243114753"
     },
     "user_tz": -300
    },
    "id": "HgH5WQhpeR8d",
    "outputId": "290259b8-4ebc-457b-e435-eca9db473c6f"
   },
   "outputs": [
    {
     "name": "stdout",
     "output_type": "stream",
     "text": [
      "Number of features used: 672\n"
     ]
    }
   ],
   "source": [
    "coef_used = np.sum(lasso.coef_ != 0)\n",
    "print(f\"Number of features used: {coef_used}\")"
   ]
  },
  {
   "cell_type": "code",
   "execution_count": null,
   "id": "J_3JWyKefcbe",
   "metadata": {
    "colab": {
     "base_uri": "https://localhost:8080/"
    },
    "executionInfo": {
     "elapsed": 354,
     "status": "ok",
     "timestamp": 1732893335710,
     "user": {
      "displayName": "Muhammad Jawad Ahsan",
      "userId": "00916696824243114753"
     },
     "user_tz": -300
    },
    "id": "J_3JWyKefcbe",
    "outputId": "230b69ca-cfa9-4441-82da-f6e43e0eeeca"
   },
   "outputs": [
    {
     "data": {
      "text/plain": [
       "(80939, 672)"
      ]
     },
     "execution_count": 48,
     "metadata": {},
     "output_type": "execute_result"
    }
   ],
   "source": [
    "X_lasso = X[X.columns[(lasso.coef_ !=0)].to_list()]\n",
    "X_lasso.shape"
   ]
  },
  {
   "cell_type": "code",
   "execution_count": null,
   "id": "bs2ah8Dbfdzz",
   "metadata": {
    "id": "bs2ah8Dbfdzz"
   },
   "outputs": [],
   "source": [
    "scaler = StandardScaler()\n",
    "X_scaled = scaler.fit_transform(X_lasso)"
   ]
  },
  {
   "cell_type": "code",
   "execution_count": null,
   "id": "IeIeBIi2fmeW",
   "metadata": {
    "id": "IeIeBIi2fmeW"
   },
   "outputs": [],
   "source": [
    "X_train, X_test, y_train, y_test = train_test_split(X_scaled, y, test_size=0.2, random_state=42)"
   ]
  },
  {
   "cell_type": "markdown",
   "id": "YwF577NdfuTg",
   "metadata": {
    "id": "YwF577NdfuTg"
   },
   "source": [
    "Machine Learning"
   ]
  },
  {
   "cell_type": "markdown",
   "id": "-_ziJv8VfxRV",
   "metadata": {
    "id": "-_ziJv8VfxRV"
   },
   "source": [
    "Random Forest"
   ]
  },
  {
   "cell_type": "code",
   "execution_count": null,
   "id": "mr42lDGJfvZw",
   "metadata": {
    "colab": {
     "base_uri": "https://localhost:8080/"
    },
    "executionInfo": {
     "elapsed": 2800006,
     "status": "ok",
     "timestamp": 1732900856156,
     "user": {
      "displayName": "Muhammad Jawad Ahsan",
      "userId": "00916696824243114753"
     },
     "user_tz": -300
    },
    "id": "mr42lDGJfvZw",
    "outputId": "ebfe2d19-6d97-4812-eb2b-7aaa3b75165f"
   },
   "outputs": [
    {
     "name": "stdout",
     "output_type": "stream",
     "text": [
      "Best parameters:  {'n_estimators': 300}\n",
      "R2 Score: 0.8695180956835772\n",
      "RMSE: 2120918.5095716747\n"
     ]
    }
   ],
   "source": [
    "# Parameters\n",
    "param_grid = {'n_estimators': [100, 200, 300]}\n",
    "\n",
    "# Random Forest Regressor\n",
    "rf = RandomForestRegressor(random_state=42)\n",
    "\n",
    "# GridSearchCV\n",
    "grid_search = GridSearchCV(estimator=rf, param_grid=param_grid, cv=5, scoring='neg_mean_squared_error')\n",
    "\n",
    "# Fit the model\n",
    "grid_search.fit(X_train, y_train)\n",
    "\n",
    "# Best parameters\n",
    "print(\"Best parameters: \", grid_search.best_params_) # {'n_estimators': 300}\n",
    "\n",
    "# Best Model\n",
    "best_rf = grid_search.best_estimator_\n",
    "predictions = best_rf.predict(X_test)\n",
    "\n",
    "rmse = np.sqrt(mean_squared_error(y_test, predictions))\n",
    "r2 = r2_score(y_test, predictions)\n",
    "\n",
    "print(f\"R2 Score: {r2}\") # R2 Score: 0.8695180956835772\n",
    "print(f\"RMSE: {rmse}\") # RMSE: 2120918.5095716747"
   ]
  }
 ],
 "metadata": {
  "colab": {
   "provenance": []
  },
  "kernelspec": {
   "display_name": "Python 3",
   "language": "python",
   "name": "python3"
  },
  "language_info": {
   "codemirror_mode": {
    "name": "ipython",
    "version": 3
   },
   "file_extension": ".py",
   "mimetype": "text/x-python",
   "name": "python",
   "nbconvert_exporter": "python",
   "pygments_lexer": "ipython3",
   "version": "3.13.0"
  }
 },
 "nbformat": 4,
 "nbformat_minor": 5
}
